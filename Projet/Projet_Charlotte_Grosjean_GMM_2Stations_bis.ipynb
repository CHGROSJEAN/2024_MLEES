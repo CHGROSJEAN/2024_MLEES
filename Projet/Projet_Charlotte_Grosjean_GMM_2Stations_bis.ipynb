{
  "nbformat": 4,
  "nbformat_minor": 0,
  "metadata": {
    "colab": {
      "provenance": [],
      "authorship_tag": "ABX9TyOLL/Y0XhPPo5v4xiq3AEaC",
      "include_colab_link": true
    },
    "kernelspec": {
      "name": "python3",
      "display_name": "Python 3"
    },
    "language_info": {
      "name": "python"
    }
  },
  "cells": [
    {
      "cell_type": "markdown",
      "metadata": {
        "id": "view-in-github",
        "colab_type": "text"
      },
      "source": [
        "<a href=\"https://colab.research.google.com/github/CHGROSJEAN/2024_MLEES/blob/main/Projet/Projet_Charlotte_Grosjean_GMM_2Stations_bis.ipynb\" target=\"_parent\"><img src=\"https://colab.research.google.com/assets/colab-badge.svg\" alt=\"Open In Colab\"/></a>"
      ]
    },
    {
      "cell_type": "markdown",
      "source": [
        "# 0. Import libraries and data\n"
      ],
      "metadata": {
        "id": "QXksE2TVITc1"
      }
    },
    {
      "cell_type": "markdown",
      "source": [
        "Frist step, simple GMM for 2 stations : Grand-Vennes and Riand-Pré."
      ],
      "metadata": {
        "id": "x5d3GYZoXr6h"
      }
    },
    {
      "cell_type": "code",
      "execution_count": 1,
      "metadata": {
        "id": "pigbLfeItiB-"
      },
      "outputs": [],
      "source": [
        "# Import\n",
        "import geopandas as gpd\n",
        "import pandas as pd\n",
        "import xarray as xr\n",
        "import numpy as np\n",
        "import matplotlib.pyplot as plt\n",
        "import matplotlib.colors as mcolors\n",
        "from matplotlib.colors import LogNorm\n",
        "import os\n",
        "from shapely.geometry import Point\n",
        "from sklearn.metrics import silhouette_score\n",
        "from sklearn.mixture import GaussianMixture\n",
        "import seaborn as sns\n",
        "from sklearn.preprocessing import StandardScaler\n"
      ]
    },
    {
      "cell_type": "markdown",
      "source": [
        "Download data sets"
      ],
      "metadata": {
        "id": "o2eBIRSWH6dg"
      }
    },
    {
      "cell_type": "code",
      "source": [
        "# Reading the Excel files\n",
        "\n",
        "geopolis = pd.read_excel(\"https://raw.githubusercontent.com/CHGROSJEAN/2024_MLEES/main/Projet/Stations/Geopolis.xlsx\")\n",
        "vclb = pd.read_excel(\"https://raw.githubusercontent.com/CHGROSJEAN/2024_MLEES/main/Projet/Stations/VersChezLesBlancs.xlsx\")\n",
        "\n",
        "\n",
        "# Displaying the first few rows of each datase\n",
        "print(\"\\nData from Geopolis:\")\n",
        "print(geopolis.head())\n",
        "\n",
        "print(\"\\nData from Vers-chez-les-Blanc:\")\n",
        "print(vclb.head())\n"
      ],
      "metadata": {
        "id": "oulEz3AxIbgs",
        "colab": {
          "base_uri": "https://localhost:8080/"
        },
        "outputId": "2afb691d-7444-4d07-c5be-374a46e243bb"
      },
      "execution_count": 2,
      "outputs": [
        {
          "output_type": "stream",
          "name": "stdout",
          "text": [
            "\n",
            "Data from Geopolis:\n",
            "   Index             DateTime  Precipitation\n",
            "0      1  11.11.2022 00:02:18              0\n",
            "1      2  11.11.2022 00:04:18              0\n",
            "2      3  11.11.2022 00:06:18              0\n",
            "3      4  11.11.2022 00:08:18              0\n",
            "4      5  11.11.2022 00:10:18              0\n",
            "\n",
            "Data from Vers-chez-les-Blanc:\n",
            "   Index             DateTime  Precipitation\n",
            "0      1  08.12.2022 00:03:45              0\n",
            "1      2  08.12.2022 00:06:45              0\n",
            "2      3  08.12.2022 00:09:45              0\n",
            "3      4  08.12.2022 00:12:45              0\n",
            "4      5  08.12.2022 00:15:45              0\n"
          ]
        }
      ]
    },
    {
      "cell_type": "code",
      "source": [
        "# Ensuring the 'DateTime' the column is of datetime type for both datasets\n",
        "geopolis['DateTime'] = pd.to_datetime(geopolis['DateTime'], dayfirst=True)\n",
        "vclb['DateTime'] = pd.to_datetime(vclb['DateTime'], dayfirst=True)\n",
        "\n",
        "# Setting the DateTime column as the index for easier time-based operations\n",
        "geopolis.set_index('DateTime', inplace=True)\n",
        "vclb.set_index('DateTime', inplace=True)"
      ],
      "metadata": {
        "id": "fyElIL3X6ghE"
      },
      "execution_count": 3,
      "outputs": []
    },
    {
      "cell_type": "markdown",
      "source": [
        "# 1. SIMPLE GMM BASELINE FOR 2 STATIONS"
      ],
      "metadata": {
        "id": "lXAUNE_qH7Fz"
      }
    },
    {
      "cell_type": "markdown",
      "source": [
        "**1.0 Preprocessing and visualization**\n"
      ],
      "metadata": {
        "id": "gkp_ccgNaFTf"
      }
    },
    {
      "cell_type": "markdown",
      "source": [],
      "metadata": {
        "id": "ARZB8Epnc2md"
      }
    },
    {
      "cell_type": "markdown",
      "source": [
        "Pre-processing the data to ensure the data is clean following the following steps:\n",
        "- Setting DateTime as the index\n",
        "- Selecting the period (data for both station)\n",
        "- Converting drops in mm\n"
      ],
      "metadata": {
        "id": "KsNkNQn5X6Lj"
      }
    },
    {
      "cell_type": "code",
      "source": [
        "#Finding the common time period between the two datasets\n",
        "start_time = max(geopolis.index.min(), vclb.index.min())\n",
        "end_time = min(geopolis.index.max(), vclb.index.max())\n",
        "\n",
        "# Filtering both datasets to the common time period\n",
        "geopolis_filtered = geopolis.loc[start_time:end_time]\n",
        "vclb_filtered = vclb.loc[start_time:end_time]\n",
        "\n",
        "# Converting precipitation from drops to mm ( 1 drop = 0.01 mm)\n",
        "geopolis_filtered['Precipitation_mm'] = geopolis_filtered['Precipitation'] * 0.01\n",
        "vclb_filtered['Precipitation_mm'] = vclb_filtered['Precipitation'] * 0.01\n",
        "\n",
        "# Plotting the data\n",
        "plt.figure(figsize=(12, 6))\n",
        "plt.plot(geopolis_filtered.index, geopolis_filtered['Precipitation_mm'], label='Geopolis', color='blue', alpha=0.7)\n",
        "plt.plot(vclb_filtered.index, vclb_filtered['Precipitation_mm'], label='Vers-chez-les-Blanc', color='green', alpha=0.7)\n",
        "\n",
        "# Adding labels, title, and legend\n",
        "plt.xlabel('Time')\n",
        "plt.ylabel('Precipitation (mm)')\n",
        "plt.title('Precipitation Over Time')\n",
        "plt.legend()\n",
        "plt.grid(True)\n",
        "\n",
        "# Display the plot\n",
        "plt.show()"
      ],
      "metadata": {
        "colab": {
          "base_uri": "https://localhost:8080/",
          "height": 792
        },
        "id": "zYJxuK8IFlNs",
        "outputId": "8f80870f-ea88-4290-b7fb-c61fbab3bd9b"
      },
      "execution_count": 4,
      "outputs": [
        {
          "output_type": "stream",
          "name": "stderr",
          "text": [
            "<ipython-input-4-6d5aeb271736>:10: SettingWithCopyWarning: \n",
            "A value is trying to be set on a copy of a slice from a DataFrame.\n",
            "Try using .loc[row_indexer,col_indexer] = value instead\n",
            "\n",
            "See the caveats in the documentation: https://pandas.pydata.org/pandas-docs/stable/user_guide/indexing.html#returning-a-view-versus-a-copy\n",
            "  geopolis_filtered['Precipitation_mm'] = geopolis_filtered['Precipitation'] * 0.01\n",
            "<ipython-input-4-6d5aeb271736>:11: SettingWithCopyWarning: \n",
            "A value is trying to be set on a copy of a slice from a DataFrame.\n",
            "Try using .loc[row_indexer,col_indexer] = value instead\n",
            "\n",
            "See the caveats in the documentation: https://pandas.pydata.org/pandas-docs/stable/user_guide/indexing.html#returning-a-view-versus-a-copy\n",
            "  vclb_filtered['Precipitation_mm'] = vclb_filtered['Precipitation'] * 0.01\n"
          ]
        },
        {
          "output_type": "display_data",
          "data": {
            "text/plain": [
              "<Figure size 1200x600 with 1 Axes>"
            ],
            "image/png": "[encoded data removed]"
          },
          "metadata": {}
        }
      ]
    },
    {
      "cell_type": "markdown",
      "source": [
        "To work with 2 staitions in a GMM model, the data needs to be aligned and merge in 1 dataset. Here are the steps followed to create this dataset:\n",
        "- Remove the seconds units to have minute precision\n",
        "- Aligning both datasets to the period (Both dataset have 3 minutes interval)\n",
        "- If some time points are still missing from one station, drop them from the analysis\n",
        "- Merge datasets in 1 dataset for GMM\n",
        "\n",
        "Normally, sensors are set to measure every three minutes, starting with the full hour, so that stations take measurements at the same minutes for easier analysis.\n",
        "\n",
        "So, when we remove the seconds, we round up to the previous minute to keep this matching.\n",
        "\n",
        "We still have a step to align the two datasets, as some sensors are not set to the same minutes and are therefore out of sync."
      ],
      "metadata": {
        "id": "lloBkzCSRSzE"
      }
    },
    {
      "cell_type": "code",
      "source": [
        "# Round down the DateTime to the previous minute (removes seconds, truncating)\n",
        "geopolis.index = geopolis.index.floor('min')  # rounded to the nearest lower minute\n",
        "vclb.index = vclb.index.floor('min')\n",
        "\n",
        "# Resampling to the closest 3-minute interval and filling missing values with NaN\n",
        "geopolis_resampled = geopolis.resample('3min').mean()\n",
        "vclb_resampled = vclb.resample('3min').mean()\n",
        "\n",
        "# Align both datasets to the common time period (intersection of their timestamps)\n",
        "start_time = max(geopolis_resampled.index.min(), vclb_resampled.index.min())\n",
        "end_time = min(geopolis_resampled.index.max(), vclb_resampled.index.max())\n",
        "\n",
        "geopolis_aligned = geopolis_resampled.loc[start_time:end_time]\n",
        "vclb_aligned = vclb_resampled.loc[start_time:end_time]\n",
        "\n",
        "# Drop rows with missing values from both datasets\n",
        "geopolis_aligned = geopolis_aligned.dropna()\n",
        "vclb_aligned = vclb_aligned.dropna()\n",
        "\n",
        "# Now both datasets are aligned and cleaned. Viewing the cleaned and aligned data\n",
        "print(\"Aligned and cleaned geopolis data:\")\n",
        "print(geopolis_aligned.head())\n",
        "\n",
        "print(\"Aligned and cleaned vclb data:\")\n",
        "print(vclb_aligned.head())\n"
      ],
      "metadata": {
        "colab": {
          "base_uri": "https://localhost:8080/"
        },
        "id": "3MkqvfzxHPTv",
        "outputId": "1072e289-a3f8-40b6-f1a3-34fe2da924cb"
      },
      "execution_count": 5,
      "outputs": [
        {
          "output_type": "stream",
          "name": "stdout",
          "text": [
            "Aligned and cleaned geopolis data:\n",
            "                       Index  Precipitation\n",
            "DateTime                                   \n",
            "2022-12-08 00:03:00  19442.0            0.0\n",
            "2022-12-08 00:06:00  19443.5            0.0\n",
            "2022-12-08 00:09:00  19445.0            0.0\n",
            "2022-12-08 00:12:00  19446.5            0.0\n",
            "2022-12-08 00:15:00  19448.0            0.0\n",
            "Aligned and cleaned vclb data:\n",
            "                     Index  Precipitation\n",
            "DateTime                                 \n",
            "2022-12-08 00:03:00    1.0            0.0\n",
            "2022-12-08 00:06:00    2.0            0.0\n",
            "2022-12-08 00:09:00    3.0            0.0\n",
            "2022-12-08 00:12:00    4.0            0.0\n",
            "2022-12-08 00:15:00    5.0            0.0\n"
          ]
        }
      ]
    },
    {
      "cell_type": "markdown",
      "source": [
        "Here is a visualization of 2 datasets to see what the data looks like"
      ],
      "metadata": {
        "id": "o-o3-61iR1Z6"
      }
    },
    {
      "cell_type": "code",
      "source": [
        "# Plotting the data for both stations\n",
        "plt.figure(figsize=(12, 6))\n",
        "\n",
        "# Plot Grand-Vennes data\n",
        "plt.plot(geopolis_aligned.index, geopolis_aligned['Precipitation'], label='Geopolis', color='blue')\n",
        "\n",
        "# Plot Riand-Pré data\n",
        "plt.plot(vclb_aligned.index, vclb_aligned['Precipitation'], label='Vers-chez-les-Blanc', color='orange')\n",
        "\n",
        "# Add labels and title\n",
        "plt.xlabel('DateTime')\n",
        "plt.ylabel('Precipitation (drops)')\n",
        "plt.title('Precipitation Over Time for Geopolis and Vers-chez-les-Blanc')\n",
        "\n",
        "# Rotate date labels for better readability\n",
        "plt.xticks(rotation=45)\n",
        "\n",
        "# Add a legend\n",
        "plt.legend()\n",
        "\n",
        "# Display the plot\n",
        "plt.tight_layout()\n",
        "plt.show()"
      ],
      "metadata": {
        "colab": {
          "base_uri": "https://localhost:8080/",
          "height": 554
        },
        "id": "FVmdp1uANBKK",
        "outputId": "18b8e76c-dc84-42bc-c1ea-496d5ff0ee0d"
      },
      "execution_count": 6,
      "outputs": [
        {
          "output_type": "display_data",
          "data": {
            "text/plain": [
              "<Figure size 1200x600 with 1 Axes>"
            ],
            "image/png": "[encoded data removed]"
          },
          "metadata": {}
        }
      ]
    },
    {
      "cell_type": "markdown",
      "source": [
        "Final step to merge the datasets"
      ],
      "metadata": {
        "id": "eamqZYhDii4P"
      }
    },
    {
      "cell_type": "code",
      "source": [
        "# Merge the datasets on the 'DateTime' index\n",
        "combined_data = pd.merge(geopolis_aligned[['Precipitation']],\n",
        "                         vclb_aligned[['Precipitation']],\n",
        "                         left_index=True, right_index=True,\n",
        "                         suffixes=('_geopolis', '_vclb'))\n",
        "\n",
        "# Display the first few rows of the combined data\n",
        "print(\"Combined Precipitation Data:\")\n",
        "print(combined_data.head())\n",
        "print(combined_data.shape)"
      ],
      "metadata": {
        "colab": {
          "base_uri": "https://localhost:8080/"
        },
        "id": "k2LqPBrXNsx4",
        "outputId": "749dd891-eae4-42cb-9f43-44f99282978d"
      },
      "execution_count": 7,
      "outputs": [
        {
          "output_type": "stream",
          "name": "stdout",
          "text": [
            "Combined Precipitation Data:\n",
            "                     Precipitation_geopolis  Precipitation_vclb\n",
            "DateTime                                                       \n",
            "2022-12-08 00:03:00                     0.0                 0.0\n",
            "2022-12-08 00:06:00                     0.0                 0.0\n",
            "2022-12-08 00:09:00                     0.0                 0.0\n",
            "2022-12-08 00:12:00                     0.0                 0.0\n",
            "2022-12-08 00:15:00                     0.0                 0.0\n",
            "(135401, 2)\n"
          ]
        }
      ]
    },
    {
      "cell_type": "markdown",
      "source": [
        "**1.1 Splitting dataset**"
      ],
      "metadata": {
        "id": "X7rhMsvqSNSo"
      }
    },
    {
      "cell_type": "markdown",
      "source": [
        "Split the dataset following this repartition\n",
        "- First 70% = Training set\n",
        "- Next 15% = Validation set  \n",
        "- Last 15% = Testing set"
      ],
      "metadata": {
        "id": "1PCpPuvEdW5x"
      }
    },
    {
      "cell_type": "code",
      "source": [
        "# Calculate the index for the splits\n",
        "train_size = int(0.7 * len(combined_data))  # 70% for training\n",
        "val_size = int(0.15 * len(combined_data))  # 15% for validation\n",
        "test_size = len(combined_data) - train_size - val_size  # 15% for testing\n",
        "\n",
        "# Split the data sequentially\n",
        "train_data = combined_data[:train_size]\n",
        "val_data = combined_data[train_size:train_size + val_size]\n",
        "test_data = combined_data[train_size + val_size:]\n",
        "\n",
        "# Display the sizes of each dataset\n",
        "print(f\"Training set size: {len(train_data)}\")\n",
        "print(f\"Validation set size: {len(val_data)}\")\n",
        "print(f\"Test set size: {len(test_data)}\")\n",
        "\n",
        "# Display the first few rows of each dataset\n",
        "print(\"\\nTraining Data:\")\n",
        "print(train_data.head())\n",
        "\n",
        "print(\"\\nValidation Data:\")\n",
        "print(val_data.head())\n",
        "\n",
        "print(\"\\nTest Data:\")\n",
        "print(test_data.head())\n"
      ],
      "metadata": {
        "colab": {
          "base_uri": "https://localhost:8080/"
        },
        "id": "IAlOBJ0aOQRr",
        "outputId": "abfd41c4-8535-41bf-9f7b-29f9fd533e4f"
      },
      "execution_count": 8,
      "outputs": [
        {
          "output_type": "stream",
          "name": "stdout",
          "text": [
            "Training set size: 94780\n",
            "Validation set size: 20310\n",
            "Test set size: 20311\n",
            "\n",
            "Training Data:\n",
            "                     Precipitation_geopolis  Precipitation_vclb\n",
            "DateTime                                                       \n",
            "2022-12-08 00:03:00                     0.0                 0.0\n",
            "2022-12-08 00:06:00                     0.0                 0.0\n",
            "2022-12-08 00:09:00                     0.0                 0.0\n",
            "2022-12-08 00:12:00                     0.0                 0.0\n",
            "2022-12-08 00:15:00                     0.0                 0.0\n",
            "\n",
            "Validation Data:\n",
            "                     Precipitation_geopolis  Precipitation_vclb\n",
            "DateTime                                                       \n",
            "2023-08-12 16:03:00                     0.0                 0.0\n",
            "2023-08-12 16:06:00                     0.0                 0.0\n",
            "2023-08-12 16:09:00                     0.0                 0.0\n",
            "2023-08-12 16:12:00                     0.0                 0.0\n",
            "2023-08-12 16:15:00                     0.0                 0.0\n",
            "\n",
            "Test Data:\n",
            "                     Precipitation_geopolis  Precipitation_vclb\n",
            "DateTime                                                       \n",
            "2023-09-23 23:33:00                     0.0                 0.0\n",
            "2023-09-23 23:36:00                     0.0                 0.0\n",
            "2023-09-23 23:39:00                     0.0                 0.0\n",
            "2023-09-23 23:42:00                     0.0                 0.0\n",
            "2023-09-23 23:45:00                     0.0                 0.0\n"
          ]
        }
      ]
    },
    {
      "cell_type": "code",
      "source": [
        "# Extract X for each dataset\n",
        "# For training data\n",
        "X_train = train_data[['Precipitation_geopolis', 'Precipitation_vclb']]  # Features (precipitation from both stations)\n",
        "\n",
        "# For validation data\n",
        "X_valid = val_data[['Precipitation_geopolis', 'Precipitation_vclb']]  # Features (precipitation from both stations)\n",
        "\n",
        "# For test data\n",
        "X_test = test_data[['Precipitation_geopolis', 'Precipitation_vclb']]  # Features (precipitation from both stations)\n",
        "\n",
        "# Display the first few rows of the extracted data\n",
        "print(\"X_train:\")\n",
        "print(X_train.head())\n",
        "\n",
        "print(\"\\nX_valid:\")\n",
        "print(X_valid.head())\n",
        "\n",
        "print(\"\\nX_test:\")\n",
        "print(X_test.head())\n",
        "print(type(X_test))"
      ],
      "metadata": {
        "colab": {
          "base_uri": "https://localhost:8080/"
        },
        "id": "fA2qoBuxSF0r",
        "outputId": "ee79c185-7bbd-432d-9009-80187e6cda95"
      },
      "execution_count": 9,
      "outputs": [
        {
          "output_type": "stream",
          "name": "stdout",
          "text": [
            "X_train:\n",
            "                     Precipitation_geopolis  Precipitation_vclb\n",
            "DateTime                                                       \n",
            "2022-12-08 00:03:00                     0.0                 0.0\n",
            "2022-12-08 00:06:00                     0.0                 0.0\n",
            "2022-12-08 00:09:00                     0.0                 0.0\n",
            "2022-12-08 00:12:00                     0.0                 0.0\n",
            "2022-12-08 00:15:00                     0.0                 0.0\n",
            "\n",
            "X_valid:\n",
            "                     Precipitation_geopolis  Precipitation_vclb\n",
            "DateTime                                                       \n",
            "2023-08-12 16:03:00                     0.0                 0.0\n",
            "2023-08-12 16:06:00                     0.0                 0.0\n",
            "2023-08-12 16:09:00                     0.0                 0.0\n",
            "2023-08-12 16:12:00                     0.0                 0.0\n",
            "2023-08-12 16:15:00                     0.0                 0.0\n",
            "\n",
            "X_test:\n",
            "                     Precipitation_geopolis  Precipitation_vclb\n",
            "DateTime                                                       \n",
            "2023-09-23 23:33:00                     0.0                 0.0\n",
            "2023-09-23 23:36:00                     0.0                 0.0\n",
            "2023-09-23 23:39:00                     0.0                 0.0\n",
            "2023-09-23 23:42:00                     0.0                 0.0\n",
            "2023-09-23 23:45:00                     0.0                 0.0\n",
            "<class 'pandas.core.frame.DataFrame'>\n"
          ]
        }
      ]
    },
    {
      "cell_type": "code",
      "source": [
        "scaler = StandardScaler()\n",
        "X_train_scaled = scaler.fit_transform(X_train)\n",
        "X_train = pd.DataFrame(X_train_scaled, columns=X_train.columns, index=X_train.index)\n",
        "\n",
        "X_valid_scaled = scaler.transform(X_valid)\n",
        "X_valid = pd.DataFrame(X_valid_scaled, columns=X_valid.columns, index=X_valid.index)\n",
        "\n",
        "X_test_scaled = scaler.transform(X_test)\n",
        "X_test = pd.DataFrame(X_test_scaled, columns=X_test.columns, index=X_test.index)\n",
        "\n",
        "# Display the first few rows of the scaled data to verify\n",
        "print(\"Scaled X_train:\")\n",
        "print(X_train.head())\n",
        "\n",
        "print(\"\\nScaled X_valid:\")\n",
        "print(X_valid.head())\n",
        "\n",
        "print(\"\\nScaled X_test:\")\n",
        "print(X_test.head())"
      ],
      "metadata": {
        "id": "VcJ8BkuaT8Q7",
        "outputId": "04b14ce3-5653-4334-9c29-20292df26607",
        "colab": {
          "base_uri": "https://localhost:8080/"
        }
      },
      "execution_count": 10,
      "outputs": [
        {
          "output_type": "stream",
          "name": "stdout",
          "text": [
            "Scaled X_train:\n",
            "                     Precipitation_geopolis  Precipitation_vclb\n",
            "DateTime                                                       \n",
            "2022-12-08 00:03:00               -0.095402           -0.030606\n",
            "2022-12-08 00:06:00               -0.095402           -0.030606\n",
            "2022-12-08 00:09:00               -0.095402           -0.030606\n",
            "2022-12-08 00:12:00               -0.095402           -0.030606\n",
            "2022-12-08 00:15:00               -0.095402           -0.030606\n",
            "\n",
            "Scaled X_valid:\n",
            "                     Precipitation_geopolis  Precipitation_vclb\n",
            "DateTime                                                       \n",
            "2023-08-12 16:03:00               -0.095402           -0.030606\n",
            "2023-08-12 16:06:00               -0.095402           -0.030606\n",
            "2023-08-12 16:09:00               -0.095402           -0.030606\n",
            "2023-08-12 16:12:00               -0.095402           -0.030606\n",
            "2023-08-12 16:15:00               -0.095402           -0.030606\n",
            "\n",
            "Scaled X_test:\n",
            "                     Precipitation_geopolis  Precipitation_vclb\n",
            "DateTime                                                       \n",
            "2023-09-23 23:33:00               -0.095402           -0.030606\n",
            "2023-09-23 23:36:00               -0.095402           -0.030606\n",
            "2023-09-23 23:39:00               -0.095402           -0.030606\n",
            "2023-09-23 23:42:00               -0.095402           -0.030606\n",
            "2023-09-23 23:45:00               -0.095402           -0.030606\n"
          ]
        }
      ]
    },
    {
      "cell_type": "markdown",
      "source": [
        "**1.2 Hyperparameter test**"
      ],
      "metadata": {
        "id": "7RqBFcyIRdsS"
      }
    },
    {
      "cell_type": "markdown",
      "source": [
        "**1..2 Evaluation of components range**\n",
        "\n",
        "Using Bayesian Information Criterion. It is optimal for selecting the optimal model when the number of data points is large\n",
        "\n",
        "The range tested is from 2 to 10 components"
      ],
      "metadata": {
        "id": "3b9OCMbwiHak"
      }
    },
    {
      "cell_type": "code",
      "source": [
        "# Range of components to evaluate\n",
        "component_range = range(10, 30)  # For component numbers 2, 3, 4, 5, 6, 7, 8, 9, 10\n",
        "\n",
        "# Store results\n",
        "models = {}\n",
        "bic_scores = []\n",
        "silhouette_scores = []\n",
        "\n",
        "# Loop through the range of components\n",
        "for n_components in component_range:\n",
        "    # Create and fit the Gaussian Mixture Model\n",
        "    gmm = GaussianMixture(n_components=n_components, random_state=42)\n",
        "    gmm.fit(X_train)  # Assuming X_train is your data\n",
        "\n",
        "    # Store the model and metrics\n",
        "    models[n_components] = gmm\n",
        "    bic_scores.append(gmm.bic(X_train))\n",
        "\n",
        "    # Predict cluster labels\n",
        "    labels = gmm.predict(X_train)\n",
        "\n",
        "    # Calculate silhouette score\n",
        "    silhouette = silhouette_score(X_train, labels)\n",
        "    silhouette_scores.append(silhouette)\n",
        "\n"
      ],
      "metadata": {
        "id": "01yD0_uRb5gA"
      },
      "execution_count": null,
      "outputs": []
    },
    {
      "cell_type": "markdown",
      "source": [
        "Higher range of component with break"
      ],
      "metadata": {
        "id": "b025FGvSPXiU"
      }
    },
    {
      "cell_type": "code",
      "source": [
        "from sklearn.mixture import GaussianMixture\n",
        "from sklearn.metrics import silhouette_score\n",
        "import numpy as np\n",
        "\n",
        "# Range of components to evaluate\n",
        "component_range = range(2, 100)\n",
        "\n",
        "# Store results\n",
        "models = {}\n",
        "bic_scores = []\n",
        "silhouette_scores = []\n",
        "\n",
        "# Threshold for stopping (relative improvement in BIC)\n",
        "tolerance = 0.001\n",
        "\n",
        "# Loop through the range of components\n",
        "for n_components in component_range:\n",
        "    # Create and fit the Gaussian Mixture Model\n",
        "    gmm = GaussianMixture(n_components=n_components, random_state=42)\n",
        "    gmm.fit(X_train)  # Assuming X_train is your data\n",
        "\n",
        "    # Store the model and metrics\n",
        "    models[n_components] = gmm\n",
        "    bic = gmm.bic(X_train)\n",
        "    bic_scores.append(bic)\n",
        "\n",
        "    # Predict cluster labels\n",
        "    labels = gmm.predict(X_train)\n",
        "\n",
        "    # Calculate silhouette score\n",
        "    silhouette = silhouette_score(X_train, labels)\n",
        "    silhouette_scores.append(silhouette)\n",
        "\n",
        "    # Print progress\n",
        "    print(f\"Components: {n_components}, BIC: {bic:.2f}, Silhouette: {silhouette:.2f}\")\n",
        "\n",
        "    # Check stopping condition for BIC\n",
        "    if len(bic_scores) > 1:\n",
        "        relative_improvement = abs(bic_scores[-2] - bic_scores[-1]) / abs(bic_scores[-2])\n",
        "        if relative_improvement < tolerance:\n",
        "            print(f\"Stopping early at n_components={n_components} due to minimal improvement in BIC.\")\n",
        "            break\n",
        "\n",
        "# Retrieve the optimal number of components\n",
        "optimal_components = component_range[bic_scores.index(min(bic_scores))]\n",
        "print(f\"Optimal number of components based on BIC: {optimal_components}\")\n"
      ],
      "metadata": {
        "id": "a--L2F3YPCay",
        "outputId": "3c09de13-2f19-4a81-d983-d264ec836fc6",
        "colab": {
          "base_uri": "https://localhost:8080/"
        }
      },
      "execution_count": 12,
      "outputs": [
        {
          "output_type": "stream",
          "name": "stdout",
          "text": [
            "Components: 2, BIC: -1999652.72, Silhouette: 0.90\n",
            "Components: 3, BIC: -2096508.11, Silhouette: 0.91\n",
            "Components: 4, BIC: -2106579.54, Silhouette: 0.92\n",
            "Components: 5, BIC: -2108022.95, Silhouette: 0.92\n",
            "Stopping early at n_components=5 due to minimal improvement in BIC.\n",
            "Optimal number of components based on BIC: 5\n"
          ]
        }
      ]
    },
    {
      "cell_type": "code",
      "source": [
        "# Plot BIC, and Silhouette Score for each number of components\n",
        "plt.figure(figsize=(12, 6))\n",
        "\n",
        "\n",
        "# Plot BIC\n",
        "plt.subplot(1, 2, 1)\n",
        "plt.plot(component_range, bic_scores, marker='o')\n",
        "plt.title('BIC for each number of components')\n",
        "plt.xlabel('Number of Components')\n",
        "plt.ylabel('BIC')\n",
        "\n",
        "# Plot Silhouette Score\n",
        "plt.subplot(1, 2, 2)\n",
        "plt.plot(component_range, silhouette_scores, marker='o')\n",
        "plt.title('Silhouette Score for each number of components')\n",
        "plt.xlabel('Number of Components')\n",
        "plt.ylabel('Silhouette Score')\n",
        "\n",
        "plt.tight_layout()\n",
        "\n",
        "# Save the figure as a PDF\n",
        "output_path = \"plot_bic_silhouette.pdf\"\n",
        "plt.savefig(output_path, format='pdf')\n",
        "\n",
        "\n",
        "plt.show()\n",
        "\n",
        "# Select the best model based on the criteria you prefer (AIC, BIC, or silhouette score)\n",
        "best_n_components = component_range[np.argmin(bic_scores)]\n",
        "best_gmm_model = models[best_n_components]\n",
        "print(f\"Best number of components: {best_n_components} based on BIC\")\n"
      ],
      "metadata": {
        "colab": {
          "base_uri": "https://localhost:8080/",
          "height": 571
        },
        "id": "NeOtGMpkN3Ca",
        "outputId": "5843ddb2-d3ff-4f8f-995f-6d77d22bd662"
      },
      "execution_count": 14,
      "outputs": [
        {
          "output_type": "display_data",
          "data": {
            "text/plain": [
              "<Figure size 1200x600 with 2 Axes>"
            ],
            "image/png": "[encoded data removed]"
          },
          "metadata": {}
        },
        {
          "output_type": "stream",
          "name": "stdout",
          "text": [
            "Best number of components: 18 based on BIC\n"
          ]
        }
      ]
    },
    {
      "cell_type": "markdown",
      "source": [
        "**1.2.3 Combinatiton of hyperparameters**\n",
        "\n",
        "Trying 4 co-variance option: full, tied, diagonal, spherical with the number of cluster range from 2 to 6."
      ],
      "metadata": {
        "id": "S1wM_qf3l9yY"
      }
    },
    {
      "cell_type": "code",
      "source": [
        "#search for best combination of values for both the number of clusters\n",
        "#and the covariance_type hyperparameter:\n",
        "\n",
        "min_bic = np.infty\n",
        "\n",
        "for k in range(15, 20):\n",
        "    for covariance_type in (\"full\", \"tied\", \"spherical\", \"diag\"):\n",
        "        bic = GaussianMixture(n_components=k, n_init=10,\n",
        "                              covariance_type=covariance_type,\n",
        "                              random_state=42).fit(X_train).bic(X_train)\n",
        "        if bic < min_bic:\n",
        "            min_bic = bic\n",
        "            best_k = k\n",
        "            best_covariance_type = covariance_type\n",
        "\n",
        "print('best_k')\n",
        "print(best_k)\n",
        "print('best_covariance_type')\n",
        "print(best_covariance_type)\n",
        "\n"
      ],
      "metadata": {
        "colab": {
          "base_uri": "https://localhost:8080/"
        },
        "id": "bXF81iz1okob",
        "outputId": "5863b821-ef7e-421e-db72-b965190dcda6"
      },
      "execution_count": 15,
      "outputs": [
        {
          "output_type": "stream",
          "name": "stdout",
          "text": [
            "best_k\n",
            "19\n",
            "best_covariance_type\n",
            "diag\n"
          ]
        }
      ]
    },
    {
      "cell_type": "markdown",
      "source": [
        "**1.3 Initialization of Gaussian Mixture Model**"
      ],
      "metadata": {
        "id": "tjWSIz5DSiag"
      }
    },
    {
      "cell_type": "code",
      "source": [
        "# Initialize the Gaussian Mixture Model with 2 components\n",
        "gmm = GaussianMixture(n_components=19, covariance_type='diag', random_state=42)\n"
      ],
      "metadata": {
        "id": "h8hckZwcSiHG"
      },
      "execution_count": 16,
      "outputs": []
    },
    {
      "cell_type": "code",
      "source": [
        "# Fit the GMM model to the training data (X_train)\n",
        "gmm.fit(X_train)"
      ],
      "metadata": {
        "colab": {
          "base_uri": "https://localhost:8080/",
          "height": 80
        },
        "id": "VOnxtDCEV18O",
        "outputId": "cea1682e-cf3b-48f7-d1d3-85eae5795398"
      },
      "execution_count": 17,
      "outputs": [
        {
          "output_type": "execute_result",
          "data": {
            "text/plain": [
              "GaussianMixture(covariance_type='diag', n_components=19, random_state=42)"
            ],
            "text/html": [
              "<style>#sk-container-id-1 {\n",
              "  /* Definition of color scheme common for light and dark mode */\n",
              "  --sklearn-color-text: black;\n",
              "  --sklearn-color-line: gray;\n",
              "  /* Definition of color scheme for unfitted estimators */\n",
              "  --sklearn-color-unfitted-level-0: #fff5e6;\n",
              "  --sklearn-color-unfitted-level-1: #f6e4d2;\n",
              "  --sklearn-color-unfitted-level-2: #ffe0b3;\n",
              "  --sklearn-color-unfitted-level-3: chocolate;\n",
              "  /* Definition of color scheme for fitted estimators */\n",
              "  --sklearn-color-fitted-level-0: #f0f8ff;\n",
              "  --sklearn-color-fitted-level-1: #d4ebff;\n",
              "  --sklearn-color-fitted-level-2: #b3dbfd;\n",
              "  --sklearn-color-fitted-level-3: cornflowerblue;\n",
              "\n",
              "  /* Specific color for light theme */\n",
              "  --sklearn-color-text-on-default-background: var(--sg-text-color, var(--theme-code-foreground, var(--jp-content-font-color1, black)));\n",
              "  --sklearn-color-background: var(--sg-background-color, var(--theme-background, var(--jp-layout-color0, white)));\n",
              "  --sklearn-color-border-box: var(--sg-text-color, var(--theme-code-foreground, var(--jp-content-font-color1, black)));\n",
              "  --sklearn-color-icon: #696969;\n",
              "\n",
              "  @media (prefers-color-scheme: dark) {\n",
              "    /* Redefinition of color scheme for dark theme */\n",
              "    --sklearn-color-text-on-default-background: var(--sg-text-color, var(--theme-code-foreground, var(--jp-content-font-color1, white)));\n",
              "    --sklearn-color-background: var(--sg-background-color, var(--theme-background, var(--jp-layout-color0, #111)));\n",
              "    --sklearn-color-border-box: var(--sg-text-color, var(--theme-code-foreground, var(--jp-content-font-color1, white)));\n",
              "    --sklearn-color-icon: #878787;\n",
              "  }\n",
              "}\n",
              "\n",
              "#sk-container-id-1 {\n",
              "  color: var(--sklearn-color-text);\n",
              "}\n",
              "\n",
              "#sk-container-id-1 pre {\n",
              "  padding: 0;\n",
              "}\n",
              "\n",
              "#sk-container-id-1 input.sk-hidden--visually {\n",
              "  border: 0;\n",
              "  clip: rect(1px 1px 1px 1px);\n",
              "  clip: rect(1px, 1px, 1px, 1px);\n",
              "  height: 1px;\n",
              "  margin: -1px;\n",
              "  overflow: hidden;\n",
              "  padding: 0;\n",
              "  position: absolute;\n",
              "  width: 1px;\n",
              "}\n",
              "\n",
              "#sk-container-id-1 div.sk-dashed-wrapped {\n",
              "  border: 1px dashed var(--sklearn-color-line);\n",
              "  margin: 0 0.4em 0.5em 0.4em;\n",
              "  box-sizing: border-box;\n",
              "  padding-bottom: 0.4em;\n",
              "  background-color: var(--sklearn-color-background);\n",
              "}\n",
              "\n",
              "#sk-container-id-1 div.sk-container {\n",
              "  /* jupyter's `normalize.less` sets `[hidden] { display: none; }`\n",
              "     but bootstrap.min.css set `[hidden] { display: none !important; }`\n",
              "     so we also need the `!important` here to be able to override the\n",
              "     default hidden behavior on the sphinx rendered scikit-learn.org.\n",
              "     See: https://github.com/scikit-learn/scikit-learn/issues/21755 */\n",
              "  display: inline-block !important;\n",
              "  position: relative;\n",
              "}\n",
              "\n",
              "#sk-container-id-1 div.sk-text-repr-fallback {\n",
              "  display: none;\n",
              "}\n",
              "\n",
              "div.sk-parallel-item,\n",
              "div.sk-serial,\n",
              "div.sk-item {\n",
              "  /* draw centered vertical line to link estimators */\n",
              "  background-image: linear-gradient(var(--sklearn-color-text-on-default-background), var(--sklearn-color-text-on-default-background));\n",
              "  background-size: 2px 100%;\n",
              "  background-repeat: no-repeat;\n",
              "  background-position: center center;\n",
              "}\n",
              "\n",
              "/* Parallel-specific style estimator block */\n",
              "\n",
              "#sk-container-id-1 div.sk-parallel-item::after {\n",
              "  content: \"\";\n",
              "  width: 100%;\n",
              "  border-bottom: 2px solid var(--sklearn-color-text-on-default-background);\n",
              "  flex-grow: 1;\n",
              "}\n",
              "\n",
              "#sk-container-id-1 div.sk-parallel {\n",
              "  display: flex;\n",
              "  align-items: stretch;\n",
              "  justify-content: center;\n",
              "  background-color: var(--sklearn-color-background);\n",
              "  position: relative;\n",
              "}\n",
              "\n",
              "#sk-container-id-1 div.sk-parallel-item {\n",
              "  display: flex;\n",
              "  flex-direction: column;\n",
              "}\n",
              "\n",
              "#sk-container-id-1 div.sk-parallel-item:first-child::after {\n",
              "  align-self: flex-end;\n",
              "  width: 50%;\n",
              "}\n",
              "\n",
              "#sk-container-id-1 div.sk-parallel-item:last-child::after {\n",
              "  align-self: flex-start;\n",
              "  width: 50%;\n",
              "}\n",
              "\n",
              "#sk-container-id-1 div.sk-parallel-item:only-child::after {\n",
              "  width: 0;\n",
              "}\n",
              "\n",
              "/* Serial-specific style estimator block */\n",
              "\n",
              "#sk-container-id-1 div.sk-serial {\n",
              "  display: flex;\n",
              "  flex-direction: column;\n",
              "  align-items: center;\n",
              "  background-color: var(--sklearn-color-background);\n",
              "  padding-right: 1em;\n",
              "  padding-left: 1em;\n",
              "}\n",
              "\n",
              "\n",
              "/* Toggleable style: style used for estimator/Pipeline/ColumnTransformer box that is\n",
              "clickable and can be expanded/collapsed.\n",
              "- Pipeline and ColumnTransformer use this feature and define the default style\n",
              "- Estimators will overwrite some part of the style using the `sk-estimator` class\n",
              "*/\n",
              "\n",
              "/* Pipeline and ColumnTransformer style (default) */\n",
              "\n",
              "#sk-container-id-1 div.sk-toggleable {\n",
              "  /* Default theme specific background. It is overwritten whether we have a\n",
              "  specific estimator or a Pipeline/ColumnTransformer */\n",
              "  background-color: var(--sklearn-color-background);\n",
              "}\n",
              "\n",
              "/* Toggleable label */\n",
              "#sk-container-id-1 label.sk-toggleable__label {\n",
              "  cursor: pointer;\n",
              "  display: block;\n",
              "  width: 100%;\n",
              "  margin-bottom: 0;\n",
              "  padding: 0.5em;\n",
              "  box-sizing: border-box;\n",
              "  text-align: center;\n",
              "}\n",
              "\n",
              "#sk-container-id-1 label.sk-toggleable__label-arrow:before {\n",
              "  /* Arrow on the left of the label */\n",
              "  content: \"▸\";\n",
              "  float: left;\n",
              "  margin-right: 0.25em;\n",
              "  color: var(--sklearn-color-icon);\n",
              "}\n",
              "\n",
              "#sk-container-id-1 label.sk-toggleable__label-arrow:hover:before {\n",
              "  color: var(--sklearn-color-text);\n",
              "}\n",
              "\n",
              "/* Toggleable content - dropdown */\n",
              "\n",
              "#sk-container-id-1 div.sk-toggleable__content {\n",
              "  max-height: 0;\n",
              "  max-width: 0;\n",
              "  overflow: hidden;\n",
              "  text-align: left;\n",
              "  /* unfitted */\n",
              "  background-color: var(--sklearn-color-unfitted-level-0);\n",
              "}\n",
              "\n",
              "#sk-container-id-1 div.sk-toggleable__content.fitted {\n",
              "  /* fitted */\n",
              "  background-color: var(--sklearn-color-fitted-level-0);\n",
              "}\n",
              "\n",
              "#sk-container-id-1 div.sk-toggleable__content pre {\n",
              "  margin: 0.2em;\n",
              "  border-radius: 0.25em;\n",
              "  color: var(--sklearn-color-text);\n",
              "  /* unfitted */\n",
              "  background-color: var(--sklearn-color-unfitted-level-0);\n",
              "}\n",
              "\n",
              "#sk-container-id-1 div.sk-toggleable__content.fitted pre {\n",
              "  /* unfitted */\n",
              "  background-color: var(--sklearn-color-fitted-level-0);\n",
              "}\n",
              "\n",
              "#sk-container-id-1 input.sk-toggleable__control:checked~div.sk-toggleable__content {\n",
              "  /* Expand drop-down */\n",
              "  max-height: 200px;\n",
              "  max-width: 100%;\n",
              "  overflow: auto;\n",
              "}\n",
              "\n",
              "#sk-container-id-1 input.sk-toggleable__control:checked~label.sk-toggleable__label-arrow:before {\n",
              "  content: \"▾\";\n",
              "}\n",
              "\n",
              "/* Pipeline/ColumnTransformer-specific style */\n",
              "\n",
              "#sk-container-id-1 div.sk-label input.sk-toggleable__control:checked~label.sk-toggleable__label {\n",
              "  color: var(--sklearn-color-text);\n",
              "  background-color: var(--sklearn-color-unfitted-level-2);\n",
              "}\n",
              "\n",
              "#sk-container-id-1 div.sk-label.fitted input.sk-toggleable__control:checked~label.sk-toggleable__label {\n",
              "  background-color: var(--sklearn-color-fitted-level-2);\n",
              "}\n",
              "\n",
              "/* Estimator-specific style */\n",
              "\n",
              "/* Colorize estimator box */\n",
              "#sk-container-id-1 div.sk-estimator input.sk-toggleable__control:checked~label.sk-toggleable__label {\n",
              "  /* unfitted */\n",
              "  background-color: var(--sklearn-color-unfitted-level-2);\n",
              "}\n",
              "\n",
              "#sk-container-id-1 div.sk-estimator.fitted input.sk-toggleable__control:checked~label.sk-toggleable__label {\n",
              "  /* fitted */\n",
              "  background-color: var(--sklearn-color-fitted-level-2);\n",
              "}\n",
              "\n",
              "#sk-container-id-1 div.sk-label label.sk-toggleable__label,\n",
              "#sk-container-id-1 div.sk-label label {\n",
              "  /* The background is the default theme color */\n",
              "  color: var(--sklearn-color-text-on-default-background);\n",
              "}\n",
              "\n",
              "/* On hover, darken the color of the background */\n",
              "#sk-container-id-1 div.sk-label:hover label.sk-toggleable__label {\n",
              "  color: var(--sklearn-color-text);\n",
              "  background-color: var(--sklearn-color-unfitted-level-2);\n",
              "}\n",
              "\n",
              "/* Label box, darken color on hover, fitted */\n",
              "#sk-container-id-1 div.sk-label.fitted:hover label.sk-toggleable__label.fitted {\n",
              "  color: var(--sklearn-color-text);\n",
              "  background-color: var(--sklearn-color-fitted-level-2);\n",
              "}\n",
              "\n",
              "/* Estimator label */\n",
              "\n",
              "#sk-container-id-1 div.sk-label label {\n",
              "  font-family: monospace;\n",
              "  font-weight: bold;\n",
              "  display: inline-block;\n",
              "  line-height: 1.2em;\n",
              "}\n",
              "\n",
              "#sk-container-id-1 div.sk-label-container {\n",
              "  text-align: center;\n",
              "}\n",
              "\n",
              "/* Estimator-specific */\n",
              "#sk-container-id-1 div.sk-estimator {\n",
              "  font-family: monospace;\n",
              "  border: 1px dotted var(--sklearn-color-border-box);\n",
              "  border-radius: 0.25em;\n",
              "  box-sizing: border-box;\n",
              "  margin-bottom: 0.5em;\n",
              "  /* unfitted */\n",
              "  background-color: var(--sklearn-color-unfitted-level-0);\n",
              "}\n",
              "\n",
              "#sk-container-id-1 div.sk-estimator.fitted {\n",
              "  /* fitted */\n",
              "  background-color: var(--sklearn-color-fitted-level-0);\n",
              "}\n",
              "\n",
              "/* on hover */\n",
              "#sk-container-id-1 div.sk-estimator:hover {\n",
              "  /* unfitted */\n",
              "  background-color: var(--sklearn-color-unfitted-level-2);\n",
              "}\n",
              "\n",
              "#sk-container-id-1 div.sk-estimator.fitted:hover {\n",
              "  /* fitted */\n",
              "  background-color: var(--sklearn-color-fitted-level-2);\n",
              "}\n",
              "\n",
              "/* Specification for estimator info (e.g. \"i\" and \"?\") */\n",
              "\n",
              "/* Common style for \"i\" and \"?\" */\n",
              "\n",
              ".sk-estimator-doc-link,\n",
              "a:link.sk-estimator-doc-link,\n",
              "a:visited.sk-estimator-doc-link {\n",
              "  float: right;\n",
              "  font-size: smaller;\n",
              "  line-height: 1em;\n",
              "  font-family: monospace;\n",
              "  background-color: var(--sklearn-color-background);\n",
              "  border-radius: 1em;\n",
              "  height: 1em;\n",
              "  width: 1em;\n",
              "  text-decoration: none !important;\n",
              "  margin-left: 1ex;\n",
              "  /* unfitted */\n",
              "  border: var(--sklearn-color-unfitted-level-1) 1pt solid;\n",
              "  color: var(--sklearn-color-unfitted-level-1);\n",
              "}\n",
              "\n",
              ".sk-estimator-doc-link.fitted,\n",
              "a:link.sk-estimator-doc-link.fitted,\n",
              "a:visited.sk-estimator-doc-link.fitted {\n",
              "  /* fitted */\n",
              "  border: var(--sklearn-color-fitted-level-1) 1pt solid;\n",
              "  color: var(--sklearn-color-fitted-level-1);\n",
              "}\n",
              "\n",
              "/* On hover */\n",
              "div.sk-estimator:hover .sk-estimator-doc-link:hover,\n",
              ".sk-estimator-doc-link:hover,\n",
              "div.sk-label-container:hover .sk-estimator-doc-link:hover,\n",
              ".sk-estimator-doc-link:hover {\n",
              "  /* unfitted */\n",
              "  background-color: var(--sklearn-color-unfitted-level-3);\n",
              "  color: var(--sklearn-color-background);\n",
              "  text-decoration: none;\n",
              "}\n",
              "\n",
              "div.sk-estimator.fitted:hover .sk-estimator-doc-link.fitted:hover,\n",
              ".sk-estimator-doc-link.fitted:hover,\n",
              "div.sk-label-container:hover .sk-estimator-doc-link.fitted:hover,\n",
              ".sk-estimator-doc-link.fitted:hover {\n",
              "  /* fitted */\n",
              "  background-color: var(--sklearn-color-fitted-level-3);\n",
              "  color: var(--sklearn-color-background);\n",
              "  text-decoration: none;\n",
              "}\n",
              "\n",
              "/* Span, style for the box shown on hovering the info icon */\n",
              ".sk-estimator-doc-link span {\n",
              "  display: none;\n",
              "  z-index: 9999;\n",
              "  position: relative;\n",
              "  font-weight: normal;\n",
              "  right: .2ex;\n",
              "  padding: .5ex;\n",
              "  margin: .5ex;\n",
              "  width: min-content;\n",
              "  min-width: 20ex;\n",
              "  max-width: 50ex;\n",
              "  color: var(--sklearn-color-text);\n",
              "  box-shadow: 2pt 2pt 4pt #999;\n",
              "  /* unfitted */\n",
              "  background: var(--sklearn-color-unfitted-level-0);\n",
              "  border: .5pt solid var(--sklearn-color-unfitted-level-3);\n",
              "}\n",
              "\n",
              ".sk-estimator-doc-link.fitted span {\n",
              "  /* fitted */\n",
              "  background: var(--sklearn-color-fitted-level-0);\n",
              "  border: var(--sklearn-color-fitted-level-3);\n",
              "}\n",
              "\n",
              ".sk-estimator-doc-link:hover span {\n",
              "  display: block;\n",
              "}\n",
              "\n",
              "/* \"?\"-specific style due to the `<a>` HTML tag */\n",
              "\n",
              "#sk-container-id-1 a.estimator_doc_link {\n",
              "  float: right;\n",
              "  font-size: 1rem;\n",
              "  line-height: 1em;\n",
              "  font-family: monospace;\n",
              "  background-color: var(--sklearn-color-background);\n",
              "  border-radius: 1rem;\n",
              "  height: 1rem;\n",
              "  width: 1rem;\n",
              "  text-decoration: none;\n",
              "  /* unfitted */\n",
              "  color: var(--sklearn-color-unfitted-level-1);\n",
              "  border: var(--sklearn-color-unfitted-level-1) 1pt solid;\n",
              "}\n",
              "\n",
              "#sk-container-id-1 a.estimator_doc_link.fitted {\n",
              "  /* fitted */\n",
              "  border: var(--sklearn-color-fitted-level-1) 1pt solid;\n",
              "  color: var(--sklearn-color-fitted-level-1);\n",
              "}\n",
              "\n",
              "/* On hover */\n",
              "#sk-container-id-1 a.estimator_doc_link:hover {\n",
              "  /* unfitted */\n",
              "  background-color: var(--sklearn-color-unfitted-level-3);\n",
              "  color: var(--sklearn-color-background);\n",
              "  text-decoration: none;\n",
              "}\n",
              "\n",
              "#sk-container-id-1 a.estimator_doc_link.fitted:hover {\n",
              "  /* fitted */\n",
              "  background-color: var(--sklearn-color-fitted-level-3);\n",
              "}\n",
              "</style><div id=\"sk-container-id-1\" class=\"sk-top-container\"><div class=\"sk-text-repr-fallback\"><pre>GaussianMixture(covariance_type=&#x27;diag&#x27;, n_components=19, random_state=42)</pre><b>In a Jupyter environment, please rerun this cell to show the HTML representation or trust the notebook. <br />On GitHub, the HTML representation is unable to render, please try loading this page with nbviewer.org.</b></div><div class=\"sk-container\" hidden><div class=\"sk-item\"><div class=\"sk-estimator fitted sk-toggleable\"><input class=\"sk-toggleable__control sk-hidden--visually\" id=\"sk-estimator-id-1\" type=\"checkbox\" checked><label for=\"sk-estimator-id-1\" class=\"sk-toggleable__label fitted sk-toggleable__label-arrow fitted\">&nbsp;&nbsp;GaussianMixture<a class=\"sk-estimator-doc-link fitted\" rel=\"noreferrer\" target=\"_blank\" href=\"https://scikit-learn.org/1.5/modules/generated/sklearn.mixture.GaussianMixture.html\">?<span>Documentation for GaussianMixture</span></a><span class=\"sk-estimator-doc-link fitted\">i<span>Fitted</span></span></label><div class=\"sk-toggleable__content fitted\"><pre>GaussianMixture(covariance_type=&#x27;diag&#x27;, n_components=19, random_state=42)</pre></div> </div></div></div></div>"
            ]
          },
          "metadata": {},
          "execution_count": 17
        }
      ]
    },
    {
      "cell_type": "code",
      "source": [
        "# Print the GMM parameters\n",
        "print(\"Means of the components:\\n\", gmm.means_)\n",
        "print(\"\\nCovariances of the components:\\n\", gmm.covariances_)\n",
        "print(\"\\nWeights of the components:\\n\", gmm.weights_)\n",
        "\n",
        "# Predict the component labels for each data point\n",
        "component = gmm.predict(X_train)\n",
        "proba = gmm.predict_proba(X_train)\n",
        "\n",
        "# Display the predicted labels\n",
        "print(\"Predicted component labels for the data points:\\n\", labels)\n",
        "print(\"Predicted probabilities for each component:\\n\", proba)"
      ],
      "metadata": {
        "colab": {
          "base_uri": "https://localhost:8080/"
        },
        "id": "26kXnZhmV7JF",
        "outputId": "7aa9dd5a-6658-4e7f-e87f-da0d75148d79"
      },
      "execution_count": 18,
      "outputs": [
        {
          "output_type": "stream",
          "name": "stdout",
          "text": [
            "Means of the components:\n",
            " [[ 3.54128251e-01 -3.06058230e-02]\n",
            " [ 4.87774608e+00  2.83184771e+01]\n",
            " [-9.54024777e-02 -3.06058230e-02]\n",
            " [ 4.01453813e+01 -3.06058230e-02]\n",
            " [ 2.06936519e+00 -3.06058230e-02]\n",
            " [ 1.63220770e+00  7.53511120e+01]\n",
            " [ 5.04609087e-01  4.22175661e+00]\n",
            " [ 7.34533034e+00  5.18845318e+00]\n",
            " [ 8.30537234e+01 -3.06058230e-02]\n",
            " [-9.54024777e-02  1.60141713e+02]\n",
            " [ 5.59490933e-01  2.80430247e+00]\n",
            " [-3.15437730e-02  2.02282981e+01]\n",
            " [ 7.11508226e-02  4.94862440e+01]\n",
            " [ 1.18861034e+01  1.38684832e+00]\n",
            " [ 8.51162282e+00 -3.06058230e-02]\n",
            " [ 1.08081263e+00  1.18552505e+01]\n",
            " [ 3.90963868e-01  1.38684832e+00]\n",
            " [ 7.04694131e+00  1.38684832e+00]\n",
            " [ 2.57160834e-01  6.71649194e+00]]\n",
            "\n",
            "Covariances of the components:\n",
            " [[9.01826321e-02 1.00000000e-06]\n",
            " [2.75175875e+01 1.00000057e-06]\n",
            " [1.00000000e-06 1.00000000e-06]\n",
            " [2.14917693e+02 1.00000000e-06]\n",
            " [1.14048609e+00 1.00000000e-06]\n",
            " [7.89764987e-01 2.76759526e+02]\n",
            " [4.51037776e-01 1.00000000e-06]\n",
            " [2.20729590e+01 3.11150819e+00]\n",
            " [2.26032188e+00 1.00000000e-06]\n",
            " [1.00000000e-06 1.00006548e-06]\n",
            " [8.53013482e-01 9.99999990e-07]\n",
            " [3.11360348e-02 6.10588107e+00]\n",
            " [2.97891232e-02 9.07495668e+01]\n",
            " [1.00000031e-06 1.00000000e-06]\n",
            " [2.17201845e+01 1.00000000e-06]\n",
            " [9.09866640e-01 2.42727472e+01]\n",
            " [5.69208847e-01 1.00000001e-06]\n",
            " [8.19200404e+01 9.99999994e-07]\n",
            " [1.02323401e-01 2.39178333e+00]]\n",
            "\n",
            "Weights of the components:\n",
            " [4.10995924e-02 3.16443494e-05 9.32248395e-01 2.12929331e-04\n",
            " 1.77166252e-02 6.06323110e-05 5.48512407e-04 7.54191129e-05\n",
            " 3.11519919e-05 1.05507491e-05 9.51572951e-04 1.22157680e-04\n",
            " 7.70621456e-05 1.05305121e-05 2.51911523e-03 2.66627343e-04\n",
            " 3.23904032e-03 2.42712201e-04 5.35728991e-04]\n",
            "Predicted component labels for the data points:\n",
            " [2 2 2 ... 2 2 2]\n",
            "Predicted probabilities for each component:\n",
            " [[4.78792296e-05 0.00000000e+00 9.99949735e-01 ... 0.00000000e+00\n",
            "  0.00000000e+00 4.65849741e-14]\n",
            " [4.78792296e-05 0.00000000e+00 9.99949735e-01 ... 0.00000000e+00\n",
            "  0.00000000e+00 4.65849741e-14]\n",
            " [4.78792296e-05 0.00000000e+00 9.99949735e-01 ... 0.00000000e+00\n",
            "  0.00000000e+00 4.65849741e-14]\n",
            " ...\n",
            " [4.78792296e-05 0.00000000e+00 9.99949735e-01 ... 0.00000000e+00\n",
            "  0.00000000e+00 4.65849741e-14]\n",
            " [4.78792296e-05 0.00000000e+00 9.99949735e-01 ... 0.00000000e+00\n",
            "  0.00000000e+00 4.65849741e-14]\n",
            " [4.78792296e-05 0.00000000e+00 9.99949735e-01 ... 0.00000000e+00\n",
            "  0.00000000e+00 4.65849741e-14]]\n"
          ]
        }
      ]
    },
    {
      "cell_type": "markdown",
      "source": [
        "**1.4 Evaluation of the model**"
      ],
      "metadata": {
        "id": "1JyB3qBCbKcZ"
      }
    },
    {
      "cell_type": "code",
      "source": [
        "# Evaluate the log-likelihood of the trained GMM\n",
        "log_likelihood = gmm.score(X_train)\n",
        "print(f'Log-Likelihood: {log_likelihood}')\n",
        "\n",
        "# Get the labels predicted by the GMM\n",
        "labels = gmm.predict(X_train)\n",
        "\n",
        "# Compute silhouette score\n",
        "silhouette = silhouette_score(X_train, labels)\n",
        "print(f'Silhouette Score: {silhouette}')\n"
      ],
      "metadata": {
        "colab": {
          "base_uri": "https://localhost:8080/"
        },
        "id": "PkQqRy_WbY8D",
        "outputId": "5a65dff4-8c34-4c2b-fcc1-bf515bee9d16"
      },
      "execution_count": 19,
      "outputs": [
        {
          "output_type": "stream",
          "name": "stdout",
          "text": [
            "Log-Likelihood: 11.199351622917733\n",
            "Silhouette Score: 0.9521063202428388\n"
          ]
        }
      ]
    },
    {
      "cell_type": "code",
      "source": [
        "Valid_score = gmm.score(X_valid)  # Log-likelihood score on test data\n",
        "Valid_labels = gmm.predict(X_valid)  # Cluster labels for test data\n",
        "silhouette = silhouette_score(X_valid, Valid_labels)  # Silhouette score\n",
        "\n",
        "print(f\"Log-likelihood on test set: {Valid_score}\")\n",
        "print(f\"Silhouette score on test set: {silhouette}\")"
      ],
      "metadata": {
        "colab": {
          "base_uri": "https://localhost:8080/"
        },
        "id": "Eug7gY1dqxTo",
        "outputId": "911cea7e-a535-42ce-a2e5-d8f01de0276a"
      },
      "execution_count": 20,
      "outputs": [
        {
          "output_type": "stream",
          "name": "stdout",
          "text": [
            "Log-likelihood on test set: 11.263468232015006\n",
            "Silhouette score on test set: 0.9605591892099155\n"
          ]
        }
      ]
    },
    {
      "cell_type": "code",
      "source": [
        "test_score = gmm.score(X_test)  # Log-likelihood score on test data\n",
        "test_labels = gmm.predict(X_test)  # Cluster labels for test data\n",
        "silhouette = silhouette_score(X_test, test_labels)  # Silhouette score\n",
        "\n",
        "print(f\"Log-likelihood on test set: {test_score}\")\n",
        "print(f\"Silhouette score on test set: {silhouette}\")\n"
      ],
      "metadata": {
        "colab": {
          "base_uri": "https://localhost:8080/"
        },
        "id": "-o-4Ce9de3-w",
        "outputId": "59a5d309-24da-427d-9c81-1dd123e4b3fb"
      },
      "execution_count": 21,
      "outputs": [
        {
          "output_type": "stream",
          "name": "stdout",
          "text": [
            "Log-likelihood on test set: 10.327335074132481\n",
            "Silhouette score on test set: 0.9163381555820077\n"
          ]
        }
      ]
    },
    {
      "cell_type": "code",
      "source": [
        "# Calculate BIC for training data\n",
        "train_bic = gmm.bic(train_data)\n",
        "print(f\"BIC (Train): {train_bic}\")\n",
        "\n",
        "# Similarly, calculate BIC for validation and test data\n",
        "val_bic = gmm.bic(val_data)\n",
        "print(f\"BIC (Validation): {val_bic}\")\n",
        "\n",
        "test_bic = gmm.bic(test_data)\n",
        "print(f\"BIC (Test): {test_bic}\")\n"
      ],
      "metadata": {
        "colab": {
          "base_uri": "https://localhost:8080/"
        },
        "id": "0IV_O0ueoAnj",
        "outputId": "c4c71af8-cf08-4443-956b-0f46b19f259e"
      },
      "execution_count": 22,
      "outputs": [
        {
          "output_type": "stream",
          "name": "stdout",
          "text": [
            "BIC (Train): 2909213.9945741603\n",
            "BIC (Validation): 637667.5992678406\n",
            "BIC (Test): 625130.5463701584\n"
          ]
        }
      ]
    },
    {
      "cell_type": "markdown",
      "source": [
        "**1.5 Anomalies identification**"
      ],
      "metadata": {
        "id": "1YUclHVWrutA"
      }
    },
    {
      "cell_type": "code",
      "source": [
        "# Compute log-probabilities for data\n",
        "log_probs = gmm.score_samples(X_train)"
      ],
      "metadata": {
        "id": "U09ZApQpr15t"
      },
      "execution_count": 23,
      "outputs": []
    },
    {
      "cell_type": "code",
      "source": [
        "print(X_train.head())\n"
      ],
      "metadata": {
        "id": "aHdclvHae39Y",
        "outputId": "bf5d6d3e-133b-49ec-aeff-896f5dd3b302",
        "colab": {
          "base_uri": "https://localhost:8080/"
        }
      },
      "execution_count": 24,
      "outputs": [
        {
          "output_type": "stream",
          "name": "stdout",
          "text": [
            "                     Precipitation_geopolis  Precipitation_vclb\n",
            "DateTime                                                       \n",
            "2022-12-08 00:03:00               -0.095402           -0.030606\n",
            "2022-12-08 00:06:00               -0.095402           -0.030606\n",
            "2022-12-08 00:09:00               -0.095402           -0.030606\n",
            "2022-12-08 00:12:00               -0.095402           -0.030606\n",
            "2022-12-08 00:15:00               -0.095402           -0.030606\n"
          ]
        }
      ]
    },
    {
      "cell_type": "code",
      "source": [
        "threshold = np.percentile(gmm.score_samples(X_train), 5)  # 5th percentile\n",
        "anomalies = X_train[log_probs < threshold]\n",
        "print(anomalies.shape)\n",
        "print(anomalies.head())"
      ],
      "metadata": {
        "colab": {
          "base_uri": "https://localhost:8080/"
        },
        "id": "XsrxcsYRr-hj",
        "outputId": "eb26ca65-89e1-4c6f-fc7a-e6edac5a1745"
      },
      "execution_count": 25,
      "outputs": [
        {
          "output_type": "stream",
          "name": "stdout",
          "text": [
            "(3648, 2)\n",
            "                     Precipitation_geopolis  Precipitation_vclb\n",
            "DateTime                                                       \n",
            "2022-12-08 22:18:00                1.004940           -0.030606\n",
            "2022-12-08 22:21:00                0.882680           -0.030606\n",
            "2022-12-08 22:24:00                0.882680           -0.030606\n",
            "2022-12-08 22:27:00                0.638159           -0.030606\n",
            "2022-12-08 22:30:00                0.638159           -0.030606\n"
          ]
        }
      ]
    },
    {
      "cell_type": "markdown",
      "source": [
        "**1.6 Visualization**"
      ],
      "metadata": {
        "id": "SQJPXhV-A688"
      }
    },
    {
      "cell_type": "code",
      "source": [
        "# Ensure grid_points has the correct feature names, if necessary.\n",
        "\n",
        "# Determine the full range of data\n",
        "x_min = min(X_train['Precipitation_geopolis'].min(), anomalies['Precipitation_geopolis'].min()) - 10\n",
        "x_max = max(X_train['Precipitation_geopolis'].max(), anomalies['Precipitation_geopolis'].max()) + 10\n",
        "y_min = min(X_train['Precipitation_vclb'].min(), anomalies['Precipitation_vclb'].min()) - 10\n",
        "y_max = max(X_train['Precipitation_vclb'].max(), anomalies['Precipitation_vclb'].max()) + 10\n",
        "\n",
        "# Create grid points for contours within the new limits\n",
        "xx, yy = np.meshgrid(np.linspace(x_min, x_max, 300), np.linspace(y_min, y_max, 300))\n",
        "grid_points = np.vstack([xx.ravel(), yy.ravel()]).T\n",
        "grid_points_named = pd.DataFrame(grid_points, columns=['Precipitation_geopolis', 'Precipitation_vclb'])\n",
        "\n",
        "# Compute density and reshape\n",
        "Z = gmm.score_samples(grid_points_named)\n",
        "Z = np.exp(Z)\n",
        "Z = Z.reshape(xx.shape)\n",
        "\n",
        "# Plotting\n",
        "plt.figure(figsize=(10, 8))\n",
        "contour = plt.contourf(xx, yy, Z, levels=np.logspace(-11, -2, 20), cmap='Blues', norm=LogNorm(), alpha=0.7)\n",
        "plt.colorbar(contour, label=\"Log Density\")\n",
        "\n",
        "plt.scatter(X_train['Precipitation_geopolis'], X_train['Precipitation_vclb'],\n",
        "            c=labels, cmap='viridis', s=10, alpha=0.7, label=\"Data\")\n",
        "plt.scatter(anomalies['Precipitation_geopolis'], anomalies['Precipitation_vclb'],\n",
        "            c=\"red\", s=50, marker='*', edgecolor='black', label=\"Anomalies\")\n",
        "\n",
        "# Set axis limits\n",
        "plt.xlim(x_min, x_max)\n",
        "plt.ylim(y_min, y_max)\n",
        "\n",
        "plt.title(\"Gaussian Mixture Model: Density and Anomalies\", fontsize=14)\n",
        "plt.xlabel(\"Precipitation at geopolis (drops)\", fontsize=12)\n",
        "plt.ylabel(\"Precipitation at vclb (drops)\", fontsize=12)\n",
        "plt.legend(loc='upper left', fontsize=10, frameon=True)\n",
        "plt.tight_layout()\n",
        "\n",
        "# Save the figure as a PDF\n",
        "output_path2 = \"anomalies_improved_noncorr.pdf\"\n",
        "plt.savefig(output_path2, format='pdf')\n",
        "\n",
        "plt.show()"
      ],
      "metadata": {
        "colab": {
          "base_uri": "https://localhost:8080/",
          "height": 842
        },
        "id": "bGHL_T6I6zJY",
        "outputId": "0ae4fbe8-d6d2-41bd-8167-7dc8c8906bcc"
      },
      "execution_count": 26,
      "outputs": [
        {
          "output_type": "stream",
          "name": "stderr",
          "text": [
            "<ipython-input-26-139b003872bf>:21: UserWarning: Log scale: values of z <= 0 have been masked\n",
            "  contour = plt.contourf(xx, yy, Z, levels=np.logspace(-11, -2, 20), cmap='Blues', norm=LogNorm(), alpha=0.7)\n"
          ]
        },
        {
          "output_type": "display_data",
          "data": {
            "text/plain": [
              "<Figure size 1000x800 with 2 Axes>"
            ],
            "image/png": "[encoded data removed]"
          },
          "metadata": {}
        }
      ]
    },
    {
      "cell_type": "code",
      "source": [
        "print(f\"x_min: {x_min}, x_max: {x_max}\")\n",
        "print(f\"y_min: {y_min}, y_max: {y_max}\")"
      ],
      "metadata": {
        "colab": {
          "base_uri": "https://localhost:8080/"
        },
        "id": "o4bgc8jmOOg6",
        "outputId": "70472972-3d07-4f7e-83ca-db563bc7150c"
      },
      "execution_count": null,
      "outputs": [
        {
          "output_type": "stream",
          "name": "stdout",
          "text": [
            "x_min: -10.0, x_max: 357.0\n",
            "y_min: -10.0, y_max: 123.0\n"
          ]
        }
      ]
    }
  ]
}