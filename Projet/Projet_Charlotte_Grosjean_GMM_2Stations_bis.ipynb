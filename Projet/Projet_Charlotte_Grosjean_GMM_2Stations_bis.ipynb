{
  "nbformat": 4,
  "nbformat_minor": 0,
  "metadata": {
    "colab": {
      "provenance": [],
      "authorship_tag": "ABX9TyN4rRjTBeBp5p4ewaCwzVg7",
      "include_colab_link": true
    },
    "kernelspec": {
      "name": "python3",
      "display_name": "Python 3"
    },
    "language_info": {
      "name": "python"
    }
  },
  "cells": [
    {
      "cell_type": "markdown",
      "metadata": {
        "id": "view-in-github",
        "colab_type": "text"
      },
      "source": [
        "<a href=\"https://colab.research.google.com/github/CHGROSJEAN/2024_MLEES/blob/main/Projet/Projet_Charlotte_Grosjean_GMM_2Stations_bis.ipynb\" target=\"_parent\"><img src=\"https://colab.research.google.com/assets/colab-badge.svg\" alt=\"Open In Colab\"/></a>"
      ]
    },
    {
      "cell_type": "markdown",
      "source": [
        "# 0. Import libraries and data\n"
      ],
      "metadata": {
        "id": "QXksE2TVITc1"
      }
    },
    {
      "cell_type": "markdown",
      "source": [
        "Frist step, simple GMM for 2 stations : Grand-Vennes and Riand-Pré."
      ],
      "metadata": {
        "id": "x5d3GYZoXr6h"
      }
    },
    {
      "cell_type": "code",
      "execution_count": 1,
      "metadata": {
        "id": "pigbLfeItiB-"
      },
      "outputs": [],
      "source": [
        "# Import\n",
        "import geopandas as gpd\n",
        "import pandas as pd\n",
        "import xarray as xr\n",
        "import numpy as np\n",
        "import matplotlib.pyplot as plt\n",
        "import matplotlib.colors as mcolors\n",
        "from matplotlib.colors import LogNorm\n",
        "import os\n",
        "from shapely.geometry import Point\n",
        "from sklearn.metrics import silhouette_score\n",
        "from sklearn.mixture import GaussianMixture\n",
        "import seaborn as sns\n",
        "from sklearn.preprocessing import StandardScaler\n"
      ]
    },
    {
      "cell_type": "markdown",
      "source": [
        "Download data sets"
      ],
      "metadata": {
        "id": "o2eBIRSWH6dg"
      }
    },
    {
      "cell_type": "code",
      "source": [
        "# Reading the Excel files\n",
        "\n",
        "geopolis = pd.read_excel(\"https://raw.githubusercontent.com/CHGROSJEAN/2024_MLEES/main/Projet/Stations/Geopolis.xlsx\")\n",
        "vclb = pd.read_excel(\"https://raw.githubusercontent.com/CHGROSJEAN/2024_MLEES/main/Projet/Stations/VersChezLesBlancs.xlsx\")\n",
        "\n",
        "\n",
        "# Displaying the first few rows of each datase\n",
        "print(\"\\nData from Geopolis:\")\n",
        "print(geopolis.head())\n",
        "\n",
        "print(\"\\nData from Vers-chez-les-Blanc:\")\n",
        "print(vclb.head())\n"
      ],
      "metadata": {
        "id": "oulEz3AxIbgs",
        "colab": {
          "base_uri": "https://localhost:8080/"
        },
        "outputId": "b0cc012b-ffa8-4d9c-a733-18bc51960fb4"
      },
      "execution_count": 2,
      "outputs": [
        {
          "output_type": "stream",
          "name": "stdout",
          "text": [
            "\n",
            "Data from Geopolis:\n",
            "   Index             DateTime  Precipitation\n",
            "0      1  11.11.2022 00:02:18              0\n",
            "1      2  11.11.2022 00:04:18              0\n",
            "2      3  11.11.2022 00:06:18              0\n",
            "3      4  11.11.2022 00:08:18              0\n",
            "4      5  11.11.2022 00:10:18              0\n",
            "\n",
            "Data from Vers-chez-les-Blanc:\n",
            "   Index             DateTime  Precipitation\n",
            "0      1  08.12.2022 00:03:45              0\n",
            "1      2  08.12.2022 00:06:45              0\n",
            "2      3  08.12.2022 00:09:45              0\n",
            "3      4  08.12.2022 00:12:45              0\n",
            "4      5  08.12.2022 00:15:45              0\n"
          ]
        }
      ]
    },
    {
      "cell_type": "code",
      "source": [
        "# Ensuring the 'DateTime' the column is of datetime type for both datasets\n",
        "geopolis['DateTime'] = pd.to_datetime(geopolis['DateTime'], dayfirst=True)\n",
        "vclb['DateTime'] = pd.to_datetime(vclb['DateTime'], dayfirst=True)\n",
        "\n",
        "# Setting the DateTime column as the index for easier time-based operations\n",
        "geopolis.set_index('DateTime', inplace=True)\n",
        "vclb.set_index('DateTime', inplace=True)"
      ],
      "metadata": {
        "id": "fyElIL3X6ghE"
      },
      "execution_count": 3,
      "outputs": []
    },
    {
      "cell_type": "markdown",
      "source": [
        "# 1. SIMPLE GMM BASELINE FOR 2 STATIONS"
      ],
      "metadata": {
        "id": "lXAUNE_qH7Fz"
      }
    },
    {
      "cell_type": "markdown",
      "source": [
        "**1.0 Preprocessing and visualization**\n"
      ],
      "metadata": {
        "id": "gkp_ccgNaFTf"
      }
    },
    {
      "cell_type": "markdown",
      "source": [],
      "metadata": {
        "id": "ARZB8Epnc2md"
      }
    },
    {
      "cell_type": "markdown",
      "source": [
        "Pre-processing the data to ensure the data is clean following the following steps:\n",
        "- Setting DateTime as the index\n",
        "- Selecting the period (data for both station)\n",
        "- Converting drops in mm\n"
      ],
      "metadata": {
        "id": "KsNkNQn5X6Lj"
      }
    },
    {
      "cell_type": "code",
      "source": [
        "#Finding the common time period between the two datasets\n",
        "start_time = max(geopolis.index.min(), vclb.index.min())\n",
        "end_time = min(geopolis.index.max(), vclb.index.max())\n",
        "\n",
        "# Filtering both datasets to the common time period\n",
        "geopolis_filtered = geopolis.loc[start_time:end_time]\n",
        "vclb_filtered = vclb.loc[start_time:end_time]\n",
        "\n",
        "# Converting precipitation from drops to mm ( 1 drop = 0.01 mm)\n",
        "geopolis_filtered['Precipitation_mm'] = geopolis_filtered['Precipitation'] * 0.01\n",
        "vclb_filtered['Precipitation_mm'] = vclb_filtered['Precipitation'] * 0.01\n",
        "\n",
        "# Plotting the data\n",
        "plt.figure(figsize=(12, 6))\n",
        "plt.plot(geopolis_filtered.index, geopolis_filtered['Precipitation_mm'], label='Geopolis', color='blue', alpha=0.7)\n",
        "plt.plot(vclb_filtered.index, vclb_filtered['Precipitation_mm'], label='Vers-chez-les-Blanc', color='green', alpha=0.7)\n",
        "\n",
        "# Adding labels, title, and legend\n",
        "plt.xlabel('Time')\n",
        "plt.ylabel('Precipitation (mm)')\n",
        "plt.title('Precipitation Over Time')\n",
        "plt.legend()\n",
        "plt.grid(True)\n",
        "\n",
        "# Display the plot\n",
        "plt.show()"
      ],
      "metadata": {
        "colab": {
          "base_uri": "https://localhost:8080/",
          "height": 778
        },
        "id": "zYJxuK8IFlNs",
        "outputId": "134e25aa-dc15-46ab-909d-568e36c2636a"
      },
      "execution_count": 4,
      "outputs": [
        {
          "output_type": "stream",
          "name": "stderr",
          "text": [
            "<ipython-input-4-6d5aeb271736>:10: SettingWithCopyWarning: \n",
            "A value is trying to be set on a copy of a slice from a DataFrame.\n",
            "Try using .loc[row_indexer,col_indexer] = value instead\n",
            "\n",
            "See the caveats in the documentation: https://pandas.pydata.org/pandas-docs/stable/user_guide/indexing.html#returning-a-view-versus-a-copy\n",
            "  geopolis_filtered['Precipitation_mm'] = geopolis_filtered['Precipitation'] * 0.01\n",
            "<ipython-input-4-6d5aeb271736>:11: SettingWithCopyWarning: \n",
            "A value is trying to be set on a copy of a slice from a DataFrame.\n",
            "Try using .loc[row_indexer,col_indexer] = value instead\n",
            "\n",
            "See the caveats in the documentation: https://pandas.pydata.org/pandas-docs/stable/user_guide/indexing.html#returning-a-view-versus-a-copy\n",
            "  vclb_filtered['Precipitation_mm'] = vclb_filtered['Precipitation'] * 0.01\n"
          ]
        },
        {
          "output_type": "display_data",
          "data": {
            "text/plain": [
              "<Figure size 1200x600 with 1 Axes>"
            ],
            "image/png": "[encoded data removed]"
          },
          "metadata": {}
        }
      ]
    },
    {
      "cell_type": "markdown",
      "source": [
        "To work with 2 staitions in a GMM model, the data needs to be aligned and merge in 1 dataset. Here are the steps followed to create this dataset:\n",
        "- Remove the seconds units to have minute precision\n",
        "- Aligning both datasets to the period (Both dataset have 3 minutes interval)\n",
        "- If some time points are still missing from one station, drop them from the analysis\n",
        "- Merge datasets in 1 dataset for GMM\n",
        "\n",
        "Normally, sensors are set to measure every three minutes, starting with the full hour, so that stations take measurements at the same minutes for easier analysis.\n",
        "\n",
        "So, when we remove the seconds, we round up to the previous minute to keep this matching.\n",
        "\n",
        "We still have a step to align the two datasets, as some sensors are not set to the same minutes and are therefore out of sync."
      ],
      "metadata": {
        "id": "lloBkzCSRSzE"
      }
    },
    {
      "cell_type": "code",
      "source": [
        "# Round down the DateTime to the previous minute (removes seconds, truncating)\n",
        "geopolis.index = geopolis.index.floor('min')  # rounded to the nearest lower minute\n",
        "vclb.index = vclb.index.floor('min')\n",
        "\n",
        "# Resampling to the closest 3-minute interval and filling missing values with NaN\n",
        "geopolis_resampled = geopolis.resample('3min').mean()\n",
        "vclb_resampled = vclb.resample('3min').mean()\n",
        "\n",
        "# Align both datasets to the common time period (intersection of their timestamps)\n",
        "start_time = max(geopolis_resampled.index.min(), vclb_resampled.index.min())\n",
        "end_time = min(geopolis_resampled.index.max(), vclb_resampled.index.max())\n",
        "\n",
        "geopolis_aligned = geopolis_resampled.loc[start_time:end_time]\n",
        "vclb_aligned = vclb_resampled.loc[start_time:end_time]\n",
        "\n",
        "# Drop rows with missing values from both datasets\n",
        "geopolis_aligned = geopolis_aligned.dropna()\n",
        "vclb_aligned = vclb_aligned.dropna()\n",
        "\n",
        "# Now both datasets are aligned and cleaned. Viewing the cleaned and aligned data\n",
        "print(\"Aligned and cleaned geopolis data:\")\n",
        "print(geopolis_aligned.head())\n",
        "\n",
        "print(\"Aligned and cleaned vclb data:\")\n",
        "print(vclb_aligned.head())\n"
      ],
      "metadata": {
        "colab": {
          "base_uri": "https://localhost:8080/"
        },
        "id": "3MkqvfzxHPTv",
        "outputId": "b856dd0a-95ca-4ebe-a699-9d12e90489f7"
      },
      "execution_count": 5,
      "outputs": [
        {
          "output_type": "stream",
          "name": "stdout",
          "text": [
            "Aligned and cleaned geopolis data:\n",
            "                       Index  Precipitation\n",
            "DateTime                                   \n",
            "2022-12-08 00:03:00  19442.0            0.0\n",
            "2022-12-08 00:06:00  19443.5            0.0\n",
            "2022-12-08 00:09:00  19445.0            0.0\n",
            "2022-12-08 00:12:00  19446.5            0.0\n",
            "2022-12-08 00:15:00  19448.0            0.0\n",
            "Aligned and cleaned vclb data:\n",
            "                     Index  Precipitation\n",
            "DateTime                                 \n",
            "2022-12-08 00:03:00    1.0            0.0\n",
            "2022-12-08 00:06:00    2.0            0.0\n",
            "2022-12-08 00:09:00    3.0            0.0\n",
            "2022-12-08 00:12:00    4.0            0.0\n",
            "2022-12-08 00:15:00    5.0            0.0\n"
          ]
        }
      ]
    },
    {
      "cell_type": "markdown",
      "source": [
        "Here is a visualization of 2 datasets to see what the data looks like"
      ],
      "metadata": {
        "id": "o-o3-61iR1Z6"
      }
    },
    {
      "cell_type": "code",
      "source": [
        "# Plotting the data for both stations\n",
        "plt.figure(figsize=(12, 6))\n",
        "\n",
        "# Plot Grand-Vennes data\n",
        "plt.plot(geopolis_aligned.index, geopolis_aligned['Precipitation'], label='Geopolis', color='blue')\n",
        "\n",
        "# Plot Riand-Pré data\n",
        "plt.plot(vclb_aligned.index, vclb_aligned['Precipitation'], label='Vers-chez-les-Blanc', color='orange')\n",
        "\n",
        "# Add labels and title\n",
        "plt.xlabel('DateTime')\n",
        "plt.ylabel('Precipitation (drops)')\n",
        "plt.title('Precipitation Over Time for Geopolis and Vers-chez-les-Blanc')\n",
        "\n",
        "# Rotate date labels for better readability\n",
        "plt.xticks(rotation=45)\n",
        "\n",
        "# Add a legend\n",
        "plt.legend()\n",
        "\n",
        "# Display the plot\n",
        "plt.tight_layout()\n",
        "plt.show()"
      ],
      "metadata": {
        "colab": {
          "base_uri": "https://localhost:8080/",
          "height": 607
        },
        "id": "FVmdp1uANBKK",
        "outputId": "89809de4-44df-4528-a75a-14eeeb0eed66"
      },
      "execution_count": 6,
      "outputs": [
        {
          "output_type": "display_data",
          "data": {
            "text/plain": [
              "<Figure size 1200x600 with 1 Axes>"
            ],
            "image/png": "[encoded data removed]"
          },
          "metadata": {}
        }
      ]
    },
    {
      "cell_type": "markdown",
      "source": [
        "Final step to merge the datasets"
      ],
      "metadata": {
        "id": "eamqZYhDii4P"
      }
    },
    {
      "cell_type": "code",
      "source": [
        "# Merge the datasets on the 'DateTime' index\n",
        "combined_data = pd.merge(geopolis_aligned[['Precipitation']],\n",
        "                         vclb_aligned[['Precipitation']],\n",
        "                         left_index=True, right_index=True,\n",
        "                         suffixes=('_geopolis', '_vclb'))\n",
        "\n",
        "# Display the first few rows of the combined data\n",
        "print(\"Combined Precipitation Data:\")\n",
        "print(combined_data.head())\n",
        "print(combined_data.shape)"
      ],
      "metadata": {
        "colab": {
          "base_uri": "https://localhost:8080/"
        },
        "id": "k2LqPBrXNsx4",
        "outputId": "70b0a5ba-75c1-4cd2-e7f7-b606178139be"
      },
      "execution_count": 7,
      "outputs": [
        {
          "output_type": "stream",
          "name": "stdout",
          "text": [
            "Combined Precipitation Data:\n",
            "                     Precipitation_geopolis  Precipitation_vclb\n",
            "DateTime                                                       \n",
            "2022-12-08 00:03:00                     0.0                 0.0\n",
            "2022-12-08 00:06:00                     0.0                 0.0\n",
            "2022-12-08 00:09:00                     0.0                 0.0\n",
            "2022-12-08 00:12:00                     0.0                 0.0\n",
            "2022-12-08 00:15:00                     0.0                 0.0\n",
            "(135401, 2)\n"
          ]
        }
      ]
    },
    {
      "cell_type": "markdown",
      "source": [
        "**1.1 Splitting dataset**"
      ],
      "metadata": {
        "id": "X7rhMsvqSNSo"
      }
    },
    {
      "cell_type": "markdown",
      "source": [
        "Split the dataset following this repartition\n",
        "- First 70% = Training set\n",
        "- Next 15% = Validation set  \n",
        "- Last 15% = Testing set"
      ],
      "metadata": {
        "id": "1PCpPuvEdW5x"
      }
    },
    {
      "cell_type": "code",
      "source": [
        "# Calculate the index for the splits\n",
        "train_size = int(0.7 * len(combined_data))  # 70% for training\n",
        "val_size = int(0.15 * len(combined_data))  # 15% for validation\n",
        "test_size = len(combined_data) - train_size - val_size  # 15% for testing\n",
        "\n",
        "# Split the data sequentially\n",
        "train_data = combined_data[:train_size]\n",
        "val_data = combined_data[train_size:train_size + val_size]\n",
        "test_data = combined_data[train_size + val_size:]\n",
        "\n",
        "# Display the sizes of each dataset\n",
        "print(f\"Training set size: {len(train_data)}\")\n",
        "print(f\"Validation set size: {len(val_data)}\")\n",
        "print(f\"Test set size: {len(test_data)}\")\n",
        "\n",
        "# Display the first few rows of each dataset\n",
        "print(\"\\nTraining Data:\")\n",
        "print(train_data.head())\n",
        "\n",
        "print(\"\\nValidation Data:\")\n",
        "print(val_data.head())\n",
        "\n",
        "print(\"\\nTest Data:\")\n",
        "print(test_data.head())\n"
      ],
      "metadata": {
        "colab": {
          "base_uri": "https://localhost:8080/"
        },
        "id": "IAlOBJ0aOQRr",
        "outputId": "399ef75f-7a44-4eb2-fab2-450500de44b8"
      },
      "execution_count": 8,
      "outputs": [
        {
          "output_type": "stream",
          "name": "stdout",
          "text": [
            "Training set size: 94780\n",
            "Validation set size: 20310\n",
            "Test set size: 20311\n",
            "\n",
            "Training Data:\n",
            "                     Precipitation_geopolis  Precipitation_vclb\n",
            "DateTime                                                       \n",
            "2022-12-08 00:03:00                     0.0                 0.0\n",
            "2022-12-08 00:06:00                     0.0                 0.0\n",
            "2022-12-08 00:09:00                     0.0                 0.0\n",
            "2022-12-08 00:12:00                     0.0                 0.0\n",
            "2022-12-08 00:15:00                     0.0                 0.0\n",
            "\n",
            "Validation Data:\n",
            "                     Precipitation_geopolis  Precipitation_vclb\n",
            "DateTime                                                       \n",
            "2023-08-12 16:03:00                     0.0                 0.0\n",
            "2023-08-12 16:06:00                     0.0                 0.0\n",
            "2023-08-12 16:09:00                     0.0                 0.0\n",
            "2023-08-12 16:12:00                     0.0                 0.0\n",
            "2023-08-12 16:15:00                     0.0                 0.0\n",
            "\n",
            "Test Data:\n",
            "                     Precipitation_geopolis  Precipitation_vclb\n",
            "DateTime                                                       \n",
            "2023-09-23 23:33:00                     0.0                 0.0\n",
            "2023-09-23 23:36:00                     0.0                 0.0\n",
            "2023-09-23 23:39:00                     0.0                 0.0\n",
            "2023-09-23 23:42:00                     0.0                 0.0\n",
            "2023-09-23 23:45:00                     0.0                 0.0\n"
          ]
        }
      ]
    },
    {
      "cell_type": "code",
      "source": [
        "# Extract X for each dataset\n",
        "# For training data\n",
        "X_train = train_data[['Precipitation_geopolis', 'Precipitation_vclb']]  # Features (precipitation from both stations)\n",
        "\n",
        "# For validation data\n",
        "X_valid = val_data[['Precipitation_geopolis', 'Precipitation_vclb']]  # Features (precipitation from both stations)\n",
        "\n",
        "# For test data\n",
        "X_test = test_data[['Precipitation_geopolis', 'Precipitation_vclb']]  # Features (precipitation from both stations)\n",
        "\n",
        "# Display the first few rows of the extracted data\n",
        "print(\"X_train:\")\n",
        "print(X_train.head())\n",
        "\n",
        "print(\"\\nX_valid:\")\n",
        "print(X_valid.head())\n",
        "\n",
        "print(\"\\nX_test:\")\n",
        "print(X_test.head())\n",
        "print(type(X_test))"
      ],
      "metadata": {
        "colab": {
          "base_uri": "https://localhost:8080/"
        },
        "id": "fA2qoBuxSF0r",
        "outputId": "4b96d98b-9752-439a-bd1f-a63f0167ec26"
      },
      "execution_count": 9,
      "outputs": [
        {
          "output_type": "stream",
          "name": "stdout",
          "text": [
            "X_train:\n",
            "                     Precipitation_geopolis  Precipitation_vclb\n",
            "DateTime                                                       \n",
            "2022-12-08 00:03:00                     0.0                 0.0\n",
            "2022-12-08 00:06:00                     0.0                 0.0\n",
            "2022-12-08 00:09:00                     0.0                 0.0\n",
            "2022-12-08 00:12:00                     0.0                 0.0\n",
            "2022-12-08 00:15:00                     0.0                 0.0\n",
            "\n",
            "X_valid:\n",
            "                     Precipitation_geopolis  Precipitation_vclb\n",
            "DateTime                                                       \n",
            "2023-08-12 16:03:00                     0.0                 0.0\n",
            "2023-08-12 16:06:00                     0.0                 0.0\n",
            "2023-08-12 16:09:00                     0.0                 0.0\n",
            "2023-08-12 16:12:00                     0.0                 0.0\n",
            "2023-08-12 16:15:00                     0.0                 0.0\n",
            "\n",
            "X_test:\n",
            "                     Precipitation_geopolis  Precipitation_vclb\n",
            "DateTime                                                       \n",
            "2023-09-23 23:33:00                     0.0                 0.0\n",
            "2023-09-23 23:36:00                     0.0                 0.0\n",
            "2023-09-23 23:39:00                     0.0                 0.0\n",
            "2023-09-23 23:42:00                     0.0                 0.0\n",
            "2023-09-23 23:45:00                     0.0                 0.0\n",
            "<class 'pandas.core.frame.DataFrame'>\n"
          ]
        }
      ]
    },
    {
      "cell_type": "code",
      "source": [
        "scaler = StandardScaler()\n",
        "X_train_scaled = scaler.fit_transform(X_train)\n",
        "X_train = pd.DataFrame(X_train_scaled, columns=X_train.columns, index=X_train.index)\n",
        "\n",
        "X_valid_scaled = scaler.transform(X_valid)\n",
        "X_valid = pd.DataFrame(X_valid_scaled, columns=X_valid.columns, index=X_valid.index)\n",
        "\n",
        "X_test_scaled = scaler.transform(X_test)\n",
        "X_test = pd.DataFrame(X_test_scaled, columns=X_test.columns, index=X_test.index)\n",
        "\n",
        "# Display the first few rows of the scaled data to verify\n",
        "print(\"Scaled X_train:\")\n",
        "print(X_train.head())\n",
        "\n",
        "print(\"\\nScaled X_valid:\")\n",
        "print(X_valid.head())\n",
        "\n",
        "print(\"\\nScaled X_test:\")\n",
        "print(X_test.head())"
      ],
      "metadata": {
        "id": "VcJ8BkuaT8Q7",
        "outputId": "83ac247f-745c-4549-a714-c6bbfd8be6ad",
        "colab": {
          "base_uri": "https://localhost:8080/"
        }
      },
      "execution_count": 10,
      "outputs": [
        {
          "output_type": "stream",
          "name": "stdout",
          "text": [
            "Scaled X_train:\n",
            "                     Precipitation_geopolis  Precipitation_vclb\n",
            "DateTime                                                       \n",
            "2022-12-08 00:03:00               -0.095402           -0.030606\n",
            "2022-12-08 00:06:00               -0.095402           -0.030606\n",
            "2022-12-08 00:09:00               -0.095402           -0.030606\n",
            "2022-12-08 00:12:00               -0.095402           -0.030606\n",
            "2022-12-08 00:15:00               -0.095402           -0.030606\n",
            "\n",
            "Scaled X_valid:\n",
            "                     Precipitation_geopolis  Precipitation_vclb\n",
            "DateTime                                                       \n",
            "2023-08-12 16:03:00               -0.095402           -0.030606\n",
            "2023-08-12 16:06:00               -0.095402           -0.030606\n",
            "2023-08-12 16:09:00               -0.095402           -0.030606\n",
            "2023-08-12 16:12:00               -0.095402           -0.030606\n",
            "2023-08-12 16:15:00               -0.095402           -0.030606\n",
            "\n",
            "Scaled X_test:\n",
            "                     Precipitation_geopolis  Precipitation_vclb\n",
            "DateTime                                                       \n",
            "2023-09-23 23:33:00               -0.095402           -0.030606\n",
            "2023-09-23 23:36:00               -0.095402           -0.030606\n",
            "2023-09-23 23:39:00               -0.095402           -0.030606\n",
            "2023-09-23 23:42:00               -0.095402           -0.030606\n",
            "2023-09-23 23:45:00               -0.095402           -0.030606\n"
          ]
        }
      ]
    },
    {
      "cell_type": "markdown",
      "source": [
        "**1.2 Hyperparameter test**"
      ],
      "metadata": {
        "id": "7RqBFcyIRdsS"
      }
    },
    {
      "cell_type": "markdown",
      "source": [
        "**1..2 Evaluation of components range**\n",
        "\n",
        "Using Bayesian Information Criterion. It is optimal for selecting the optimal model when the number of data points is large\n",
        "\n",
        "The range tested is from 2 to 10 components"
      ],
      "metadata": {
        "id": "3b9OCMbwiHak"
      }
    },
    {
      "cell_type": "code",
      "source": [
        "# Range of components to evaluate\n",
        "component_range = [10,20,30,40,50,60,70,80,90,100,150,200]  # For component numbers 2, 3, 4, 5, 6, 7, 8, 9, 10\n",
        "\n",
        "# Store results\n",
        "models = {}\n",
        "bic_scores = []\n",
        "silhouette_scores = []\n",
        "\n",
        "# Loop through the range of components\n",
        "for n_components in component_range:\n",
        "    # Create and fit the Gaussian Mixture Model\n",
        "    gmm = GaussianMixture(n_components=n_components, random_state=42)\n",
        "    gmm.fit(X_train)  # Assuming X_train is your data\n",
        "\n",
        "    # Store the model and metrics\n",
        "    models[n_components] = gmm\n",
        "    bic_scores.append(gmm.bic(X_train))\n",
        "\n",
        "    # Predict cluster labels\n",
        "    labels = gmm.predict(X_train)\n",
        "\n",
        "    # Calculate silhouette score\n",
        "    silhouette = silhouette_score(X_train, labels)\n",
        "    silhouette_scores.append(silhouette)\n",
        "\n"
      ],
      "metadata": {
        "id": "01yD0_uRb5gA"
      },
      "execution_count": 44,
      "outputs": []
    },
    {
      "cell_type": "code",
      "source": [
        "# Plot BIC, and Silhouette Score for each number of components\n",
        "plt.figure(figsize=(12, 6))\n",
        "\n",
        "\n",
        "# Plot BIC\n",
        "plt.subplot(1, 2, 1)\n",
        "plt.plot(component_range, bic_scores, marker='o')\n",
        "plt.title('BIC for each number of components')\n",
        "plt.xlabel('Number of Components')\n",
        "plt.ylabel('BIC')\n",
        "\n",
        "# Plot Silhouette Score\n",
        "plt.subplot(1, 2, 2)\n",
        "plt.plot(component_range, silhouette_scores, marker='o')\n",
        "plt.title('Silhouette Score for each number of components')\n",
        "plt.xlabel('Number of Components')\n",
        "plt.ylabel('Silhouette Score')\n",
        "\n",
        "plt.tight_layout()\n",
        "\n",
        "# Save the figure as a PDF\n",
        "output_path = \"plot_bic_silhouette.pdf\"\n",
        "plt.savefig(output_path, format='pdf')\n",
        "\n",
        "\n",
        "plt.show()\n",
        "\n",
        "# Select the best model based on the criteria you prefer (AIC, BIC, or silhouette score)\n",
        "best_n_components = component_range[np.argmin(bic_scores)]\n",
        "best_gmm_model = models[best_n_components]\n",
        "print(f\"Best number of components: {best_n_components} based on BIC\")\n"
      ],
      "metadata": {
        "colab": {
          "base_uri": "https://localhost:8080/",
          "height": 625
        },
        "id": "NeOtGMpkN3Ca",
        "outputId": "e7637857-f083-4207-bf35-369fc2e0b16a"
      },
      "execution_count": 45,
      "outputs": [
        {
          "output_type": "display_data",
          "data": {
            "text/plain": [
              "<Figure size 1200x600 with 2 Axes>"
            ],
            "image/png": "[encoded data removed]"
          },
          "metadata": {}
        },
        {
          "output_type": "stream",
          "name": "stdout",
          "text": [
            "Best number of components: 200 based on BIC\n"
          ]
        }
      ]
    },
    {
      "cell_type": "markdown",
      "source": [
        "**1.2.3 Combinatiton of hyperparameters**\n",
        "\n",
        "Trying 4 co-variance option: full, tied, diagonal, spherical with the number of cluster range from 2 to 6."
      ],
      "metadata": {
        "id": "S1wM_qf3l9yY"
      }
    },
    {
      "cell_type": "code",
      "source": [
        "#search for best combination of values for both the number of clusters\n",
        "#and the covariance_type hyperparameter:\n",
        "\n",
        "min_bic = np.infty\n",
        "\n",
        "for k in range(190, 200):\n",
        "    for covariance_type in (\"full\", \"tied\", \"spherical\", \"diag\"):\n",
        "        bic = GaussianMixture(n_components=k, n_init=10,\n",
        "                              covariance_type=covariance_type,\n",
        "                              random_state=42).fit(X_train).bic(X_train)\n",
        "        if bic < min_bic:\n",
        "            min_bic = bic\n",
        "            best_k = k\n",
        "            best_covariance_type = covariance_type\n",
        "\n",
        "print('best_k')\n",
        "print(best_k)\n",
        "print('best_covariance_type')\n",
        "print(best_covariance_type)\n",
        "\n"
      ],
      "metadata": {
        "colab": {
          "base_uri": "https://localhost:8080/"
        },
        "id": "bXF81iz1okob",
        "outputId": "0d235c64-5c82-4a0f-99b4-9088780e2dda"
      },
      "execution_count": 11,
      "outputs": [
        {
          "output_type": "stream",
          "name": "stdout",
          "text": [
            "best_k\n",
            "196\n",
            "best_covariance_type\n",
            "diag\n"
          ]
        }
      ]
    },
    {
      "cell_type": "markdown",
      "source": [
        "**1.3 Initialization of Gaussian Mixture Model**"
      ],
      "metadata": {
        "id": "tjWSIz5DSiag"
      }
    },
    {
      "cell_type": "code",
      "source": [
        "# Initialize the Gaussian Mixture Model with 2 components\n",
        "gmm = GaussianMixture(n_components=196, covariance_type='diag', random_state=42)\n"
      ],
      "metadata": {
        "id": "h8hckZwcSiHG"
      },
      "execution_count": 12,
      "outputs": []
    },
    {
      "cell_type": "code",
      "source": [
        "# Fit the GMM model to the training data (X_train)\n",
        "gmm.fit(X_train)"
      ],
      "metadata": {
        "colab": {
          "base_uri": "https://localhost:8080/",
          "height": 80
        },
        "id": "VOnxtDCEV18O",
        "outputId": "072ba932-96cb-467b-e859-99518db7ac44"
      },
      "execution_count": 13,
      "outputs": [
        {
          "output_type": "execute_result",
          "data": {
            "text/plain": [
              "GaussianMixture(covariance_type='diag', n_components=196, random_state=42)"
            ],
            "text/html": [
              "<style>#sk-container-id-1 {\n",
              "  /* Definition of color scheme common for light and dark mode */\n",
              "  --sklearn-color-text: #000;\n",
              "  --sklearn-color-text-muted: #666;\n",
              "  --sklearn-color-line: gray;\n",
              "  /* Definition of color scheme for unfitted estimators */\n",
              "  --sklearn-color-unfitted-level-0: #fff5e6;\n",
              "  --sklearn-color-unfitted-level-1: #f6e4d2;\n",
              "  --sklearn-color-unfitted-level-2: #ffe0b3;\n",
              "  --sklearn-color-unfitted-level-3: chocolate;\n",
              "  /* Definition of color scheme for fitted estimators */\n",
              "  --sklearn-color-fitted-level-0: #f0f8ff;\n",
              "  --sklearn-color-fitted-level-1: #d4ebff;\n",
              "  --sklearn-color-fitted-level-2: #b3dbfd;\n",
              "  --sklearn-color-fitted-level-3: cornflowerblue;\n",
              "\n",
              "  /* Specific color for light theme */\n",
              "  --sklearn-color-text-on-default-background: var(--sg-text-color, var(--theme-code-foreground, var(--jp-content-font-color1, black)));\n",
              "  --sklearn-color-background: var(--sg-background-color, var(--theme-background, var(--jp-layout-color0, white)));\n",
              "  --sklearn-color-border-box: var(--sg-text-color, var(--theme-code-foreground, var(--jp-content-font-color1, black)));\n",
              "  --sklearn-color-icon: #696969;\n",
              "\n",
              "  @media (prefers-color-scheme: dark) {\n",
              "    /* Redefinition of color scheme for dark theme */\n",
              "    --sklearn-color-text-on-default-background: var(--sg-text-color, var(--theme-code-foreground, var(--jp-content-font-color1, white)));\n",
              "    --sklearn-color-background: var(--sg-background-color, var(--theme-background, var(--jp-layout-color0, #111)));\n",
              "    --sklearn-color-border-box: var(--sg-text-color, var(--theme-code-foreground, var(--jp-content-font-color1, white)));\n",
              "    --sklearn-color-icon: #878787;\n",
              "  }\n",
              "}\n",
              "\n",
              "#sk-container-id-1 {\n",
              "  color: var(--sklearn-color-text);\n",
              "}\n",
              "\n",
              "#sk-container-id-1 pre {\n",
              "  padding: 0;\n",
              "}\n",
              "\n",
              "#sk-container-id-1 input.sk-hidden--visually {\n",
              "  border: 0;\n",
              "  clip: rect(1px 1px 1px 1px);\n",
              "  clip: rect(1px, 1px, 1px, 1px);\n",
              "  height: 1px;\n",
              "  margin: -1px;\n",
              "  overflow: hidden;\n",
              "  padding: 0;\n",
              "  position: absolute;\n",
              "  width: 1px;\n",
              "}\n",
              "\n",
              "#sk-container-id-1 div.sk-dashed-wrapped {\n",
              "  border: 1px dashed var(--sklearn-color-line);\n",
              "  margin: 0 0.4em 0.5em 0.4em;\n",
              "  box-sizing: border-box;\n",
              "  padding-bottom: 0.4em;\n",
              "  background-color: var(--sklearn-color-background);\n",
              "}\n",
              "\n",
              "#sk-container-id-1 div.sk-container {\n",
              "  /* jupyter's `normalize.less` sets `[hidden] { display: none; }`\n",
              "     but bootstrap.min.css set `[hidden] { display: none !important; }`\n",
              "     so we also need the `!important` here to be able to override the\n",
              "     default hidden behavior on the sphinx rendered scikit-learn.org.\n",
              "     See: https://github.com/scikit-learn/scikit-learn/issues/21755 */\n",
              "  display: inline-block !important;\n",
              "  position: relative;\n",
              "}\n",
              "\n",
              "#sk-container-id-1 div.sk-text-repr-fallback {\n",
              "  display: none;\n",
              "}\n",
              "\n",
              "div.sk-parallel-item,\n",
              "div.sk-serial,\n",
              "div.sk-item {\n",
              "  /* draw centered vertical line to link estimators */\n",
              "  background-image: linear-gradient(var(--sklearn-color-text-on-default-background), var(--sklearn-color-text-on-default-background));\n",
              "  background-size: 2px 100%;\n",
              "  background-repeat: no-repeat;\n",
              "  background-position: center center;\n",
              "}\n",
              "\n",
              "/* Parallel-specific style estimator block */\n",
              "\n",
              "#sk-container-id-1 div.sk-parallel-item::after {\n",
              "  content: \"\";\n",
              "  width: 100%;\n",
              "  border-bottom: 2px solid var(--sklearn-color-text-on-default-background);\n",
              "  flex-grow: 1;\n",
              "}\n",
              "\n",
              "#sk-container-id-1 div.sk-parallel {\n",
              "  display: flex;\n",
              "  align-items: stretch;\n",
              "  justify-content: center;\n",
              "  background-color: var(--sklearn-color-background);\n",
              "  position: relative;\n",
              "}\n",
              "\n",
              "#sk-container-id-1 div.sk-parallel-item {\n",
              "  display: flex;\n",
              "  flex-direction: column;\n",
              "}\n",
              "\n",
              "#sk-container-id-1 div.sk-parallel-item:first-child::after {\n",
              "  align-self: flex-end;\n",
              "  width: 50%;\n",
              "}\n",
              "\n",
              "#sk-container-id-1 div.sk-parallel-item:last-child::after {\n",
              "  align-self: flex-start;\n",
              "  width: 50%;\n",
              "}\n",
              "\n",
              "#sk-container-id-1 div.sk-parallel-item:only-child::after {\n",
              "  width: 0;\n",
              "}\n",
              "\n",
              "/* Serial-specific style estimator block */\n",
              "\n",
              "#sk-container-id-1 div.sk-serial {\n",
              "  display: flex;\n",
              "  flex-direction: column;\n",
              "  align-items: center;\n",
              "  background-color: var(--sklearn-color-background);\n",
              "  padding-right: 1em;\n",
              "  padding-left: 1em;\n",
              "}\n",
              "\n",
              "\n",
              "/* Toggleable style: style used for estimator/Pipeline/ColumnTransformer box that is\n",
              "clickable and can be expanded/collapsed.\n",
              "- Pipeline and ColumnTransformer use this feature and define the default style\n",
              "- Estimators will overwrite some part of the style using the `sk-estimator` class\n",
              "*/\n",
              "\n",
              "/* Pipeline and ColumnTransformer style (default) */\n",
              "\n",
              "#sk-container-id-1 div.sk-toggleable {\n",
              "  /* Default theme specific background. It is overwritten whether we have a\n",
              "  specific estimator or a Pipeline/ColumnTransformer */\n",
              "  background-color: var(--sklearn-color-background);\n",
              "}\n",
              "\n",
              "/* Toggleable label */\n",
              "#sk-container-id-1 label.sk-toggleable__label {\n",
              "  cursor: pointer;\n",
              "  display: flex;\n",
              "  width: 100%;\n",
              "  margin-bottom: 0;\n",
              "  padding: 0.5em;\n",
              "  box-sizing: border-box;\n",
              "  text-align: center;\n",
              "  align-items: start;\n",
              "  justify-content: space-between;\n",
              "  gap: 0.5em;\n",
              "}\n",
              "\n",
              "#sk-container-id-1 label.sk-toggleable__label .caption {\n",
              "  font-size: 0.6rem;\n",
              "  font-weight: lighter;\n",
              "  color: var(--sklearn-color-text-muted);\n",
              "}\n",
              "\n",
              "#sk-container-id-1 label.sk-toggleable__label-arrow:before {\n",
              "  /* Arrow on the left of the label */\n",
              "  content: \"▸\";\n",
              "  float: left;\n",
              "  margin-right: 0.25em;\n",
              "  color: var(--sklearn-color-icon);\n",
              "}\n",
              "\n",
              "#sk-container-id-1 label.sk-toggleable__label-arrow:hover:before {\n",
              "  color: var(--sklearn-color-text);\n",
              "}\n",
              "\n",
              "/* Toggleable content - dropdown */\n",
              "\n",
              "#sk-container-id-1 div.sk-toggleable__content {\n",
              "  max-height: 0;\n",
              "  max-width: 0;\n",
              "  overflow: hidden;\n",
              "  text-align: left;\n",
              "  /* unfitted */\n",
              "  background-color: var(--sklearn-color-unfitted-level-0);\n",
              "}\n",
              "\n",
              "#sk-container-id-1 div.sk-toggleable__content.fitted {\n",
              "  /* fitted */\n",
              "  background-color: var(--sklearn-color-fitted-level-0);\n",
              "}\n",
              "\n",
              "#sk-container-id-1 div.sk-toggleable__content pre {\n",
              "  margin: 0.2em;\n",
              "  border-radius: 0.25em;\n",
              "  color: var(--sklearn-color-text);\n",
              "  /* unfitted */\n",
              "  background-color: var(--sklearn-color-unfitted-level-0);\n",
              "}\n",
              "\n",
              "#sk-container-id-1 div.sk-toggleable__content.fitted pre {\n",
              "  /* unfitted */\n",
              "  background-color: var(--sklearn-color-fitted-level-0);\n",
              "}\n",
              "\n",
              "#sk-container-id-1 input.sk-toggleable__control:checked~div.sk-toggleable__content {\n",
              "  /* Expand drop-down */\n",
              "  max-height: 200px;\n",
              "  max-width: 100%;\n",
              "  overflow: auto;\n",
              "}\n",
              "\n",
              "#sk-container-id-1 input.sk-toggleable__control:checked~label.sk-toggleable__label-arrow:before {\n",
              "  content: \"▾\";\n",
              "}\n",
              "\n",
              "/* Pipeline/ColumnTransformer-specific style */\n",
              "\n",
              "#sk-container-id-1 div.sk-label input.sk-toggleable__control:checked~label.sk-toggleable__label {\n",
              "  color: var(--sklearn-color-text);\n",
              "  background-color: var(--sklearn-color-unfitted-level-2);\n",
              "}\n",
              "\n",
              "#sk-container-id-1 div.sk-label.fitted input.sk-toggleable__control:checked~label.sk-toggleable__label {\n",
              "  background-color: var(--sklearn-color-fitted-level-2);\n",
              "}\n",
              "\n",
              "/* Estimator-specific style */\n",
              "\n",
              "/* Colorize estimator box */\n",
              "#sk-container-id-1 div.sk-estimator input.sk-toggleable__control:checked~label.sk-toggleable__label {\n",
              "  /* unfitted */\n",
              "  background-color: var(--sklearn-color-unfitted-level-2);\n",
              "}\n",
              "\n",
              "#sk-container-id-1 div.sk-estimator.fitted input.sk-toggleable__control:checked~label.sk-toggleable__label {\n",
              "  /* fitted */\n",
              "  background-color: var(--sklearn-color-fitted-level-2);\n",
              "}\n",
              "\n",
              "#sk-container-id-1 div.sk-label label.sk-toggleable__label,\n",
              "#sk-container-id-1 div.sk-label label {\n",
              "  /* The background is the default theme color */\n",
              "  color: var(--sklearn-color-text-on-default-background);\n",
              "}\n",
              "\n",
              "/* On hover, darken the color of the background */\n",
              "#sk-container-id-1 div.sk-label:hover label.sk-toggleable__label {\n",
              "  color: var(--sklearn-color-text);\n",
              "  background-color: var(--sklearn-color-unfitted-level-2);\n",
              "}\n",
              "\n",
              "/* Label box, darken color on hover, fitted */\n",
              "#sk-container-id-1 div.sk-label.fitted:hover label.sk-toggleable__label.fitted {\n",
              "  color: var(--sklearn-color-text);\n",
              "  background-color: var(--sklearn-color-fitted-level-2);\n",
              "}\n",
              "\n",
              "/* Estimator label */\n",
              "\n",
              "#sk-container-id-1 div.sk-label label {\n",
              "  font-family: monospace;\n",
              "  font-weight: bold;\n",
              "  display: inline-block;\n",
              "  line-height: 1.2em;\n",
              "}\n",
              "\n",
              "#sk-container-id-1 div.sk-label-container {\n",
              "  text-align: center;\n",
              "}\n",
              "\n",
              "/* Estimator-specific */\n",
              "#sk-container-id-1 div.sk-estimator {\n",
              "  font-family: monospace;\n",
              "  border: 1px dotted var(--sklearn-color-border-box);\n",
              "  border-radius: 0.25em;\n",
              "  box-sizing: border-box;\n",
              "  margin-bottom: 0.5em;\n",
              "  /* unfitted */\n",
              "  background-color: var(--sklearn-color-unfitted-level-0);\n",
              "}\n",
              "\n",
              "#sk-container-id-1 div.sk-estimator.fitted {\n",
              "  /* fitted */\n",
              "  background-color: var(--sklearn-color-fitted-level-0);\n",
              "}\n",
              "\n",
              "/* on hover */\n",
              "#sk-container-id-1 div.sk-estimator:hover {\n",
              "  /* unfitted */\n",
              "  background-color: var(--sklearn-color-unfitted-level-2);\n",
              "}\n",
              "\n",
              "#sk-container-id-1 div.sk-estimator.fitted:hover {\n",
              "  /* fitted */\n",
              "  background-color: var(--sklearn-color-fitted-level-2);\n",
              "}\n",
              "\n",
              "/* Specification for estimator info (e.g. \"i\" and \"?\") */\n",
              "\n",
              "/* Common style for \"i\" and \"?\" */\n",
              "\n",
              ".sk-estimator-doc-link,\n",
              "a:link.sk-estimator-doc-link,\n",
              "a:visited.sk-estimator-doc-link {\n",
              "  float: right;\n",
              "  font-size: smaller;\n",
              "  line-height: 1em;\n",
              "  font-family: monospace;\n",
              "  background-color: var(--sklearn-color-background);\n",
              "  border-radius: 1em;\n",
              "  height: 1em;\n",
              "  width: 1em;\n",
              "  text-decoration: none !important;\n",
              "  margin-left: 0.5em;\n",
              "  text-align: center;\n",
              "  /* unfitted */\n",
              "  border: var(--sklearn-color-unfitted-level-1) 1pt solid;\n",
              "  color: var(--sklearn-color-unfitted-level-1);\n",
              "}\n",
              "\n",
              ".sk-estimator-doc-link.fitted,\n",
              "a:link.sk-estimator-doc-link.fitted,\n",
              "a:visited.sk-estimator-doc-link.fitted {\n",
              "  /* fitted */\n",
              "  border: var(--sklearn-color-fitted-level-1) 1pt solid;\n",
              "  color: var(--sklearn-color-fitted-level-1);\n",
              "}\n",
              "\n",
              "/* On hover */\n",
              "div.sk-estimator:hover .sk-estimator-doc-link:hover,\n",
              ".sk-estimator-doc-link:hover,\n",
              "div.sk-label-container:hover .sk-estimator-doc-link:hover,\n",
              ".sk-estimator-doc-link:hover {\n",
              "  /* unfitted */\n",
              "  background-color: var(--sklearn-color-unfitted-level-3);\n",
              "  color: var(--sklearn-color-background);\n",
              "  text-decoration: none;\n",
              "}\n",
              "\n",
              "div.sk-estimator.fitted:hover .sk-estimator-doc-link.fitted:hover,\n",
              ".sk-estimator-doc-link.fitted:hover,\n",
              "div.sk-label-container:hover .sk-estimator-doc-link.fitted:hover,\n",
              ".sk-estimator-doc-link.fitted:hover {\n",
              "  /* fitted */\n",
              "  background-color: var(--sklearn-color-fitted-level-3);\n",
              "  color: var(--sklearn-color-background);\n",
              "  text-decoration: none;\n",
              "}\n",
              "\n",
              "/* Span, style for the box shown on hovering the info icon */\n",
              ".sk-estimator-doc-link span {\n",
              "  display: none;\n",
              "  z-index: 9999;\n",
              "  position: relative;\n",
              "  font-weight: normal;\n",
              "  right: .2ex;\n",
              "  padding: .5ex;\n",
              "  margin: .5ex;\n",
              "  width: min-content;\n",
              "  min-width: 20ex;\n",
              "  max-width: 50ex;\n",
              "  color: var(--sklearn-color-text);\n",
              "  box-shadow: 2pt 2pt 4pt #999;\n",
              "  /* unfitted */\n",
              "  background: var(--sklearn-color-unfitted-level-0);\n",
              "  border: .5pt solid var(--sklearn-color-unfitted-level-3);\n",
              "}\n",
              "\n",
              ".sk-estimator-doc-link.fitted span {\n",
              "  /* fitted */\n",
              "  background: var(--sklearn-color-fitted-level-0);\n",
              "  border: var(--sklearn-color-fitted-level-3);\n",
              "}\n",
              "\n",
              ".sk-estimator-doc-link:hover span {\n",
              "  display: block;\n",
              "}\n",
              "\n",
              "/* \"?\"-specific style due to the `<a>` HTML tag */\n",
              "\n",
              "#sk-container-id-1 a.estimator_doc_link {\n",
              "  float: right;\n",
              "  font-size: 1rem;\n",
              "  line-height: 1em;\n",
              "  font-family: monospace;\n",
              "  background-color: var(--sklearn-color-background);\n",
              "  border-radius: 1rem;\n",
              "  height: 1rem;\n",
              "  width: 1rem;\n",
              "  text-decoration: none;\n",
              "  /* unfitted */\n",
              "  color: var(--sklearn-color-unfitted-level-1);\n",
              "  border: var(--sklearn-color-unfitted-level-1) 1pt solid;\n",
              "}\n",
              "\n",
              "#sk-container-id-1 a.estimator_doc_link.fitted {\n",
              "  /* fitted */\n",
              "  border: var(--sklearn-color-fitted-level-1) 1pt solid;\n",
              "  color: var(--sklearn-color-fitted-level-1);\n",
              "}\n",
              "\n",
              "/* On hover */\n",
              "#sk-container-id-1 a.estimator_doc_link:hover {\n",
              "  /* unfitted */\n",
              "  background-color: var(--sklearn-color-unfitted-level-3);\n",
              "  color: var(--sklearn-color-background);\n",
              "  text-decoration: none;\n",
              "}\n",
              "\n",
              "#sk-container-id-1 a.estimator_doc_link.fitted:hover {\n",
              "  /* fitted */\n",
              "  background-color: var(--sklearn-color-fitted-level-3);\n",
              "}\n",
              "</style><div id=\"sk-container-id-1\" class=\"sk-top-container\"><div class=\"sk-text-repr-fallback\"><pre>GaussianMixture(covariance_type=&#x27;diag&#x27;, n_components=196, random_state=42)</pre><b>In a Jupyter environment, please rerun this cell to show the HTML representation or trust the notebook. <br />On GitHub, the HTML representation is unable to render, please try loading this page with nbviewer.org.</b></div><div class=\"sk-container\" hidden><div class=\"sk-item\"><div class=\"sk-estimator fitted sk-toggleable\"><input class=\"sk-toggleable__control sk-hidden--visually\" id=\"sk-estimator-id-1\" type=\"checkbox\" checked><label for=\"sk-estimator-id-1\" class=\"sk-toggleable__label fitted sk-toggleable__label-arrow\"><div><div>GaussianMixture</div></div><div><a class=\"sk-estimator-doc-link fitted\" rel=\"noreferrer\" target=\"_blank\" href=\"https://scikit-learn.org/1.6/modules/generated/sklearn.mixture.GaussianMixture.html\">?<span>Documentation for GaussianMixture</span></a><span class=\"sk-estimator-doc-link fitted\">i<span>Fitted</span></span></div></label><div class=\"sk-toggleable__content fitted\"><pre>GaussianMixture(covariance_type=&#x27;diag&#x27;, n_components=196, random_state=42)</pre></div> </div></div></div></div>"
            ]
          },
          "metadata": {},
          "execution_count": 13
        }
      ]
    },
    {
      "cell_type": "code",
      "source": [
        "# Print the GMM parameters\n",
        "print(\"Means of the components:\\n\", gmm.means_)\n",
        "print(\"\\nCovariances of the components:\\n\", gmm.covariances_)\n",
        "print(\"\\nWeights of the components:\\n\", gmm.weights_)\n",
        "\n",
        "# Predict the component labels for each data point\n",
        "component = gmm.predict(X_train)\n",
        "proba = gmm.predict_proba(X_train)\n",
        "\n",
        "\n",
        "# Get the labels predicted by the GMM\n",
        "labels = gmm.predict(X_train)\n",
        "\n",
        "# Display the predicted labels\n",
        "print(\"Predicted component labels for the data points:\\n\", labels)\n",
        "print(\"Predicted probabilities for each component:\\n\", proba)"
      ],
      "metadata": {
        "colab": {
          "base_uri": "https://localhost:8080/"
        },
        "id": "26kXnZhmV7JF",
        "outputId": "b8933ac4-5c5e-4e6c-c56d-9c8e00c92a45"
      },
      "execution_count": 16,
      "outputs": [
        {
          "output_type": "stream",
          "name": "stdout",
          "text": [
            "Means of the components:\n",
            " [[ 6.38159104e-01 -3.06058230e-02]\n",
            " [ 5.15898841e-01  9.06864594e+01]\n",
            " [ 4.19621282e+01 -3.06058230e-02]\n",
            " [ 6.75117229e+00 -3.06058230e-02]\n",
            " [-9.54024777e-02 -3.06058230e-02]\n",
            " [-9.54024777e-02  2.83184771e+01]\n",
            " [ 8.47532205e+01 -3.06058230e-02]\n",
            " [ 2.00768216e+01 -3.06058230e-02]\n",
            " [-9.54024777e-02  1.60141713e+02]\n",
            " [ 1.88145338e-01  7.05666490e+00]\n",
            " [ 2.68577859e-02  5.38326517e+01]\n",
            " [ 2.60700549e+00 -3.06058230e-02]\n",
            " [ 1.01744597e+01 -3.06058230e-02]\n",
            " [ 3.93638577e-01  1.98137522e+01]\n",
            " [ 6.37244552e+01 -3.06058230e-02]\n",
            " [-9.54024777e-02  2.80430247e+00]\n",
            " [-9.37937901e-02  1.38684832e+00]\n",
            " [ 1.37172069e+00 -3.06058230e-02]\n",
            " [ 4.55579797e+00 -3.06058230e-02]\n",
            " [ 2.83884385e+00  7.08421014e+01]\n",
            " [ 1.48203497e+01 -3.06058230e-02]\n",
            " [ 8.82679632e-01  1.41439356e+01]\n",
            " [ 5.19874698e+01 -3.06058230e-02]\n",
            " [ 2.36230887e+01 -3.06058230e-02]\n",
            " [ 1.05173905e+00  4.22175661e+00]\n",
            " [ 1.49118050e-01  3.68232019e+01]\n",
            " [ 3.24258277e+01 -3.06058230e-02]\n",
            " [ 1.21306239e+01  2.83184771e+01]\n",
            " [ 2.59432332e+00  1.38684832e+00]\n",
            " [ 1.49118050e-01 -3.06058230e-02]\n",
            " [ 2.10528227e+00  7.93468263e+01]\n",
            " [ 1.49118050e-01  8.47411904e+00]\n",
            " [ 1.49118050e-01  6.23373765e+01]\n",
            " [ 1.37172069e+00  1.38684832e+00]\n",
            " [ 3.32552073e+00 -3.06058230e-02]\n",
            " [ 1.39713414e-01  4.22175661e+00]\n",
            " [ 2.11189084e+00 -3.06058230e-02]\n",
            " [ 1.23751444e+01  7.05666490e+00]\n",
            " [ 1.12720016e+00  9.77737302e+01]\n",
            " [-9.54024777e-02  4.67453810e+01]\n",
            " [ 7.03265094e+01 -3.06058230e-02]\n",
            " [ 1.18112967e+01 -3.06058230e-02]\n",
            " [-9.54024777e-02  5.63921076e+00]\n",
            " [-9.54024777e-02  2.26486605e+01]\n",
            " [ 1.77545960e+01 -3.06058230e-02]\n",
            " [ 4.30596701e+00  4.22175661e+00]\n",
            " [ 2.60682939e+01  1.38684832e+00]\n",
            " [ 1.18828495e+00  2.80430247e+00]\n",
            " [ 8.70733651e+00 -3.06058230e-02]\n",
            " [ 8.82679632e-01 -3.06058230e-02]\n",
            " [ 6.01761071e+00 -3.06058230e-02]\n",
            " [ 3.60936356e+01  1.38684832e+00]\n",
            " [ 3.93638577e-01 -3.06058230e-02]\n",
            " [ 1.12720016e+00 -3.06058230e-02]\n",
            " [ 6.38159104e-01  5.66675600e+01]\n",
            " [ 4.56299361e+01 -3.06058230e-02]\n",
            " [ 2.83884385e+00  1.13090273e+01]\n",
            " [ 6.38159104e-01  1.38684832e+00]\n",
            " [ 3.32507303e-01  9.89157319e+00]\n",
            " [ 1.33532265e+01 -3.06058230e-02]\n",
            " [ 3.81692596e+00 -3.06058230e-02]\n",
            " [ 8.10854126e+01 -3.06058230e-02]\n",
            " [ 1.61624121e+00 -3.06058230e-02]\n",
            " [-9.54024777e-02  1.83962981e+01]\n",
            " [ 3.82943203e+01 -3.06058230e-02]\n",
            " [ 2.40813247e-01  1.27264815e+01]\n",
            " [ 7.48473387e+00 -3.06058230e-02]\n",
            " [ 3.93921966e+00  1.38684832e+00]\n",
            " [ 1.57984318e+01  7.05666490e+00]\n",
            " [ 2.85134992e+01 -3.06058230e-02]\n",
            " [ 1.98302202e+00  7.05666490e+00]\n",
            " [ 2.59432332e+00  2.83184771e+01]\n",
            " [ 5.03952860e+00 -3.06058230e-02]\n",
            " [ 4.92977440e+01 -3.06058230e-02]\n",
            " [ 1.86076174e+00 -3.06058230e-02]\n",
            " [ 1.61652107e+01 -3.06058230e-02]\n",
            " [ 2.34980280e+00 -3.06058230e-02]\n",
            " [ 1.98305325e+00  2.80430247e+00]\n",
            " [ 8.46281598e+00  2.80430247e+00]\n",
            " [-9.54024777e-02  1.55613898e+01]\n",
            " [ 2.34980280e+00  5.24151975e+01]\n",
            " [ 4.55048754e+00  2.80430247e+00]\n",
            " [-9.54024777e-02  2.12312063e+01]\n",
            " [ 2.83884385e+00 -3.06058230e-02]\n",
            " [ 2.34980280e+00  2.12312063e+01]\n",
            " [ 1.73850148e+00  1.55613898e+01]\n",
            " [ 6.68713688e-01  5.63921076e+00]\n",
            " [ 1.09778343e+01 -3.06058230e-02]\n",
            " [ 6.17682909e+01 -3.06058230e-02]\n",
            " [ 3.08336438e+00  5.63921076e+00]\n",
            " [ 2.59432332e+00  8.47411904e+00]\n",
            " [ 2.22754045e+00  4.22175661e+00]\n",
            " [ 3.93638577e-01  2.80430247e+00]\n",
            " [ 1.89880580e+01 -3.06058230e-02]\n",
            " [ 1.49118050e-01  1.38684832e+00]\n",
            " [ 3.07696578e+00 -3.06058230e-02]\n",
            " [ 3.45014515e+00  2.80430247e+00]\n",
            " [ 3.41374713e+01 -3.06058230e-02]\n",
            " [-9.54024777e-02  3.54057478e+01]\n",
            " [ 7.24021334e+00  1.38684832e+00]\n",
            " [ 2.68577859e-02 -3.06058230e-02]\n",
            " [ 2.53347324e+01 -3.06058230e-02]\n",
            " [ 1.12720016e+00  1.13090273e+01]\n",
            " [ 4.36737719e+01 -3.06058230e-02]\n",
            " [ 9.44089809e+00 -3.06058230e-02]\n",
            " [ 3.57791921e+00 -3.06058230e-02]\n",
            " [ 5.77309018e+00 -3.06058230e-02]\n",
            " [ 2.34980280e+00  9.89157319e+00]\n",
            " [ 4.04950051e+01 -3.06058230e-02]\n",
            " [ 8.24465986e-01  7.05666490e+00]\n",
            " [ 2.12274802e+00  1.38684832e+00]\n",
            " [ 8.32860973e+01 -3.06058230e-02]\n",
            " [ 5.77309018e+00  1.38684832e+00]\n",
            " [ 4.31054929e+00 -3.06058230e-02]\n",
            " [-9.54024777e-02  1.69788439e+01]\n",
            " [ 1.66960339e+01 -3.06058230e-02]\n",
            " [ 2.71378313e-01 -3.06058230e-02]\n",
            " [ 2.68577859e-02  2.40661146e+01]\n",
            " [ 1.18861034e+01  1.38684832e+00]\n",
            " [ 3.32788490e+00  1.38684832e+00]\n",
            " [ 4.30596701e+00  5.63921076e+00]\n",
            " [ 1.38434282e+01 -3.06058230e-02]\n",
            " [ 1.56344427e+01 -3.06058230e-02]\n",
            " [ 5.15898841e-01 -3.06058230e-02]\n",
            " [ 4.05251078e+00 -3.06058230e-02]\n",
            " [ 3.93638577e-01  1.38684832e+00]\n",
            " [ 6.38159104e-01  4.22175661e+00]\n",
            " [ 8.82679632e-01  2.26486605e+01]\n",
            " [ 4.79500807e+00 -3.06058230e-02]\n",
            " [-9.54024777e-02  7.05666490e+00]\n",
            " [ 5.52856965e+00  2.80430247e+00]\n",
            " [ 1.37172069e+00  1.98137522e+01]\n",
            " [ 2.11778834e+01 -3.06058230e-02]\n",
            " [ 1.12720016e+00  1.38684832e+00]\n",
            " [ 1.95894051e+01 -3.06058230e-02]\n",
            " [ 8.02264571e+00 -3.06058230e-02]\n",
            " [ 5.52856965e+00 -3.06058230e-02]\n",
            " [ 2.63128145e+01 -3.06058230e-02]\n",
            " [-9.54024777e-02  1.41439356e+01]\n",
            " [ 8.82679632e-01  1.38684832e+00]\n",
            " [ 1.49118050e-01  2.80430247e+00]\n",
            " [ 7.60419368e-01 -3.06058230e-02]\n",
            " [-9.54024777e-02  4.22175661e+00]\n",
            " [ 2.42343900e+01 -3.06058230e-02]\n",
            " [ 6.50665176e+00 -3.06058230e-02]\n",
            " [ 5.00313056e+01 -3.06058230e-02]\n",
            " [ 2.83884385e+00  1.38684832e+00]\n",
            " [ 5.28404912e+00 -3.06058230e-02]\n",
            " [ 6.99569281e+00 -3.06058230e-02]\n",
            " [-9.54024777e-02  6.78121249e-01]\n",
            " [ 3.93638577e-01  4.22175661e+00]\n",
            " [ 7.97377492e+00  1.38684832e+00]\n",
            " [ 2.68018555e+01  1.38684832e+00]\n",
            " [ 2.34980280e+00  2.80430247e+00]\n",
            " [ 1.86076174e+00  8.47411904e+00]\n",
            " [ 2.83884385e+00  4.22175661e+00]\n",
            " [-9.54024777e-02  2.09557539e+00]\n",
            " [ 6.38159104e-01  2.80430247e+00]\n",
            " [ 1.44504036e+01 -3.06058230e-02]\n",
            " [ 1.29456939e+01 -3.06058230e-02]\n",
            " [-9.54024777e-02  4.93048368e+00]\n",
            " [ 1.81620448e+01 -3.06058230e-02]\n",
            " [ 1.49118050e-01  5.63921076e+00]\n",
            " [ 9.86885337e+00 -3.06058230e-02]\n",
            " [ 1.04189802e+01 -3.06058230e-02]\n",
            " [ 7.72925440e+00 -3.06058230e-02]\n",
            " [ 1.00493990e+00 -3.06058230e-02]\n",
            " [ 3.87833614e+01 -3.06058230e-02]\n",
            " [ 1.06635007e+01 -3.06058230e-02]\n",
            " [ 1.42804480e+00  4.22175661e+00]\n",
            " [ 3.08336438e+00  1.38684832e+00]\n",
            " [ 8.82679632e-01  9.89157319e+00]\n",
            " [ 2.06888423e+01 -3.06058230e-02]\n",
            " [ 2.83884385e+00  2.80430247e+00]\n",
            " [ 1.22618408e+01 -3.06058230e-02]\n",
            " [ 2.34980280e+00  1.38684832e+00]\n",
            " [-9.54024777e-02  1.98137522e+01]\n",
            " [ 4.30596701e+00  1.38684832e+00]\n",
            " [ 6.26213123e+00 -3.06058230e-02]\n",
            " [ 2.47206306e+00 -3.06058230e-02]\n",
            " [-9.54024777e-02  9.89157319e+00]\n",
            " [ 1.73850148e+00 -3.06058230e-02]\n",
            " [ 1.98302200e+00 -3.06058230e-02]\n",
            " [ 1.49398095e+00 -3.06058230e-02]\n",
            " [ 1.24946042e+00 -3.06058230e-02]\n",
            " [ 9.07411953e+00 -3.06058230e-02]\n",
            " [ 8.46281598e+00 -3.06058230e-02]\n",
            " [ 1.70210344e+01 -3.06058230e-02]\n",
            " [ 5.15865361e-01  8.47411904e+00]\n",
            " [ 1.86076174e+00  1.38684832e+00]\n",
            " [ 1.49118050e-01  5.66675600e+01]\n",
            " [ 7.24021334e+00 -3.06058230e-02]\n",
            " [ 1.61624121e+00  1.38684832e+00]\n",
            " [ 3.93638577e-01  5.63921076e+00]\n",
            " [ 8.82679632e-01  2.80430247e+00]\n",
            " [-9.54024777e-02  8.47411904e+00]]\n",
            "\n",
            "Covariances of the components:\n",
            " [[1.00000000e-06 1.00000000e-06]\n",
            " [1.00000000e-06 1.00001819e-06]\n",
            " [1.00000387e-06 1.00000000e-06]\n",
            " [1.00000000e-06 1.00000000e-06]\n",
            " [1.00000000e-06 1.00000000e-06]\n",
            " [1.00000000e-06 1.00000182e-06]\n",
            " [1.00001637e-06 1.00000000e-06]\n",
            " [1.64283104e-02 1.00000000e-06]\n",
            " [1.00000000e-06 1.00006185e-06]\n",
            " [8.03426043e-03 1.00000005e-06]\n",
            " [1.49485721e-02 1.00000318e-06]\n",
            " [1.39184365e-03 1.00000000e-06]\n",
            " [1.00000004e-06 1.00000000e-06]\n",
            " [1.00000000e-06 1.00000080e-06]\n",
            " [1.00000909e-06 1.00000000e-06]\n",
            " [1.00000000e-06 1.00000000e-06]\n",
            " [1.95090704e-04 9.99999997e-07]\n",
            " [9.99999995e-07 1.00000000e-06]\n",
            " [6.23280107e-04 1.00000000e-06]\n",
            " [1.00000002e-06 1.00001091e-06]\n",
            " [1.00000023e-06 1.00000000e-06]\n",
            " [1.00000000e-06 1.00000048e-06]\n",
            " [1.00000591e-06 1.00000000e-06]\n",
            " [1.00000125e-06 1.00000000e-06]\n",
            " [1.54248501e-02 9.99999993e-07]\n",
            " [1.00000000e-06 1.00000273e-06]\n",
            " [1.00000227e-06 1.00000000e-06]\n",
            " [1.00000028e-06 1.00000182e-06]\n",
            " [1.00000000e-06 1.00000000e-06]\n",
            " [1.00000000e-06 1.00000000e-06]\n",
            " [1.00000001e-06 1.00001364e-06]\n",
            " [1.00000000e-06 1.00000004e-06]\n",
            " [1.00000000e-06 1.00000909e-06]\n",
            " [1.00000000e-06 1.00000000e-06]\n",
            " [3.41118681e-04 1.00000000e-06]\n",
            " [1.06236606e-03 1.00000000e-06]\n",
            " [7.65313557e-04 1.00000000e-06]\n",
            " [1.00000031e-06 1.00000011e-06]\n",
            " [1.00000000e-06 1.00002365e-06]\n",
            " [1.00000000e-06 1.00000500e-06]\n",
            " [1.00001091e-06 1.00000000e-06]\n",
            " [1.52209191e-02 1.00000000e-06]\n",
            " [1.00000000e-06 1.00000001e-06]\n",
            " [1.00000000e-06 1.00000057e-06]\n",
            " [1.00000068e-06 1.00000000e-06]\n",
            " [1.00000004e-06 1.00000004e-06]\n",
            " [1.00000136e-06 1.00000000e-06]\n",
            " [1.12237448e-02 9.99999995e-07]\n",
            " [1.00000006e-06 1.00000000e-06]\n",
            " [9.99999998e-07 1.00000000e-06]\n",
            " [9.99999993e-07 1.00000000e-06]\n",
            " [1.00000273e-06 1.00000000e-06]\n",
            " [1.00000000e-06 1.00000000e-06]\n",
            " [1.00000000e-06 1.00000000e-06]\n",
            " [1.00000000e-06 1.00000728e-06]\n",
            " [1.00000455e-06 1.00000000e-06]\n",
            " [1.00000002e-06 1.00000028e-06]\n",
            " [1.00000000e-06 1.00000000e-06]\n",
            " [1.12121443e-02 1.00000003e-06]\n",
            " [1.00000020e-06 1.00000000e-06]\n",
            " [1.00000002e-06 1.00000000e-06]\n",
            " [1.00001364e-06 1.00000000e-06]\n",
            " [1.00000000e-06 1.00000000e-06]\n",
            " [1.00000000e-06 1.00000040e-06]\n",
            " [1.00000318e-06 1.00000000e-06]\n",
            " [5.51201720e-02 1.00000006e-06]\n",
            " [1.00000001e-06 1.00000000e-06]\n",
            " [1.49594909e-02 1.00000000e-06]\n",
            " [1.00000054e-06 1.00000011e-06]\n",
            " [1.00000182e-06 1.00000000e-06]\n",
            " [1.49485721e-02 1.00000005e-06]\n",
            " [1.00000002e-06 1.00000182e-06]\n",
            " [1.00000001e-06 1.00000000e-06]\n",
            " [1.00000500e-06 1.00000000e-06]\n",
            " [1.00000000e-06 1.00000000e-06]\n",
            " [1.85805769e-02 1.00000000e-06]\n",
            " [9.99999978e-07 1.00000000e-06]\n",
            " [1.49607918e-02 1.00000001e-06]\n",
            " [1.00000016e-06 1.00000002e-06]\n",
            " [1.00000000e-06 1.00000026e-06]\n",
            " [1.00000001e-06 1.00000591e-06]\n",
            " [1.00000005e-06 1.00000002e-06]\n",
            " [1.00000000e-06 1.00000023e-06]\n",
            " [1.00000002e-06 1.00000000e-06]\n",
            " [1.00000001e-06 1.00000102e-06]\n",
            " [1.49485721e-02 1.00000026e-06]\n",
            " [6.54319699e-03 1.00000000e-06]\n",
            " [1.22168425e-02 1.00000000e-06]\n",
            " [1.00000909e-06 1.00000000e-06]\n",
            " [1.00000002e-06 1.00000007e-06]\n",
            " [1.00000002e-06 1.00000014e-06]\n",
            " [1.49498181e-02 1.00000002e-06]\n",
            " [1.00000000e-06 9.99999999e-07]\n",
            " [4.72779996e-02 1.00000000e-06]\n",
            " [1.00000000e-06 1.00000000e-06]\n",
            " [1.08441361e-03 1.00000000e-06]\n",
            " [1.49485830e-02 1.00000001e-06]\n",
            " [1.00000250e-06 1.00000000e-06]\n",
            " [1.00000000e-06 1.00000296e-06]\n",
            " [1.00000012e-06 1.00000000e-06]\n",
            " [1.00000000e-06 1.00000000e-06]\n",
            " [1.00000148e-06 1.00000000e-06]\n",
            " [1.00000000e-06 1.00000028e-06]\n",
            " [1.00000432e-06 1.00000000e-06]\n",
            " [1.00000007e-06 1.00000000e-06]\n",
            " [2.48458428e-03 1.00000000e-06]\n",
            " [9.99999986e-07 1.00000000e-06]\n",
            " [1.00000001e-06 1.00000021e-06]\n",
            " [1.00000364e-06 1.00000000e-06]\n",
            " [3.47153340e-02 9.99999972e-07]\n",
            " [1.83131585e-03 1.00000000e-06]\n",
            " [1.00001637e-06 1.00000000e-06]\n",
            " [1.00000007e-06 1.00000000e-06]\n",
            " [1.24346003e-03 1.00000000e-06]\n",
            " [1.00000000e-06 1.00000057e-06]\n",
            " [1.34374828e-02 1.00000000e-06]\n",
            " [1.00000000e-06 1.00000000e-06]\n",
            " [1.00000000e-06 1.00000125e-06]\n",
            " [1.00000031e-06 1.00000000e-06]\n",
            " [1.00000001e-06 1.00000000e-06]\n",
            " [1.00000004e-06 1.00000007e-06]\n",
            " [2.48304545e-02 1.00000000e-06]\n",
            " [1.34205569e-02 1.00000000e-06]\n",
            " [1.00000000e-06 1.00000000e-06]\n",
            " [1.29637195e-03 1.00000000e-06]\n",
            " [1.00000000e-06 1.00000000e-06]\n",
            " [1.00000000e-06 1.00000000e-06]\n",
            " [1.00000000e-06 1.00000114e-06]\n",
            " [1.00000001e-06 1.00000000e-06]\n",
            " [1.00000000e-06 1.00000002e-06]\n",
            " [1.00000007e-06 1.00000002e-06]\n",
            " [1.00000000e-06 1.00000080e-06]\n",
            " [1.00000102e-06 1.00000000e-06]\n",
            " [1.00000000e-06 1.00000000e-06]\n",
            " [1.90828528e-02 1.00000000e-06]\n",
            " [9.57625867e-03 1.00000000e-06]\n",
            " [1.00000000e-06 1.00000000e-06]\n",
            " [1.00000159e-06 1.00000000e-06]\n",
            " [1.00000000e-06 1.00000048e-06]\n",
            " [1.00000000e-06 1.00000000e-06]\n",
            " [1.00000000e-06 1.00000000e-06]\n",
            " [1.00000000e-06 1.00000000e-06]\n",
            " [1.00000000e-06 9.99999989e-07]\n",
            " [1.49485830e-02 1.00000000e-06]\n",
            " [1.00000001e-06 1.00000000e-06]\n",
            " [1.00000500e-06 1.00000000e-06]\n",
            " [1.00000000e-06 1.00000000e-06]\n",
            " [3.32292528e-03 1.00000000e-06]\n",
            " [9.99999993e-07 1.00000000e-06]\n",
            " [1.00000000e-06 1.00000000e-06]\n",
            " [1.00000000e-06 1.00000000e-06]\n",
            " [1.00000014e-06 1.00000000e-06]\n",
            " [1.00000148e-06 1.00000000e-06]\n",
            " [1.00000000e-06 1.00000001e-06]\n",
            " [1.00000001e-06 1.00000014e-06]\n",
            " [1.00000002e-06 1.00000004e-06]\n",
            " [1.00000000e-06 1.00000001e-06]\n",
            " [1.00000000e-06 9.99999999e-07]\n",
            " [1.64959249e-02 1.00000000e-06]\n",
            " [1.32914466e-02 1.00000000e-06]\n",
            " [1.00000000e-06 1.00000005e-06]\n",
            " [1.32988375e-02 1.00000000e-06]\n",
            " [1.00000000e-06 1.00000001e-06]\n",
            " [1.12241898e-02 1.00000000e-06]\n",
            " [1.00000009e-06 1.00000000e-06]\n",
            " [1.00000003e-06 1.00000000e-06]\n",
            " [1.00000000e-06 1.00000000e-06]\n",
            " [1.00000364e-06 1.00000000e-06]\n",
            " [1.00000009e-06 1.00000000e-06]\n",
            " [1.32927526e-02 1.00000001e-06]\n",
            " [1.00000001e-06 1.00000000e-06]\n",
            " [1.00000000e-06 1.00000023e-06]\n",
            " [1.00000097e-06 1.00000000e-06]\n",
            " [1.00000002e-06 1.00000002e-06]\n",
            " [1.61683274e-02 1.00000000e-06]\n",
            " [1.00000000e-06 1.00000000e-06]\n",
            " [1.00000000e-06 1.00000080e-06]\n",
            " [1.00000004e-06 1.00000000e-06]\n",
            " [1.00000001e-06 1.00000000e-06]\n",
            " [9.99999999e-07 1.00000000e-06]\n",
            " [1.00000000e-06 1.00000024e-06]\n",
            " [1.00000000e-06 1.00000000e-06]\n",
            " [9.99999999e-07 1.00000000e-06]\n",
            " [1.00000000e-06 1.00000000e-06]\n",
            " [1.00000000e-06 1.00000000e-06]\n",
            " [1.49717760e-02 1.00000000e-06]\n",
            " [1.00000003e-06 1.00000000e-06]\n",
            " [1.00000028e-06 1.00000000e-06]\n",
            " [1.49594910e-02 1.00000004e-06]\n",
            " [1.00000000e-06 1.00000000e-06]\n",
            " [1.00000000e-06 1.00000728e-06]\n",
            " [1.00000004e-06 1.00000000e-06]\n",
            " [1.00000000e-06 1.00000000e-06]\n",
            " [1.00000000e-06 1.00000002e-06]\n",
            " [1.00000000e-06 1.00000000e-06]\n",
            " [1.00000000e-06 1.00000007e-06]]\n",
            "\n",
            "Weights of the components:\n",
            " [4.86389534e-03 1.05507491e-05 1.05507491e-05 8.44059928e-05\n",
            " 9.32295843e-01 1.05507491e-05 1.05507491e-05 2.07094541e-05\n",
            " 1.05507491e-05 5.02049450e-05 2.11014982e-05 1.11842264e-03\n",
            " 7.38428132e-05 1.05507491e-05 1.05507491e-05 2.95420975e-04\n",
            " 1.60371386e-03 2.60603503e-03 2.42677182e-04 1.05507491e-05\n",
            " 2.10990714e-05 1.05507491e-05 1.05507491e-05 1.05507485e-05\n",
            " 6.37860324e-05 1.05507491e-05 1.05507491e-05 1.05507491e-05\n",
            " 4.22029964e-05 2.05317578e-02 1.05507491e-05 4.22010712e-05\n",
            " 1.05507491e-05 6.33044946e-05 6.37232109e-04 1.37159738e-04\n",
            " 1.56151196e-03 1.05507491e-05 1.05507491e-05 1.05507491e-05\n",
            " 1.05507491e-05 9.67882658e-05 6.33044946e-05 2.11014982e-05\n",
            " 1.05502164e-05 1.05507491e-05 1.05507491e-05 8.44182691e-05\n",
            " 4.21972065e-05 3.75606668e-03 1.05507491e-04 1.05507491e-05\n",
            " 7.14285714e-03 3.09136949e-03 1.05507491e-05 1.05507491e-05\n",
            " 1.05507491e-05 2.32116480e-04 4.22031103e-05 2.10983648e-05\n",
            " 5.06435949e-04 1.05507491e-05 1.73032285e-03 2.11014982e-05\n",
            " 1.05507491e-05 4.22029964e-05 6.33044945e-05 4.22068481e-05\n",
            " 1.05507491e-05 1.05507491e-05 2.11014960e-05 1.05507491e-05\n",
            " 2.11014778e-04 1.05507491e-05 1.21333615e-03 2.16455418e-05\n",
            " 1.29774214e-03 4.22070018e-05 1.05507491e-05 2.11014982e-05\n",
            " 1.05507491e-05 1.05507491e-05 3.16522473e-05 8.44059928e-04\n",
            " 1.05507491e-05 2.11014982e-05 8.44092093e-05 7.38669285e-05\n",
            " 1.05507491e-05 1.05507491e-05 1.05507491e-05 2.11015710e-05\n",
            " 1.26608989e-04 3.20174751e-05 5.27537455e-04 6.61717835e-04\n",
            " 2.11014989e-05 1.05507491e-05 1.05507491e-05 1.05507491e-05\n",
            " 2.66933952e-03 1.05507491e-05 1.05507491e-05 1.05507491e-05\n",
            " 4.21969778e-05 4.94677412e-04 1.26608989e-04 1.05507491e-05\n",
            " 1.05507491e-05 6.58581868e-05 7.38552451e-05 1.05507491e-05\n",
            " 1.05507491e-05 3.45747062e-04 1.05507491e-05 3.13856806e-05\n",
            " 9.39016670e-04 1.05507491e-05 1.05507491e-05 4.22029951e-05\n",
            " 1.05507491e-05 5.27492018e-05 3.13800804e-05 6.01392699e-04\n",
            " 2.55635684e-04 2.21565731e-04 5.27521017e-05 1.05507491e-05\n",
            " 2.21565731e-04 5.27488560e-05 1.05507491e-05 1.05507491e-05\n",
            " 1.05507491e-05 1.58261237e-04 4.22623675e-05 5.27597905e-05\n",
            " 9.49565380e-05 1.05507491e-05 1.05507491e-05 1.47710487e-04\n",
            " 2.21565731e-04 5.27537455e-04 1.37159738e-04 2.11014989e-05\n",
            " 1.26608989e-04 1.05507491e-05 1.05507491e-04 9.49571499e-05\n",
            " 1.47710487e-04 1.05507491e-05 8.44059926e-05 1.05507491e-05\n",
            " 1.05507491e-05 2.10976467e-05 1.05507491e-05 1.05507485e-05\n",
            " 1.05507491e-05 8.44059917e-05 2.11117034e-05 3.16521176e-05\n",
            " 1.05507491e-05 3.16202266e-05 7.38552437e-05 8.44184194e-05\n",
            " 4.22029934e-05 5.27477225e-05 3.37623971e-04 1.05507491e-05\n",
            " 5.27420304e-05 4.17230305e-05 4.22029964e-05 1.05507486e-05\n",
            " 1.05507477e-05 1.05507485e-05 1.92700349e-05 4.22029951e-05\n",
            " 1.05507491e-05 1.05468987e-05 4.22029964e-05 1.47667249e-04\n",
            " 1.05506358e-05 1.58261237e-04 1.58260141e-04 2.00464233e-04\n",
            " 1.37159738e-04 6.33163101e-05 4.22029727e-05 3.16469373e-05\n",
            " 2.11034241e-05 3.16522473e-05 1.05507491e-05 3.16522473e-05\n",
            " 3.16522473e-05 3.16490309e-05 3.16398183e-05 2.11014976e-05]\n",
            "Predicted component labels for the data points:\n",
            " [4 4 4 ... 4 4 4]\n",
            "Predicted probabilities for each component:\n",
            " [[0. 0. 0. ... 0. 0. 0.]\n",
            " [0. 0. 0. ... 0. 0. 0.]\n",
            " [0. 0. 0. ... 0. 0. 0.]\n",
            " ...\n",
            " [0. 0. 0. ... 0. 0. 0.]\n",
            " [0. 0. 0. ... 0. 0. 0.]\n",
            " [0. 0. 0. ... 0. 0. 0.]]\n"
          ]
        }
      ]
    },
    {
      "cell_type": "markdown",
      "source": [
        "**1.4 Evaluation of the model**"
      ],
      "metadata": {
        "id": "1JyB3qBCbKcZ"
      }
    },
    {
      "cell_type": "code",
      "source": [
        "# Evaluate the log-likelihood of the trained GMM\n",
        "log_likelihood = gmm.score(X_train)\n",
        "print(f'Log-Likelihood: {log_likelihood}')\n",
        "\n",
        "\n",
        "# Compute silhouette score\n",
        "silhouette = silhouette_score(X_train, labels)\n",
        "print(f'Silhouette Score: {silhouette}')\n"
      ],
      "metadata": {
        "colab": {
          "base_uri": "https://localhost:8080/"
        },
        "id": "PkQqRy_WbY8D",
        "outputId": "4c4afeff-45ba-4cfe-8998-ed99ba6d48f7"
      },
      "execution_count": 17,
      "outputs": [
        {
          "output_type": "stream",
          "name": "stdout",
          "text": [
            "Log-Likelihood: 11.487163970789261\n",
            "Silhouette Score: 0.9978535610954639\n"
          ]
        }
      ]
    },
    {
      "cell_type": "code",
      "source": [
        "Valid_score = gmm.score(X_valid)  # Log-likelihood score on test data\n",
        "Valid_labels = gmm.predict(X_valid)  # Cluster labels for test data\n",
        "silhouette = silhouette_score(X_valid, Valid_labels)  # Silhouette score\n",
        "\n",
        "print(f\"Log-likelihood on test set: {Valid_score}\")\n",
        "print(f\"Silhouette score on test set: {silhouette}\")"
      ],
      "metadata": {
        "colab": {
          "base_uri": "https://localhost:8080/"
        },
        "id": "Eug7gY1dqxTo",
        "outputId": "e6e48ca5-8470-415d-deea-067a5f3cc743"
      },
      "execution_count": 18,
      "outputs": [
        {
          "output_type": "stream",
          "name": "stdout",
          "text": [
            "Log-likelihood on test set: 5.352370760912957\n",
            "Silhouette score on test set: 0.9972935484164206\n"
          ]
        }
      ]
    },
    {
      "cell_type": "code",
      "source": [
        "test_score = gmm.score(X_test)  # Log-likelihood score on test data\n",
        "test_labels = gmm.predict(X_test)  # Cluster labels for test data\n",
        "silhouette = silhouette_score(X_test, test_labels)  # Silhouette score\n",
        "\n",
        "print(f\"Log-likelihood on test set: {test_score}\")\n",
        "print(f\"Silhouette score on test set: {silhouette}\")\n"
      ],
      "metadata": {
        "id": "-o-4Ce9de3-w"
      },
      "execution_count": null,
      "outputs": []
    },
    {
      "cell_type": "code",
      "source": [
        "# Calculate BIC for training data\n",
        "train_bic = gmm.bic(train_data)\n",
        "print(f\"BIC (Train): {train_bic}\")\n",
        "\n",
        "# Similarly, calculate BIC for validation and test data\n",
        "val_bic = gmm.bic(val_data)\n",
        "print(f\"BIC (Validation): {val_bic}\")\n",
        "\n",
        "test_bic = gmm.bic(test_data)\n",
        "print(f\"BIC (Test): {test_bic}\")\n"
      ],
      "metadata": {
        "colab": {
          "base_uri": "https://localhost:8080/"
        },
        "id": "0IV_O0ueoAnj",
        "outputId": "e2d24f68-079c-42f5-d363-4d4639d5dbdc"
      },
      "execution_count": 37,
      "outputs": [
        {
          "output_type": "stream",
          "name": "stdout",
          "text": [
            "BIC (Train): 2962960.106992259\n",
            "BIC (Validation): 651802.9769856478\n",
            "BIC (Test): 633056.402844801\n"
          ]
        }
      ]
    },
    {
      "cell_type": "markdown",
      "source": [
        "**1.5 Anomalies identification**"
      ],
      "metadata": {
        "id": "1YUclHVWrutA"
      }
    },
    {
      "cell_type": "code",
      "source": [
        "# Compute log-probabilities for data\n",
        "log_probs = gmm.score_samples(X_train)"
      ],
      "metadata": {
        "id": "U09ZApQpr15t"
      },
      "execution_count": 40,
      "outputs": []
    },
    {
      "cell_type": "code",
      "source": [
        "print(X_train.head())\n"
      ],
      "metadata": {
        "id": "aHdclvHae39Y",
        "outputId": "343cdab4-380d-4c9d-dac0-0de69afa560c",
        "colab": {
          "base_uri": "https://localhost:8080/"
        }
      },
      "execution_count": 41,
      "outputs": [
        {
          "output_type": "stream",
          "name": "stdout",
          "text": [
            "                     Precipitation_geopolis  Precipitation_vclb\n",
            "DateTime                                                       \n",
            "2022-12-08 00:03:00               -0.095402           -0.030606\n",
            "2022-12-08 00:06:00               -0.095402           -0.030606\n",
            "2022-12-08 00:09:00               -0.095402           -0.030606\n",
            "2022-12-08 00:12:00               -0.095402           -0.030606\n",
            "2022-12-08 00:15:00               -0.095402           -0.030606\n"
          ]
        }
      ]
    },
    {
      "cell_type": "code",
      "source": [
        "threshold = np.percentile(gmm.score_samples(X_train), 5)  # 5th percentile\n",
        "anomalies = X_train[log_probs < threshold]\n",
        "print(anomalies.shape)\n",
        "print(anomalies.head())"
      ],
      "metadata": {
        "colab": {
          "base_uri": "https://localhost:8080/"
        },
        "id": "XsrxcsYRr-hj",
        "outputId": "a9e0acbd-f9ad-45fd-ea38-2b6d1647aa68"
      },
      "execution_count": 42,
      "outputs": [
        {
          "output_type": "stream",
          "name": "stdout",
          "text": [
            "(4471, 2)\n",
            "                     Precipitation_geopolis  Precipitation_vclb\n",
            "DateTime                                                       \n",
            "2022-12-08 22:18:00                1.004940           -0.030606\n",
            "2022-12-08 22:21:00                0.882680           -0.030606\n",
            "2022-12-08 22:24:00                0.882680           -0.030606\n",
            "2022-12-08 22:27:00                0.638159           -0.030606\n",
            "2022-12-08 22:30:00                0.638159           -0.030606\n"
          ]
        }
      ]
    },
    {
      "cell_type": "markdown",
      "source": [
        "**1.6 Visualization**"
      ],
      "metadata": {
        "id": "SQJPXhV-A688"
      }
    },
    {
      "cell_type": "code",
      "source": [
        "# Ensure grid_points has the correct feature names, if necessary.\n",
        "\n",
        "# Determine the full range of data\n",
        "x_min = min(X_train['Precipitation_geopolis'].min(), anomalies['Precipitation_geopolis'].min()) - 10\n",
        "x_max = max(X_train['Precipitation_geopolis'].max(), anomalies['Precipitation_geopolis'].max()) + 10\n",
        "y_min = min(X_train['Precipitation_vclb'].min(), anomalies['Precipitation_vclb'].min()) - 10\n",
        "y_max = max(X_train['Precipitation_vclb'].max(), anomalies['Precipitation_vclb'].max()) + 10\n",
        "\n",
        "# Create grid points for contours within the new limits\n",
        "xx, yy = np.meshgrid(np.linspace(x_min, x_max, 300), np.linspace(y_min, y_max, 300))\n",
        "grid_points = np.vstack([xx.ravel(), yy.ravel()]).T\n",
        "grid_points_named = pd.DataFrame(grid_points, columns=['Precipitation_geopolis', 'Precipitation_vclb'])\n",
        "\n",
        "# Compute density and reshape\n",
        "Z = gmm.score_samples(grid_points_named)\n",
        "Z = np.exp(Z)\n",
        "Z = Z.reshape(xx.shape)\n",
        "\n",
        "# Plotting\n",
        "plt.figure(figsize=(10, 8))\n",
        "contour = plt.contourf(xx, yy, Z, levels=np.logspace(-11, -2, 20), cmap='Blues', norm=LogNorm(), alpha=0.7)\n",
        "plt.colorbar(contour, label=\"Log Density\")\n",
        "\n",
        "plt.scatter(X_train['Precipitation_geopolis'], X_train['Precipitation_vclb'],\n",
        "            c=labels, cmap='viridis', s=10, alpha=0.7, label=\"Data\")\n",
        "plt.scatter(anomalies['Precipitation_geopolis'], anomalies['Precipitation_vclb'],\n",
        "            c=\"red\", s=50, marker='*', edgecolor='black', label=\"Anomalies\")\n",
        "\n",
        "# Set axis limits\n",
        "plt.xlim(x_min, x_max)\n",
        "plt.ylim(y_min, y_max)\n",
        "\n",
        "plt.title(\"Gaussian Mixture Model: Density and Anomalies\", fontsize=14)\n",
        "plt.xlabel(\"Precipitation at geopolis (drops)\", fontsize=12)\n",
        "plt.ylabel(\"Precipitation at vclb (drops)\", fontsize=12)\n",
        "plt.legend(loc='upper left', fontsize=10, frameon=True)\n",
        "plt.tight_layout()\n",
        "\n",
        "# Save the figure as a PDF\n",
        "output_path2 = \"anomalies_improved_noncorr.pdf\"\n",
        "plt.savefig(output_path2, format='pdf')\n",
        "\n",
        "plt.show()"
      ],
      "metadata": {
        "colab": {
          "base_uri": "https://localhost:8080/",
          "height": 843
        },
        "id": "bGHL_T6I6zJY",
        "outputId": "786c0905-39e4-43db-d50d-87f39ceaa1be"
      },
      "execution_count": 43,
      "outputs": [
        {
          "output_type": "stream",
          "name": "stderr",
          "text": [
            "<ipython-input-43-139b003872bf>:21: UserWarning: Log scale: values of z <= 0 have been masked\n",
            "  contour = plt.contourf(xx, yy, Z, levels=np.logspace(-11, -2, 20), cmap='Blues', norm=LogNorm(), alpha=0.7)\n"
          ]
        },
        {
          "output_type": "display_data",
          "data": {
            "text/plain": [
              "<Figure size 1000x800 with 2 Axes>"
            ],
            "image/png": "[encoded data removed]"
          },
          "metadata": {}
        }
      ]
    },
    {
      "cell_type": "code",
      "source": [
        "print(f\"x_min: {x_min}, x_max: {x_max}\")\n",
        "print(f\"y_min: {y_min}, y_max: {y_max}\")"
      ],
      "metadata": {
        "colab": {
          "base_uri": "https://localhost:8080/"
        },
        "id": "o4bgc8jmOOg6",
        "outputId": "70472972-3d07-4f7e-83ca-db563bc7150c"
      },
      "execution_count": null,
      "outputs": [
        {
          "output_type": "stream",
          "name": "stdout",
          "text": [
            "x_min: -10.0, x_max: 357.0\n",
            "y_min: -10.0, y_max: 123.0\n"
          ]
        }
      ]
    }
  ]
}