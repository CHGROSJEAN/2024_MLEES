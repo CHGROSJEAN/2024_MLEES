{
  "nbformat": 4,
  "nbformat_minor": 0,
  "metadata": {
    "colab": {
      "provenance": [],
      "authorship_tag": "ABX9TyOaepyYyND25S0j3jdzfBUp",
      "include_colab_link": true
    },
    "kernelspec": {
      "name": "python3",
      "display_name": "Python 3"
    },
    "language_info": {
      "name": "python"
    }
  },
  "cells": [
    {
      "cell_type": "markdown",
      "metadata": {
        "id": "view-in-github",
        "colab_type": "text"
      },
      "source": [
        "<a href=\"https://colab.research.google.com/github/CHGROSJEAN/2024_MLEES/blob/main/Projet/Projet_Charlotte_Grosjean_GMM_2Stations_bis.ipynb\" target=\"_parent\"><img src=\"https://colab.research.google.com/assets/colab-badge.svg\" alt=\"Open In Colab\"/></a>"
      ]
    },
    {
      "cell_type": "markdown",
      "source": [
        "# 0. Import libraries and data\n"
      ],
      "metadata": {
        "id": "QXksE2TVITc1"
      }
    },
    {
      "cell_type": "code",
      "execution_count": 1,
      "metadata": {
        "id": "pigbLfeItiB-"
      },
      "outputs": [],
      "source": [
        "# Import\n",
        "import geopandas as gpd\n",
        "import pandas as pd\n",
        "import xarray as xr\n",
        "import numpy as np\n",
        "import matplotlib.pyplot as plt\n",
        "import matplotlib.colors as mcolors\n",
        "from matplotlib.colors import LogNorm\n",
        "import os\n",
        "from shapely.geometry import Point\n",
        "from sklearn.metrics import silhouette_score\n",
        "from sklearn.mixture import GaussianMixture\n",
        "import seaborn as sns\n",
        "from sklearn.preprocessing import StandardScaler\n"
      ]
    },
    {
      "cell_type": "markdown",
      "source": [
        "Download data sets"
      ],
      "metadata": {
        "id": "o2eBIRSWH6dg"
      }
    },
    {
      "cell_type": "code",
      "source": [
        "# Reading the Excel files\n",
        "\n",
        "geopolis = pd.read_excel(\"https://raw.githubusercontent.com/CHGROSJEAN/2024_MLEES/main/Projet/Stations/Geopolis.xlsx\")\n",
        "vclb = pd.read_excel(\"https://raw.githubusercontent.com/CHGROSJEAN/2024_MLEES/main/Projet/Stations/VersChezLesBlancs.xlsx\")\n",
        "\n",
        "\n",
        "# Displaying the first few rows of each datase\n",
        "print(\"\\nData from Geopolis:\")\n",
        "print(geopolis.head())\n",
        "\n",
        "print(\"\\nData from Vers-chez-les-Blanc:\")\n",
        "print(vclb.head())\n"
      ],
      "metadata": {
        "id": "oulEz3AxIbgs",
        "colab": {
          "base_uri": "https://localhost:8080/"
        },
        "outputId": "dab4f924-533b-4e47-e8a6-126ae9e28b31"
      },
      "execution_count": 2,
      "outputs": [
        {
          "output_type": "stream",
          "name": "stdout",
          "text": [
            "\n",
            "Data from Geopolis:\n",
            "   Index             DateTime  Precipitation\n",
            "0      1  11.11.2022 00:02:18              0\n",
            "1      2  11.11.2022 00:04:18              0\n",
            "2      3  11.11.2022 00:06:18              0\n",
            "3      4  11.11.2022 00:08:18              0\n",
            "4      5  11.11.2022 00:10:18              0\n",
            "\n",
            "Data from Vers-chez-les-Blanc:\n",
            "   Index             DateTime  Precipitation\n",
            "0      1  08.12.2022 00:03:45              0\n",
            "1      2  08.12.2022 00:06:45              0\n",
            "2      3  08.12.2022 00:09:45              0\n",
            "3      4  08.12.2022 00:12:45              0\n",
            "4      5  08.12.2022 00:15:45              0\n"
          ]
        }
      ]
    },
    {
      "cell_type": "code",
      "source": [
        "# Ensuring the 'DateTime' the column is of datetime type for both datasets\n",
        "geopolis['DateTime'] = pd.to_datetime(geopolis['DateTime'], dayfirst=True)\n",
        "vclb['DateTime'] = pd.to_datetime(vclb['DateTime'], dayfirst=True)\n",
        "\n",
        "# Setting the DateTime column as the index for easier time-based operations\n",
        "geopolis.set_index('DateTime', inplace=True)\n",
        "vclb.set_index('DateTime', inplace=True)"
      ],
      "metadata": {
        "id": "fyElIL3X6ghE"
      },
      "execution_count": 3,
      "outputs": []
    },
    {
      "cell_type": "markdown",
      "source": [
        "# 1. SIMPLE GMM BASELINE FOR 2 STATIONS"
      ],
      "metadata": {
        "id": "lXAUNE_qH7Fz"
      }
    },
    {
      "cell_type": "markdown",
      "source": [
        "Frist step, simple GMM for 2 non-correlated stations : Geopolis and Vers-chez-les-blanc\n"
      ],
      "metadata": {
        "id": "33NhiVsFS0iz"
      }
    },
    {
      "cell_type": "markdown",
      "source": [
        "**1.0 Preprocessing and visualization**\n"
      ],
      "metadata": {
        "id": "gkp_ccgNaFTf"
      }
    },
    {
      "cell_type": "markdown",
      "source": [
        "Pre-processing the data to ensure the data is clean following the following steps:\n",
        "- Setting DateTime as the index\n",
        "- Selecting the period (data for both station)\n",
        "- Converting drops in mm\n"
      ],
      "metadata": {
        "id": "KsNkNQn5X6Lj"
      }
    },
    {
      "cell_type": "code",
      "source": [
        "#Finding the common time period between the two datasets\n",
        "start_time = max(geopolis.index.min(), vclb.index.min())\n",
        "end_time = min(geopolis.index.max(), vclb.index.max())\n",
        "\n",
        "# Filtering both datasets to the common time period\n",
        "geopolis_filtered = geopolis.loc[start_time:end_time]\n",
        "vclb_filtered = vclb.loc[start_time:end_time]\n",
        "\n",
        "# Converting precipitation from drops to mm ( 1 drop = 0.01 mm)\n",
        "geopolis_filtered['Precipitation_mm'] = geopolis_filtered['Precipitation'] * 0.01\n",
        "vclb_filtered['Precipitation_mm'] = vclb_filtered['Precipitation'] * 0.01\n",
        "\n",
        "# Plotting the data\n",
        "plt.figure(figsize=(12, 6))\n",
        "plt.plot(geopolis_filtered.index, geopolis_filtered['Precipitation_mm'], label='Geopolis', color='blue', alpha=0.7)\n",
        "plt.plot(vclb_filtered.index, vclb_filtered['Precipitation_mm'], label='Vers-chez-les-Blanc', color='green', alpha=0.7)\n",
        "\n",
        "# Adding labels, title, and legend\n",
        "plt.xlabel('Time')\n",
        "plt.ylabel('Precipitation (mm)')\n",
        "plt.title('Precipitation Over Time')\n",
        "plt.legend()\n",
        "plt.grid(True)\n",
        "\n",
        "# Display the plot\n",
        "plt.show()"
      ],
      "metadata": {
        "colab": {
          "base_uri": "https://localhost:8080/",
          "height": 772
        },
        "id": "zYJxuK8IFlNs",
        "outputId": "c143627a-c297-48a6-dc97-92ba9ec66c48"
      },
      "execution_count": 4,
      "outputs": [
        {
          "output_type": "stream",
          "name": "stderr",
          "text": [
            "<ipython-input-4-6d5aeb271736>:10: SettingWithCopyWarning: \n",
            "A value is trying to be set on a copy of a slice from a DataFrame.\n",
            "Try using .loc[row_indexer,col_indexer] = value instead\n",
            "\n",
            "See the caveats in the documentation: https://pandas.pydata.org/pandas-docs/stable/user_guide/indexing.html#returning-a-view-versus-a-copy\n",
            "  geopolis_filtered['Precipitation_mm'] = geopolis_filtered['Precipitation'] * 0.01\n",
            "<ipython-input-4-6d5aeb271736>:11: SettingWithCopyWarning: \n",
            "A value is trying to be set on a copy of a slice from a DataFrame.\n",
            "Try using .loc[row_indexer,col_indexer] = value instead\n",
            "\n",
            "See the caveats in the documentation: https://pandas.pydata.org/pandas-docs/stable/user_guide/indexing.html#returning-a-view-versus-a-copy\n",
            "  vclb_filtered['Precipitation_mm'] = vclb_filtered['Precipitation'] * 0.01\n"
          ]
        },
        {
          "output_type": "display_data",
          "data": {
            "text/plain": [
              "<Figure size 1200x600 with 1 Axes>"
            ],
            "image/png": "[encoded data removed]"
          },
          "metadata": {}
        }
      ]
    },
    {
      "cell_type": "markdown",
      "source": [
        "To work with 2 staitions in a GMM model, the data needs to be aligned and merge in 1 dataset. Here are the steps followed to create this dataset:\n",
        "- Remove the seconds units to have minute precision\n",
        "- Aligning both datasets to the period (Both dataset have 3 minutes interval)\n",
        "- If some time points are still missing from one station, drop them from the analysis\n",
        "- Merge datasets in 1 dataset for GMM\n",
        "\n",
        "Normally, sensors are set to measure every three minutes, starting with the full hour, so that stations take measurements at the same minutes for easier analysis.\n",
        "\n",
        "So, when we remove the seconds, we round up to the previous minute to keep this matching.\n",
        "\n",
        "We still have a step to align the two datasets, as some sensors are not set to the same minutes and are therefore out of sync."
      ],
      "metadata": {
        "id": "lloBkzCSRSzE"
      }
    },
    {
      "cell_type": "code",
      "source": [
        "# Round down the DateTime to the previous minute (removes seconds, truncating)\n",
        "geopolis.index = geopolis.index.floor('min')  # rounded to the nearest lower minute\n",
        "vclb.index = vclb.index.floor('min')\n",
        "\n",
        "# Resampling to the closest 3-minute interval and filling missing values with NaN\n",
        "geopolis_resampled = geopolis.resample('3min').mean()\n",
        "vclb_resampled = vclb.resample('3min').mean()\n",
        "\n",
        "# Align both datasets to the common time period (intersection of their timestamps)\n",
        "start_time = max(geopolis_resampled.index.min(), vclb_resampled.index.min())\n",
        "end_time = min(geopolis_resampled.index.max(), vclb_resampled.index.max())\n",
        "\n",
        "geopolis_aligned = geopolis_resampled.loc[start_time:end_time]\n",
        "vclb_aligned = vclb_resampled.loc[start_time:end_time]\n",
        "\n",
        "# Drop rows with missing values from both datasets\n",
        "geopolis_aligned = geopolis_aligned.dropna()\n",
        "vclb_aligned = vclb_aligned.dropna()\n",
        "\n",
        "# Now both datasets are aligned and cleaned. Viewing the cleaned and aligned data\n",
        "print(\"Aligned and cleaned geopolis data:\")\n",
        "print(geopolis_aligned.head())\n",
        "\n",
        "print(\"Aligned and cleaned vclb data:\")\n",
        "print(vclb_aligned.head())\n"
      ],
      "metadata": {
        "colab": {
          "base_uri": "https://localhost:8080/"
        },
        "id": "3MkqvfzxHPTv",
        "outputId": "7fd6a899-23d4-4b84-aa6a-76088eb7439d"
      },
      "execution_count": 5,
      "outputs": [
        {
          "output_type": "stream",
          "name": "stdout",
          "text": [
            "Aligned and cleaned geopolis data:\n",
            "                       Index  Precipitation\n",
            "DateTime                                   \n",
            "2022-12-08 00:03:00  19442.0            0.0\n",
            "2022-12-08 00:06:00  19443.5            0.0\n",
            "2022-12-08 00:09:00  19445.0            0.0\n",
            "2022-12-08 00:12:00  19446.5            0.0\n",
            "2022-12-08 00:15:00  19448.0            0.0\n",
            "Aligned and cleaned vclb data:\n",
            "                     Index  Precipitation\n",
            "DateTime                                 \n",
            "2022-12-08 00:03:00    1.0            0.0\n",
            "2022-12-08 00:06:00    2.0            0.0\n",
            "2022-12-08 00:09:00    3.0            0.0\n",
            "2022-12-08 00:12:00    4.0            0.0\n",
            "2022-12-08 00:15:00    5.0            0.0\n"
          ]
        }
      ]
    },
    {
      "cell_type": "markdown",
      "source": [
        "Here is a visualization of 2 datasets to see what the distributions look like"
      ],
      "metadata": {
        "id": "o-o3-61iR1Z6"
      }
    },
    {
      "cell_type": "code",
      "source": [
        "# Plotting the data for both stations\n",
        "plt.figure(figsize=(12, 6))\n",
        "\n",
        "# Plot Grand-Vennes data\n",
        "plt.plot(geopolis_aligned.index, geopolis_aligned['Precipitation'], label='Geopolis', color='blue')\n",
        "\n",
        "# Plot Riand-Pré data\n",
        "plt.plot(vclb_aligned.index, vclb_aligned['Precipitation'], label='Vers-chez-les-Blanc', color='orange')\n",
        "\n",
        "# Add labels and title\n",
        "plt.xlabel('DateTime')\n",
        "plt.ylabel('Precipitation (drops)')\n",
        "plt.title('Precipitation Over Time for Geopolis and Vers-chez-les-Blanc')\n",
        "\n",
        "# Rotate date labels for better readability\n",
        "plt.xticks(rotation=45)\n",
        "\n",
        "# Add a legend\n",
        "plt.legend()\n",
        "\n",
        "# Display the plot\n",
        "plt.tight_layout()\n",
        "plt.show()"
      ],
      "metadata": {
        "colab": {
          "base_uri": "https://localhost:8080/",
          "height": 607
        },
        "id": "FVmdp1uANBKK",
        "outputId": "a4f08b68-60a6-4b1c-d172-a448ffe00fa3"
      },
      "execution_count": 6,
      "outputs": [
        {
          "output_type": "display_data",
          "data": {
            "text/plain": [
              "<Figure size 1200x600 with 1 Axes>"
            ],
            "image/png": "[encoded data removed]"
          },
          "metadata": {}
        }
      ]
    },
    {
      "cell_type": "markdown",
      "source": [
        "Final step to merge the datasets"
      ],
      "metadata": {
        "id": "eamqZYhDii4P"
      }
    },
    {
      "cell_type": "code",
      "source": [
        "# Merge the datasets on the 'DateTime' index\n",
        "combined_data = pd.merge(geopolis_aligned[['Precipitation']],\n",
        "                         vclb_aligned[['Precipitation']],\n",
        "                         left_index=True, right_index=True,\n",
        "                         suffixes=('_geopolis', '_vclb'))\n",
        "\n",
        "# Display the first few rows of the combined data\n",
        "print(\"Combined Precipitation Data:\")\n",
        "print(combined_data.head())\n",
        "print(combined_data.shape)"
      ],
      "metadata": {
        "colab": {
          "base_uri": "https://localhost:8080/"
        },
        "id": "k2LqPBrXNsx4",
        "outputId": "2e262213-f63a-4bd3-da51-717ed07a52e9"
      },
      "execution_count": 7,
      "outputs": [
        {
          "output_type": "stream",
          "name": "stdout",
          "text": [
            "Combined Precipitation Data:\n",
            "                     Precipitation_geopolis  Precipitation_vclb\n",
            "DateTime                                                       \n",
            "2022-12-08 00:03:00                     0.0                 0.0\n",
            "2022-12-08 00:06:00                     0.0                 0.0\n",
            "2022-12-08 00:09:00                     0.0                 0.0\n",
            "2022-12-08 00:12:00                     0.0                 0.0\n",
            "2022-12-08 00:15:00                     0.0                 0.0\n",
            "(135401, 2)\n"
          ]
        }
      ]
    },
    {
      "cell_type": "markdown",
      "source": [
        "**1.1 Splitting dataset**"
      ],
      "metadata": {
        "id": "X7rhMsvqSNSo"
      }
    },
    {
      "cell_type": "markdown",
      "source": [
        "Split the dataset following this repartition\n",
        "- First 70% = Training set\n",
        "- Next 15% = Validation set  \n",
        "- Last 15% = Testing set"
      ],
      "metadata": {
        "id": "1PCpPuvEdW5x"
      }
    },
    {
      "cell_type": "code",
      "source": [
        "# Calculate the index for the splits\n",
        "train_size = int(0.7 * len(combined_data))  # 70% for training\n",
        "val_size = int(0.15 * len(combined_data))  # 15% for validation\n",
        "test_size = len(combined_data) - train_size - val_size  # 15% for testing\n",
        "\n",
        "# Split the data sequentially\n",
        "train_data = combined_data[:train_size]\n",
        "val_data = combined_data[train_size:train_size + val_size]\n",
        "test_data = combined_data[train_size + val_size:]\n",
        "\n",
        "# Display the sizes of each dataset\n",
        "print(f\"Training set size: {len(train_data)}\")\n",
        "print(f\"Validation set size: {len(val_data)}\")\n",
        "print(f\"Test set size: {len(test_data)}\")\n",
        "\n",
        "# Display the first few rows of each dataset\n",
        "print(\"\\nTraining Data:\")\n",
        "print(train_data.head())\n",
        "\n",
        "print(\"\\nValidation Data:\")\n",
        "print(val_data.head())\n",
        "\n",
        "print(\"\\nTest Data:\")\n",
        "print(test_data.head())\n"
      ],
      "metadata": {
        "colab": {
          "base_uri": "https://localhost:8080/"
        },
        "id": "IAlOBJ0aOQRr",
        "outputId": "ab8e2442-b218-4d8b-f20d-365244712215"
      },
      "execution_count": 8,
      "outputs": [
        {
          "output_type": "stream",
          "name": "stdout",
          "text": [
            "Training set size: 94780\n",
            "Validation set size: 20310\n",
            "Test set size: 20311\n",
            "\n",
            "Training Data:\n",
            "                     Precipitation_geopolis  Precipitation_vclb\n",
            "DateTime                                                       \n",
            "2022-12-08 00:03:00                     0.0                 0.0\n",
            "2022-12-08 00:06:00                     0.0                 0.0\n",
            "2022-12-08 00:09:00                     0.0                 0.0\n",
            "2022-12-08 00:12:00                     0.0                 0.0\n",
            "2022-12-08 00:15:00                     0.0                 0.0\n",
            "\n",
            "Validation Data:\n",
            "                     Precipitation_geopolis  Precipitation_vclb\n",
            "DateTime                                                       \n",
            "2023-08-12 16:03:00                     0.0                 0.0\n",
            "2023-08-12 16:06:00                     0.0                 0.0\n",
            "2023-08-12 16:09:00                     0.0                 0.0\n",
            "2023-08-12 16:12:00                     0.0                 0.0\n",
            "2023-08-12 16:15:00                     0.0                 0.0\n",
            "\n",
            "Test Data:\n",
            "                     Precipitation_geopolis  Precipitation_vclb\n",
            "DateTime                                                       \n",
            "2023-09-23 23:33:00                     0.0                 0.0\n",
            "2023-09-23 23:36:00                     0.0                 0.0\n",
            "2023-09-23 23:39:00                     0.0                 0.0\n",
            "2023-09-23 23:42:00                     0.0                 0.0\n",
            "2023-09-23 23:45:00                     0.0                 0.0\n"
          ]
        }
      ]
    },
    {
      "cell_type": "code",
      "source": [
        "# Extract X for each dataset\n",
        "# For training data\n",
        "X_train = train_data[['Precipitation_geopolis', 'Precipitation_vclb']]  # Features (precipitation from both stations)\n",
        "\n",
        "# For validation data\n",
        "X_valid = val_data[['Precipitation_geopolis', 'Precipitation_vclb']]  # Features (precipitation from both stations)\n",
        "\n",
        "# For test data\n",
        "X_test = test_data[['Precipitation_geopolis', 'Precipitation_vclb']]  # Features (precipitation from both stations)\n",
        "\n",
        "# Display the first few rows of the extracted data\n",
        "print(\"X_train:\")\n",
        "print(X_train.head())\n",
        "\n",
        "print(\"\\nX_valid:\")\n",
        "print(X_valid.head())\n",
        "\n",
        "print(\"\\nX_test:\")\n",
        "print(X_test.head())\n",
        "print(type(X_test))"
      ],
      "metadata": {
        "colab": {
          "base_uri": "https://localhost:8080/"
        },
        "id": "fA2qoBuxSF0r",
        "outputId": "fff28d52-f0a7-47e5-a509-b1ba3ddecd86"
      },
      "execution_count": 9,
      "outputs": [
        {
          "output_type": "stream",
          "name": "stdout",
          "text": [
            "X_train:\n",
            "                     Precipitation_geopolis  Precipitation_vclb\n",
            "DateTime                                                       \n",
            "2022-12-08 00:03:00                     0.0                 0.0\n",
            "2022-12-08 00:06:00                     0.0                 0.0\n",
            "2022-12-08 00:09:00                     0.0                 0.0\n",
            "2022-12-08 00:12:00                     0.0                 0.0\n",
            "2022-12-08 00:15:00                     0.0                 0.0\n",
            "\n",
            "X_valid:\n",
            "                     Precipitation_geopolis  Precipitation_vclb\n",
            "DateTime                                                       \n",
            "2023-08-12 16:03:00                     0.0                 0.0\n",
            "2023-08-12 16:06:00                     0.0                 0.0\n",
            "2023-08-12 16:09:00                     0.0                 0.0\n",
            "2023-08-12 16:12:00                     0.0                 0.0\n",
            "2023-08-12 16:15:00                     0.0                 0.0\n",
            "\n",
            "X_test:\n",
            "                     Precipitation_geopolis  Precipitation_vclb\n",
            "DateTime                                                       \n",
            "2023-09-23 23:33:00                     0.0                 0.0\n",
            "2023-09-23 23:36:00                     0.0                 0.0\n",
            "2023-09-23 23:39:00                     0.0                 0.0\n",
            "2023-09-23 23:42:00                     0.0                 0.0\n",
            "2023-09-23 23:45:00                     0.0                 0.0\n",
            "<class 'pandas.core.frame.DataFrame'>\n"
          ]
        }
      ]
    },
    {
      "cell_type": "markdown",
      "source": [
        "Standardization of data to ensure that all precipitation values are on the same scale.\n"
      ],
      "metadata": {
        "id": "YjIdp8hcTSoM"
      }
    },
    {
      "cell_type": "code",
      "source": [
        "scaler = StandardScaler()\n",
        "X_train_scaled = scaler.fit_transform(X_train)\n",
        "X_train = pd.DataFrame(X_train_scaled, columns=X_train.columns, index=X_train.index)\n",
        "\n",
        "X_valid_scaled = scaler.transform(X_valid)\n",
        "X_valid = pd.DataFrame(X_valid_scaled, columns=X_valid.columns, index=X_valid.index)\n",
        "\n",
        "X_test_scaled = scaler.transform(X_test)\n",
        "X_test = pd.DataFrame(X_test_scaled, columns=X_test.columns, index=X_test.index)\n",
        "\n",
        "# Display the first few rows of the scaled data to verify\n",
        "print(\"Scaled X_train:\")\n",
        "print(X_train.head())\n",
        "\n",
        "print(\"\\nScaled X_valid:\")\n",
        "print(X_valid.head())\n",
        "\n",
        "print(\"\\nScaled X_test:\")\n",
        "print(X_test.head())"
      ],
      "metadata": {
        "id": "VcJ8BkuaT8Q7",
        "outputId": "876614c5-ec61-4fc8-c278-93f910efacc1",
        "colab": {
          "base_uri": "https://localhost:8080/"
        }
      },
      "execution_count": 10,
      "outputs": [
        {
          "output_type": "stream",
          "name": "stdout",
          "text": [
            "Scaled X_train:\n",
            "                     Precipitation_geopolis  Precipitation_vclb\n",
            "DateTime                                                       \n",
            "2022-12-08 00:03:00               -0.095402           -0.030606\n",
            "2022-12-08 00:06:00               -0.095402           -0.030606\n",
            "2022-12-08 00:09:00               -0.095402           -0.030606\n",
            "2022-12-08 00:12:00               -0.095402           -0.030606\n",
            "2022-12-08 00:15:00               -0.095402           -0.030606\n",
            "\n",
            "Scaled X_valid:\n",
            "                     Precipitation_geopolis  Precipitation_vclb\n",
            "DateTime                                                       \n",
            "2023-08-12 16:03:00               -0.095402           -0.030606\n",
            "2023-08-12 16:06:00               -0.095402           -0.030606\n",
            "2023-08-12 16:09:00               -0.095402           -0.030606\n",
            "2023-08-12 16:12:00               -0.095402           -0.030606\n",
            "2023-08-12 16:15:00               -0.095402           -0.030606\n",
            "\n",
            "Scaled X_test:\n",
            "                     Precipitation_geopolis  Precipitation_vclb\n",
            "DateTime                                                       \n",
            "2023-09-23 23:33:00               -0.095402           -0.030606\n",
            "2023-09-23 23:36:00               -0.095402           -0.030606\n",
            "2023-09-23 23:39:00               -0.095402           -0.030606\n",
            "2023-09-23 23:42:00               -0.095402           -0.030606\n",
            "2023-09-23 23:45:00               -0.095402           -0.030606\n"
          ]
        }
      ]
    },
    {
      "cell_type": "markdown",
      "source": [
        "**1.2 Hyperparameter test**"
      ],
      "metadata": {
        "id": "7RqBFcyIRdsS"
      }
    },
    {
      "cell_type": "markdown",
      "source": [
        "**1.2.1 Evaluation of components range**\n",
        "\n",
        "Using Bayesian Information Criterion. It is optimal for selecting the optimal model when the number of data points is large\n",
        "\n",
        "The following number of components are tested:\n",
        "10, 20, 30, 40, 50, 60, 70, 80, 90, 100, 150, 200"
      ],
      "metadata": {
        "id": "3b9OCMbwiHak"
      }
    },
    {
      "cell_type": "code",
      "source": [
        "# Range of components to evaluate\n",
        "component_range = [10,20,30,40,50,60,70,80,90,100]\n",
        "\n",
        "# Store results\n",
        "models = {}\n",
        "bic_scores = []\n",
        "silhouette_scores = []\n",
        "\n",
        "# Loop through the range of components\n",
        "for n_components in component_range:\n",
        "    # Create and fit the Gaussian Mixture Model\n",
        "    gmm = GaussianMixture(n_components=n_components, random_state=42)\n",
        "    gmm.fit(X_train)  # Assuming X_train is your data\n",
        "\n",
        "    # Store the model and metrics\n",
        "    models[n_components] = gmm\n",
        "    bic_scores.append(gmm.bic(X_train))\n",
        "\n",
        "    # Predict cluster labels\n",
        "    labels = gmm.predict(X_train)\n",
        "\n",
        "    # Calculate silhouette score\n",
        "    silhouette = silhouette_score(X_train, labels)\n",
        "    silhouette_scores.append(silhouette)\n",
        "\n"
      ],
      "metadata": {
        "id": "01yD0_uRb5gA"
      },
      "execution_count": 28,
      "outputs": []
    },
    {
      "cell_type": "markdown",
      "source": [
        "Vizualisation of BIC and Silhouette score for each n_component tested"
      ],
      "metadata": {
        "id": "q4hPJ4ZHbduj"
      }
    },
    {
      "cell_type": "code",
      "source": [
        "# Plot BIC, and Silhouette Score for each number of components\n",
        "plt.figure(figsize=(12, 6))\n",
        "\n",
        "\n",
        "# Plot BIC\n",
        "plt.subplot(1, 2, 1)\n",
        "plt.plot(component_range, bic_scores, marker='o')\n",
        "plt.title('BIC for each number of components')\n",
        "plt.xlabel('Number of Components')\n",
        "plt.ylabel('BIC')\n",
        "\n",
        "# Plot Silhouette Score\n",
        "plt.subplot(1, 2, 2)\n",
        "plt.plot(component_range, silhouette_scores, marker='o')\n",
        "plt.title('Silhouette Score for each number of components')\n",
        "plt.xlabel('Number of Components')\n",
        "plt.ylabel('Silhouette Score')\n",
        "\n",
        "plt.tight_layout()\n",
        "\n",
        "# Save the figure as a PDF\n",
        "output_path = \"plot_bic_silhouette.pdf\"\n",
        "plt.savefig(output_path, format='pdf')\n",
        "\n",
        "\n",
        "plt.show()\n",
        "\n",
        "# Select the best model based on the criteria you prefer (AIC, BIC, or silhouette score)\n",
        "best_n_components = component_range[np.argmin(bic_scores)]\n",
        "best_gmm_model = models[best_n_components]\n",
        "print(f\"Best number of components: {best_n_components} based on BIC\")\n"
      ],
      "metadata": {
        "colab": {
          "base_uri": "https://localhost:8080/",
          "height": 624
        },
        "id": "NeOtGMpkN3Ca",
        "outputId": "e2dee79c-99f9-40fa-c8df-6475ddd67610"
      },
      "execution_count": 29,
      "outputs": [
        {
          "output_type": "display_data",
          "data": {
            "text/plain": [
              "<Figure size 1200x600 with 2 Axes>"
            ],
            "image/png": "[encoded data removed]"
          },
          "metadata": {}
        },
        {
          "output_type": "stream",
          "name": "stdout",
          "text": [
            "Best number of components: 100 based on BIC\n"
          ]
        }
      ]
    },
    {
      "cell_type": "markdown",
      "source": [
        "**1.2.2 Combinatiton of hyperparameters**\n",
        "\n",
        "Trying 4 co-variance option: full, tied, diagonal, spherical with the number of component range 190 - 200."
      ],
      "metadata": {
        "id": "S1wM_qf3l9yY"
      }
    },
    {
      "cell_type": "code",
      "source": [
        "#search for best combination of values for both the number of clusters\n",
        "#and the covariance_type hyperparameter:\n",
        "\n",
        "min_bic = np.infty\n",
        "\n",
        "for k in range(90, 100):\n",
        "    for covariance_type in (\"full\", \"tied\", \"spherical\", \"diag\"):\n",
        "        bic = GaussianMixture(n_components=k, n_init=10,\n",
        "                              covariance_type=covariance_type,\n",
        "                              random_state=42).fit(X_train).bic(X_train)\n",
        "        if bic < min_bic:\n",
        "            min_bic = bic\n",
        "            best_k = k\n",
        "            best_covariance_type = covariance_type\n",
        "\n",
        "print('best_k')\n",
        "print(best_k)\n",
        "print('best_covariance_type')\n",
        "print(best_covariance_type)\n",
        "\n"
      ],
      "metadata": {
        "colab": {
          "base_uri": "https://localhost:8080/"
        },
        "id": "bXF81iz1okob",
        "outputId": "f86d931b-0e6a-41b9-daef-9fd36e09e946"
      },
      "execution_count": 32,
      "outputs": [
        {
          "output_type": "stream",
          "name": "stdout",
          "text": [
            "best_k\n",
            "98\n",
            "best_covariance_type\n",
            "diag\n"
          ]
        }
      ]
    },
    {
      "cell_type": "markdown",
      "source": [
        "**1.3 Initialization of Gaussian Mixture Model**"
      ],
      "metadata": {
        "id": "tjWSIz5DSiag"
      }
    },
    {
      "cell_type": "markdown",
      "source": [
        "Initialization the model with the hyperparameter define in the previous section."
      ],
      "metadata": {
        "id": "v_qT4yusXD-r"
      }
    },
    {
      "cell_type": "code",
      "source": [
        "# Initialize the Gaussian Mixture Model with 2 components\n",
        "gmm = GaussianMixture(n_components=98, covariance_type='diag', random_state=42)\n"
      ],
      "metadata": {
        "id": "h8hckZwcSiHG"
      },
      "execution_count": 22,
      "outputs": []
    },
    {
      "cell_type": "code",
      "source": [
        "# Fit the GMM model to the training data (X_train)\n",
        "gmm.fit(X_train)"
      ],
      "metadata": {
        "colab": {
          "base_uri": "https://localhost:8080/",
          "height": 80
        },
        "id": "VOnxtDCEV18O",
        "outputId": "481ea752-4ee9-48e0-9595-bd299c049c0b"
      },
      "execution_count": 23,
      "outputs": [
        {
          "output_type": "execute_result",
          "data": {
            "text/plain": [
              "GaussianMixture(covariance_type='diag', n_components=98, random_state=42)"
            ],
            "text/html": [
              "<style>#sk-container-id-2 {\n",
              "  /* Definition of color scheme common for light and dark mode */\n",
              "  --sklearn-color-text: #000;\n",
              "  --sklearn-color-text-muted: #666;\n",
              "  --sklearn-color-line: gray;\n",
              "  /* Definition of color scheme for unfitted estimators */\n",
              "  --sklearn-color-unfitted-level-0: #fff5e6;\n",
              "  --sklearn-color-unfitted-level-1: #f6e4d2;\n",
              "  --sklearn-color-unfitted-level-2: #ffe0b3;\n",
              "  --sklearn-color-unfitted-level-3: chocolate;\n",
              "  /* Definition of color scheme for fitted estimators */\n",
              "  --sklearn-color-fitted-level-0: #f0f8ff;\n",
              "  --sklearn-color-fitted-level-1: #d4ebff;\n",
              "  --sklearn-color-fitted-level-2: #b3dbfd;\n",
              "  --sklearn-color-fitted-level-3: cornflowerblue;\n",
              "\n",
              "  /* Specific color for light theme */\n",
              "  --sklearn-color-text-on-default-background: var(--sg-text-color, var(--theme-code-foreground, var(--jp-content-font-color1, black)));\n",
              "  --sklearn-color-background: var(--sg-background-color, var(--theme-background, var(--jp-layout-color0, white)));\n",
              "  --sklearn-color-border-box: var(--sg-text-color, var(--theme-code-foreground, var(--jp-content-font-color1, black)));\n",
              "  --sklearn-color-icon: #696969;\n",
              "\n",
              "  @media (prefers-color-scheme: dark) {\n",
              "    /* Redefinition of color scheme for dark theme */\n",
              "    --sklearn-color-text-on-default-background: var(--sg-text-color, var(--theme-code-foreground, var(--jp-content-font-color1, white)));\n",
              "    --sklearn-color-background: var(--sg-background-color, var(--theme-background, var(--jp-layout-color0, #111)));\n",
              "    --sklearn-color-border-box: var(--sg-text-color, var(--theme-code-foreground, var(--jp-content-font-color1, white)));\n",
              "    --sklearn-color-icon: #878787;\n",
              "  }\n",
              "}\n",
              "\n",
              "#sk-container-id-2 {\n",
              "  color: var(--sklearn-color-text);\n",
              "}\n",
              "\n",
              "#sk-container-id-2 pre {\n",
              "  padding: 0;\n",
              "}\n",
              "\n",
              "#sk-container-id-2 input.sk-hidden--visually {\n",
              "  border: 0;\n",
              "  clip: rect(1px 1px 1px 1px);\n",
              "  clip: rect(1px, 1px, 1px, 1px);\n",
              "  height: 1px;\n",
              "  margin: -1px;\n",
              "  overflow: hidden;\n",
              "  padding: 0;\n",
              "  position: absolute;\n",
              "  width: 1px;\n",
              "}\n",
              "\n",
              "#sk-container-id-2 div.sk-dashed-wrapped {\n",
              "  border: 1px dashed var(--sklearn-color-line);\n",
              "  margin: 0 0.4em 0.5em 0.4em;\n",
              "  box-sizing: border-box;\n",
              "  padding-bottom: 0.4em;\n",
              "  background-color: var(--sklearn-color-background);\n",
              "}\n",
              "\n",
              "#sk-container-id-2 div.sk-container {\n",
              "  /* jupyter's `normalize.less` sets `[hidden] { display: none; }`\n",
              "     but bootstrap.min.css set `[hidden] { display: none !important; }`\n",
              "     so we also need the `!important` here to be able to override the\n",
              "     default hidden behavior on the sphinx rendered scikit-learn.org.\n",
              "     See: https://github.com/scikit-learn/scikit-learn/issues/21755 */\n",
              "  display: inline-block !important;\n",
              "  position: relative;\n",
              "}\n",
              "\n",
              "#sk-container-id-2 div.sk-text-repr-fallback {\n",
              "  display: none;\n",
              "}\n",
              "\n",
              "div.sk-parallel-item,\n",
              "div.sk-serial,\n",
              "div.sk-item {\n",
              "  /* draw centered vertical line to link estimators */\n",
              "  background-image: linear-gradient(var(--sklearn-color-text-on-default-background), var(--sklearn-color-text-on-default-background));\n",
              "  background-size: 2px 100%;\n",
              "  background-repeat: no-repeat;\n",
              "  background-position: center center;\n",
              "}\n",
              "\n",
              "/* Parallel-specific style estimator block */\n",
              "\n",
              "#sk-container-id-2 div.sk-parallel-item::after {\n",
              "  content: \"\";\n",
              "  width: 100%;\n",
              "  border-bottom: 2px solid var(--sklearn-color-text-on-default-background);\n",
              "  flex-grow: 1;\n",
              "}\n",
              "\n",
              "#sk-container-id-2 div.sk-parallel {\n",
              "  display: flex;\n",
              "  align-items: stretch;\n",
              "  justify-content: center;\n",
              "  background-color: var(--sklearn-color-background);\n",
              "  position: relative;\n",
              "}\n",
              "\n",
              "#sk-container-id-2 div.sk-parallel-item {\n",
              "  display: flex;\n",
              "  flex-direction: column;\n",
              "}\n",
              "\n",
              "#sk-container-id-2 div.sk-parallel-item:first-child::after {\n",
              "  align-self: flex-end;\n",
              "  width: 50%;\n",
              "}\n",
              "\n",
              "#sk-container-id-2 div.sk-parallel-item:last-child::after {\n",
              "  align-self: flex-start;\n",
              "  width: 50%;\n",
              "}\n",
              "\n",
              "#sk-container-id-2 div.sk-parallel-item:only-child::after {\n",
              "  width: 0;\n",
              "}\n",
              "\n",
              "/* Serial-specific style estimator block */\n",
              "\n",
              "#sk-container-id-2 div.sk-serial {\n",
              "  display: flex;\n",
              "  flex-direction: column;\n",
              "  align-items: center;\n",
              "  background-color: var(--sklearn-color-background);\n",
              "  padding-right: 1em;\n",
              "  padding-left: 1em;\n",
              "}\n",
              "\n",
              "\n",
              "/* Toggleable style: style used for estimator/Pipeline/ColumnTransformer box that is\n",
              "clickable and can be expanded/collapsed.\n",
              "- Pipeline and ColumnTransformer use this feature and define the default style\n",
              "- Estimators will overwrite some part of the style using the `sk-estimator` class\n",
              "*/\n",
              "\n",
              "/* Pipeline and ColumnTransformer style (default) */\n",
              "\n",
              "#sk-container-id-2 div.sk-toggleable {\n",
              "  /* Default theme specific background. It is overwritten whether we have a\n",
              "  specific estimator or a Pipeline/ColumnTransformer */\n",
              "  background-color: var(--sklearn-color-background);\n",
              "}\n",
              "\n",
              "/* Toggleable label */\n",
              "#sk-container-id-2 label.sk-toggleable__label {\n",
              "  cursor: pointer;\n",
              "  display: flex;\n",
              "  width: 100%;\n",
              "  margin-bottom: 0;\n",
              "  padding: 0.5em;\n",
              "  box-sizing: border-box;\n",
              "  text-align: center;\n",
              "  align-items: start;\n",
              "  justify-content: space-between;\n",
              "  gap: 0.5em;\n",
              "}\n",
              "\n",
              "#sk-container-id-2 label.sk-toggleable__label .caption {\n",
              "  font-size: 0.6rem;\n",
              "  font-weight: lighter;\n",
              "  color: var(--sklearn-color-text-muted);\n",
              "}\n",
              "\n",
              "#sk-container-id-2 label.sk-toggleable__label-arrow:before {\n",
              "  /* Arrow on the left of the label */\n",
              "  content: \"▸\";\n",
              "  float: left;\n",
              "  margin-right: 0.25em;\n",
              "  color: var(--sklearn-color-icon);\n",
              "}\n",
              "\n",
              "#sk-container-id-2 label.sk-toggleable__label-arrow:hover:before {\n",
              "  color: var(--sklearn-color-text);\n",
              "}\n",
              "\n",
              "/* Toggleable content - dropdown */\n",
              "\n",
              "#sk-container-id-2 div.sk-toggleable__content {\n",
              "  max-height: 0;\n",
              "  max-width: 0;\n",
              "  overflow: hidden;\n",
              "  text-align: left;\n",
              "  /* unfitted */\n",
              "  background-color: var(--sklearn-color-unfitted-level-0);\n",
              "}\n",
              "\n",
              "#sk-container-id-2 div.sk-toggleable__content.fitted {\n",
              "  /* fitted */\n",
              "  background-color: var(--sklearn-color-fitted-level-0);\n",
              "}\n",
              "\n",
              "#sk-container-id-2 div.sk-toggleable__content pre {\n",
              "  margin: 0.2em;\n",
              "  border-radius: 0.25em;\n",
              "  color: var(--sklearn-color-text);\n",
              "  /* unfitted */\n",
              "  background-color: var(--sklearn-color-unfitted-level-0);\n",
              "}\n",
              "\n",
              "#sk-container-id-2 div.sk-toggleable__content.fitted pre {\n",
              "  /* unfitted */\n",
              "  background-color: var(--sklearn-color-fitted-level-0);\n",
              "}\n",
              "\n",
              "#sk-container-id-2 input.sk-toggleable__control:checked~div.sk-toggleable__content {\n",
              "  /* Expand drop-down */\n",
              "  max-height: 200px;\n",
              "  max-width: 100%;\n",
              "  overflow: auto;\n",
              "}\n",
              "\n",
              "#sk-container-id-2 input.sk-toggleable__control:checked~label.sk-toggleable__label-arrow:before {\n",
              "  content: \"▾\";\n",
              "}\n",
              "\n",
              "/* Pipeline/ColumnTransformer-specific style */\n",
              "\n",
              "#sk-container-id-2 div.sk-label input.sk-toggleable__control:checked~label.sk-toggleable__label {\n",
              "  color: var(--sklearn-color-text);\n",
              "  background-color: var(--sklearn-color-unfitted-level-2);\n",
              "}\n",
              "\n",
              "#sk-container-id-2 div.sk-label.fitted input.sk-toggleable__control:checked~label.sk-toggleable__label {\n",
              "  background-color: var(--sklearn-color-fitted-level-2);\n",
              "}\n",
              "\n",
              "/* Estimator-specific style */\n",
              "\n",
              "/* Colorize estimator box */\n",
              "#sk-container-id-2 div.sk-estimator input.sk-toggleable__control:checked~label.sk-toggleable__label {\n",
              "  /* unfitted */\n",
              "  background-color: var(--sklearn-color-unfitted-level-2);\n",
              "}\n",
              "\n",
              "#sk-container-id-2 div.sk-estimator.fitted input.sk-toggleable__control:checked~label.sk-toggleable__label {\n",
              "  /* fitted */\n",
              "  background-color: var(--sklearn-color-fitted-level-2);\n",
              "}\n",
              "\n",
              "#sk-container-id-2 div.sk-label label.sk-toggleable__label,\n",
              "#sk-container-id-2 div.sk-label label {\n",
              "  /* The background is the default theme color */\n",
              "  color: var(--sklearn-color-text-on-default-background);\n",
              "}\n",
              "\n",
              "/* On hover, darken the color of the background */\n",
              "#sk-container-id-2 div.sk-label:hover label.sk-toggleable__label {\n",
              "  color: var(--sklearn-color-text);\n",
              "  background-color: var(--sklearn-color-unfitted-level-2);\n",
              "}\n",
              "\n",
              "/* Label box, darken color on hover, fitted */\n",
              "#sk-container-id-2 div.sk-label.fitted:hover label.sk-toggleable__label.fitted {\n",
              "  color: var(--sklearn-color-text);\n",
              "  background-color: var(--sklearn-color-fitted-level-2);\n",
              "}\n",
              "\n",
              "/* Estimator label */\n",
              "\n",
              "#sk-container-id-2 div.sk-label label {\n",
              "  font-family: monospace;\n",
              "  font-weight: bold;\n",
              "  display: inline-block;\n",
              "  line-height: 1.2em;\n",
              "}\n",
              "\n",
              "#sk-container-id-2 div.sk-label-container {\n",
              "  text-align: center;\n",
              "}\n",
              "\n",
              "/* Estimator-specific */\n",
              "#sk-container-id-2 div.sk-estimator {\n",
              "  font-family: monospace;\n",
              "  border: 1px dotted var(--sklearn-color-border-box);\n",
              "  border-radius: 0.25em;\n",
              "  box-sizing: border-box;\n",
              "  margin-bottom: 0.5em;\n",
              "  /* unfitted */\n",
              "  background-color: var(--sklearn-color-unfitted-level-0);\n",
              "}\n",
              "\n",
              "#sk-container-id-2 div.sk-estimator.fitted {\n",
              "  /* fitted */\n",
              "  background-color: var(--sklearn-color-fitted-level-0);\n",
              "}\n",
              "\n",
              "/* on hover */\n",
              "#sk-container-id-2 div.sk-estimator:hover {\n",
              "  /* unfitted */\n",
              "  background-color: var(--sklearn-color-unfitted-level-2);\n",
              "}\n",
              "\n",
              "#sk-container-id-2 div.sk-estimator.fitted:hover {\n",
              "  /* fitted */\n",
              "  background-color: var(--sklearn-color-fitted-level-2);\n",
              "}\n",
              "\n",
              "/* Specification for estimator info (e.g. \"i\" and \"?\") */\n",
              "\n",
              "/* Common style for \"i\" and \"?\" */\n",
              "\n",
              ".sk-estimator-doc-link,\n",
              "a:link.sk-estimator-doc-link,\n",
              "a:visited.sk-estimator-doc-link {\n",
              "  float: right;\n",
              "  font-size: smaller;\n",
              "  line-height: 1em;\n",
              "  font-family: monospace;\n",
              "  background-color: var(--sklearn-color-background);\n",
              "  border-radius: 1em;\n",
              "  height: 1em;\n",
              "  width: 1em;\n",
              "  text-decoration: none !important;\n",
              "  margin-left: 0.5em;\n",
              "  text-align: center;\n",
              "  /* unfitted */\n",
              "  border: var(--sklearn-color-unfitted-level-1) 1pt solid;\n",
              "  color: var(--sklearn-color-unfitted-level-1);\n",
              "}\n",
              "\n",
              ".sk-estimator-doc-link.fitted,\n",
              "a:link.sk-estimator-doc-link.fitted,\n",
              "a:visited.sk-estimator-doc-link.fitted {\n",
              "  /* fitted */\n",
              "  border: var(--sklearn-color-fitted-level-1) 1pt solid;\n",
              "  color: var(--sklearn-color-fitted-level-1);\n",
              "}\n",
              "\n",
              "/* On hover */\n",
              "div.sk-estimator:hover .sk-estimator-doc-link:hover,\n",
              ".sk-estimator-doc-link:hover,\n",
              "div.sk-label-container:hover .sk-estimator-doc-link:hover,\n",
              ".sk-estimator-doc-link:hover {\n",
              "  /* unfitted */\n",
              "  background-color: var(--sklearn-color-unfitted-level-3);\n",
              "  color: var(--sklearn-color-background);\n",
              "  text-decoration: none;\n",
              "}\n",
              "\n",
              "div.sk-estimator.fitted:hover .sk-estimator-doc-link.fitted:hover,\n",
              ".sk-estimator-doc-link.fitted:hover,\n",
              "div.sk-label-container:hover .sk-estimator-doc-link.fitted:hover,\n",
              ".sk-estimator-doc-link.fitted:hover {\n",
              "  /* fitted */\n",
              "  background-color: var(--sklearn-color-fitted-level-3);\n",
              "  color: var(--sklearn-color-background);\n",
              "  text-decoration: none;\n",
              "}\n",
              "\n",
              "/* Span, style for the box shown on hovering the info icon */\n",
              ".sk-estimator-doc-link span {\n",
              "  display: none;\n",
              "  z-index: 9999;\n",
              "  position: relative;\n",
              "  font-weight: normal;\n",
              "  right: .2ex;\n",
              "  padding: .5ex;\n",
              "  margin: .5ex;\n",
              "  width: min-content;\n",
              "  min-width: 20ex;\n",
              "  max-width: 50ex;\n",
              "  color: var(--sklearn-color-text);\n",
              "  box-shadow: 2pt 2pt 4pt #999;\n",
              "  /* unfitted */\n",
              "  background: var(--sklearn-color-unfitted-level-0);\n",
              "  border: .5pt solid var(--sklearn-color-unfitted-level-3);\n",
              "}\n",
              "\n",
              ".sk-estimator-doc-link.fitted span {\n",
              "  /* fitted */\n",
              "  background: var(--sklearn-color-fitted-level-0);\n",
              "  border: var(--sklearn-color-fitted-level-3);\n",
              "}\n",
              "\n",
              ".sk-estimator-doc-link:hover span {\n",
              "  display: block;\n",
              "}\n",
              "\n",
              "/* \"?\"-specific style due to the `<a>` HTML tag */\n",
              "\n",
              "#sk-container-id-2 a.estimator_doc_link {\n",
              "  float: right;\n",
              "  font-size: 1rem;\n",
              "  line-height: 1em;\n",
              "  font-family: monospace;\n",
              "  background-color: var(--sklearn-color-background);\n",
              "  border-radius: 1rem;\n",
              "  height: 1rem;\n",
              "  width: 1rem;\n",
              "  text-decoration: none;\n",
              "  /* unfitted */\n",
              "  color: var(--sklearn-color-unfitted-level-1);\n",
              "  border: var(--sklearn-color-unfitted-level-1) 1pt solid;\n",
              "}\n",
              "\n",
              "#sk-container-id-2 a.estimator_doc_link.fitted {\n",
              "  /* fitted */\n",
              "  border: var(--sklearn-color-fitted-level-1) 1pt solid;\n",
              "  color: var(--sklearn-color-fitted-level-1);\n",
              "}\n",
              "\n",
              "/* On hover */\n",
              "#sk-container-id-2 a.estimator_doc_link:hover {\n",
              "  /* unfitted */\n",
              "  background-color: var(--sklearn-color-unfitted-level-3);\n",
              "  color: var(--sklearn-color-background);\n",
              "  text-decoration: none;\n",
              "}\n",
              "\n",
              "#sk-container-id-2 a.estimator_doc_link.fitted:hover {\n",
              "  /* fitted */\n",
              "  background-color: var(--sklearn-color-fitted-level-3);\n",
              "}\n",
              "</style><div id=\"sk-container-id-2\" class=\"sk-top-container\"><div class=\"sk-text-repr-fallback\"><pre>GaussianMixture(covariance_type=&#x27;diag&#x27;, n_components=98, random_state=42)</pre><b>In a Jupyter environment, please rerun this cell to show the HTML representation or trust the notebook. <br />On GitHub, the HTML representation is unable to render, please try loading this page with nbviewer.org.</b></div><div class=\"sk-container\" hidden><div class=\"sk-item\"><div class=\"sk-estimator fitted sk-toggleable\"><input class=\"sk-toggleable__control sk-hidden--visually\" id=\"sk-estimator-id-2\" type=\"checkbox\" checked><label for=\"sk-estimator-id-2\" class=\"sk-toggleable__label fitted sk-toggleable__label-arrow\"><div><div>GaussianMixture</div></div><div><a class=\"sk-estimator-doc-link fitted\" rel=\"noreferrer\" target=\"_blank\" href=\"https://scikit-learn.org/1.6/modules/generated/sklearn.mixture.GaussianMixture.html\">?<span>Documentation for GaussianMixture</span></a><span class=\"sk-estimator-doc-link fitted\">i<span>Fitted</span></span></div></label><div class=\"sk-toggleable__content fitted\"><pre>GaussianMixture(covariance_type=&#x27;diag&#x27;, n_components=98, random_state=42)</pre></div> </div></div></div></div>"
            ]
          },
          "metadata": {},
          "execution_count": 23
        }
      ]
    },
    {
      "cell_type": "code",
      "source": [
        "# Print the GMM parameters\n",
        "print(\"Means of the components:\\n\", gmm.means_)\n",
        "print(\"\\nCovariances of the components:\\n\", gmm.covariances_)\n",
        "print(\"\\nWeights of the components:\\n\", gmm.weights_)\n",
        "\n",
        "# Predict the component labels for each data point\n",
        "component = gmm.predict(X_train)\n",
        "proba = gmm.predict_proba(X_train)\n",
        "\n",
        "\n",
        "# Get the labels predicted by the GMM\n",
        "labels = gmm.predict(X_train)\n",
        "\n",
        "# Display the predicted labels\n",
        "print(\"Predicted component labels for the data points:\\n\", labels)\n",
        "print(\"Predicted probabilities for each component:\\n\", proba)"
      ],
      "metadata": {
        "colab": {
          "base_uri": "https://localhost:8080/"
        },
        "id": "26kXnZhmV7JF",
        "outputId": "efc7663d-f75b-4fe5-dd68-4772afc9e2c6"
      },
      "execution_count": 24,
      "outputs": [
        {
          "output_type": "stream",
          "name": "stdout",
          "text": [
            "Means of the components:\n",
            " [[ 6.38159104e-01 -3.06058230e-02]\n",
            " [ 5.15898841e-01  9.06864594e+01]\n",
            " [ 4.12254634e+01 -3.06058230e-02]\n",
            " [-9.54024777e-02 -3.06058230e-02]\n",
            " [ 3.75972342e+00 -3.06058230e-02]\n",
            " [-9.54024777e-02  2.83184771e+01]\n",
            " [ 1.68405583e+01 -3.06058230e-02]\n",
            " [ 8.40196576e+01 -3.06058230e-02]\n",
            " [-9.54024777e-02  1.60141713e+02]\n",
            " [ 2.91753704e-01  5.63921076e+00]\n",
            " [ 3.93638577e-01  5.66675600e+01]\n",
            " [ 6.32768865e+00 -3.06058230e-02]\n",
            " [ 1.86076174e+00 -3.06058230e-02]\n",
            " [ 2.58151068e+01 -3.06058230e-02]\n",
            " [-9.54024777e-02  1.69788439e+01]\n",
            " [-9.54024777e-02  1.38684832e+00]\n",
            " [ 1.09260707e+01 -3.06058230e-02]\n",
            " [ 7.03265094e+01 -3.06058230e-02]\n",
            " [ 2.40813247e-01  1.27264815e+01]\n",
            " [ 4.96645248e+01 -3.06058230e-02]\n",
            " [ 2.83884385e+00  7.08421014e+01]\n",
            " [-9.54024777e-02  2.12312063e+01]\n",
            " [ 1.21306239e+01  2.83184771e+01]\n",
            " [ 1.10383984e+00  2.80430247e+00]\n",
            " [ 1.79676828e-01  8.47411904e+00]\n",
            " [ 3.08336438e+00 -3.06058230e-02]\n",
            " [-9.54024777e-02  4.67453810e+01]\n",
            " [ 2.68577859e-02  3.61144749e+01]\n",
            " [ 3.32816495e+01 -3.06058230e-02]\n",
            " [ 1.49118050e-01 -3.06058230e-02]\n",
            " [ 2.00610537e+01 -3.06058230e-02]\n",
            " [ 6.17682909e+01 -3.06058230e-02]\n",
            " [ 1.23751444e+01  7.05666490e+00]\n",
            " [ 2.10528227e+00  7.93468263e+01]\n",
            " [ 1.47238070e+00 -3.06058230e-02]\n",
            " [ 1.18171617e+00  1.38684832e+00]\n",
            " [ 3.79737085e-01  4.22175661e+00]\n",
            " [ 8.48164124e+00 -3.06058230e-02]\n",
            " [ 3.19917856e-01  2.80430247e+00]\n",
            " [ 5.77309018e+00  1.38684832e+00]\n",
            " [ 1.12720016e+00  9.77737302e+01]\n",
            " [ 2.59432332e+00 -3.06058230e-02]\n",
            " [ 9.53191246e-01  7.05666490e+00]\n",
            " [ 8.77539424e-01 -3.06058230e-02]\n",
            " [ 1.31674578e+01 -3.06058230e-02]\n",
            " [ 3.88884788e-01 -3.06058230e-02]\n",
            " [ 1.49118050e-01  6.23373765e+01]\n",
            " [ 2.36643245e+00  4.22175661e+00]\n",
            " [ 2.68577859e-02  5.38326517e+01]\n",
            " [ 2.91063136e+00  1.38684832e+00]\n",
            " [ 3.85385841e+01 -3.06058230e-02]\n",
            " [ 4.38633658e+00 -3.06058230e-02]\n",
            " [ 3.52885294e-01  9.89157319e+00]\n",
            " [ 3.78641871e+00  2.80430247e+00]\n",
            " [ 5.81537987e-01  1.38684832e+00]\n",
            " [ 7.60699519e+00  1.38684832e+00]\n",
            " [-9.54024777e-02  4.93048368e+00]\n",
            " [ 1.12720016e+00 -3.06058230e-02]\n",
            " [ 1.00148415e+01 -3.06058230e-02]\n",
            " [ 2.22008209e+00 -3.06058230e-02]\n",
            " [ 2.68577859e-02  2.40661146e+01]\n",
            " [ 2.40296453e+01 -3.06058230e-02]\n",
            " [ 8.10854126e+01 -3.06058230e-02]\n",
            " [ 1.73850148e+00  1.55613898e+01]\n",
            " [ 4.56299361e+01 -3.06058230e-02]\n",
            " [ 1.01239777e-02  7.05666490e+00]\n",
            " [ 2.59455774e+00  1.06009386e+01]\n",
            " [ 1.57984318e+01  7.05666490e+00]\n",
            " [-9.54024777e-02  2.80430247e+00]\n",
            " [ 8.46281598e+00  2.80430247e+00]\n",
            " [ 1.86938208e+01 -3.06058230e-02]\n",
            " [ 2.34980280e+00  2.12312063e+01]\n",
            " [ 2.59432332e+00  2.83184771e+01]\n",
            " [ 4.01313352e+00  1.38684832e+00]\n",
            " [ 1.58518576e+01 -3.06058230e-02]\n",
            " [ 2.11462681e+00  1.38684832e+00]\n",
            " [ 2.29197794e+00  3.65462351e+00]\n",
            " [ 1.18861034e+01  1.38684832e+00]\n",
            " [ 2.34980280e+00  5.24151975e+01]\n",
            " [ 5.19874698e+01 -3.06058230e-02]\n",
            " [ 2.22745442e+00  8.47411904e+00]\n",
            " [ 4.91751347e+00 -3.06058230e-02]\n",
            " [ 2.10733656e+00  2.80430247e+00]\n",
            " [ 2.83022563e+00 -3.06058230e-02]\n",
            " [-9.54024777e-02  1.55613898e+01]\n",
            " [ 3.60936356e+01  1.38684832e+00]\n",
            " [ 3.93638577e-01  1.41439356e+01]\n",
            " [ 4.36737719e+01 -3.06058230e-02]\n",
            " [ 2.68577859e-02 -3.06058230e-02]\n",
            " [ 3.32788490e+00 -3.06058230e-02]\n",
            " [ 1.49118050e-01  1.38684832e+00]\n",
            " [ 2.85134992e+01 -3.06058230e-02]\n",
            " [ 2.30624892e-01  2.26486605e+01]\n",
            " [ 6.37244552e+01 -3.06058230e-02]\n",
            " [-9.54024777e-02  1.83962981e+01]\n",
            " [ 2.64350747e+01  1.38684832e+00]\n",
            " [ 5.56652262e-01  1.98137522e+01]\n",
            " [ 1.12720016e+00  1.13090273e+01]]\n",
            "\n",
            "Covariances of the components:\n",
            " [[9.99999996e-07 1.00000000e-06]\n",
            " [1.00000000e-06 1.00001819e-06]\n",
            " [5.45228876e-01 1.00000000e-06]\n",
            " [1.00000001e-06 1.00000000e-06]\n",
            " [3.95853471e-02 1.00000000e-06]\n",
            " [1.00000000e-06 1.00000182e-06]\n",
            " [4.22564923e-02 1.00000000e-06]\n",
            " [5.38117286e-01 1.00000000e-06]\n",
            " [1.00000000e-06 1.00006185e-06]\n",
            " [9.42531860e-02 9.99999993e-07]\n",
            " [5.97912883e-02 1.00000364e-06]\n",
            " [5.96348531e-01 1.00000000e-06]\n",
            " [1.00000001e-06 1.00000000e-06]\n",
            " [2.50879706e-01 1.00000000e-06]\n",
            " [1.00000000e-06 1.00000057e-06]\n",
            " [1.00000000e-06 1.00000001e-06]\n",
            " [4.01506802e-01 1.00000000e-06]\n",
            " [1.00001091e-06 1.00000000e-06]\n",
            " [5.51201720e-02 1.00000006e-06]\n",
            " [1.34529149e-01 1.00000000e-06]\n",
            " [1.00000002e-06 1.00001091e-06]\n",
            " [1.00000000e-06 1.00000023e-06]\n",
            " [1.00000028e-06 1.00000182e-06]\n",
            " [2.90363265e-02 1.00000000e-06]\n",
            " [5.13810928e-02 1.00000004e-06]\n",
            " [9.99999995e-07 1.00000000e-06]\n",
            " [1.00000000e-06 1.00000500e-06]\n",
            " [1.49485721e-02 5.02295063e-01]\n",
            " [7.32432248e-01 1.00000000e-06]\n",
            " [1.00000000e-06 1.00000000e-06]\n",
            " [4.60173949e-01 1.00000000e-06]\n",
            " [1.00000909e-06 1.00000000e-06]\n",
            " [1.00000034e-06 1.00000010e-06]\n",
            " [1.00000001e-06 1.00001364e-06]\n",
            " [1.68448677e-02 1.00000000e-06]\n",
            " [4.80113931e-02 9.99999988e-07]\n",
            " [2.23790867e-01 1.00000001e-06]\n",
            " [4.82324689e-01 1.00000000e-06]\n",
            " [3.88509478e-02 1.00000000e-06]\n",
            " [1.00000008e-06 1.00000000e-06]\n",
            " [1.00000000e-06 1.00002365e-06]\n",
            " [9.99999995e-07 1.00000000e-06]\n",
            " [3.50424956e-01 1.00000000e-06]\n",
            " [2.76201691e-03 1.00000000e-06]\n",
            " [1.70902251e+00 1.00000000e-06]\n",
            " [2.63012508e-03 1.00000000e-06]\n",
            " [1.00000000e-06 1.00000909e-06]\n",
            " [1.73131287e-01 1.00000003e-06]\n",
            " [1.49485721e-02 1.00000318e-06]\n",
            " [6.99076476e-02 1.00000000e-06]\n",
            " [5.97912224e-02 1.00000000e-06]\n",
            " [2.23544943e-02 1.00000000e-06]\n",
            " [8.80259902e-02 1.00000004e-06]\n",
            " [1.19064215e+00 1.00000001e-06]\n",
            " [5.04167891e-02 9.99999996e-07]\n",
            " [1.34529181e-01 1.00000000e-06]\n",
            " [1.00000000e-06 1.00000005e-06]\n",
            " [9.99999992e-07 1.00000000e-06]\n",
            " [1.63185395e-01 1.00000000e-06]\n",
            " [1.92847479e-02 1.00000000e-06]\n",
            " [1.00000000e-06 1.00000125e-06]\n",
            " [9.32209056e-02 1.00000000e-06]\n",
            " [1.00001364e-06 1.00000000e-06]\n",
            " [1.49485721e-02 1.00000026e-06]\n",
            " [1.00000546e-06 1.00000000e-06]\n",
            " [1.54862131e-02 1.00000002e-06]\n",
            " [5.97901794e-02 5.02373268e-01]\n",
            " [1.00000054e-06 1.00000011e-06]\n",
            " [1.00000000e-06 1.00000000e-06]\n",
            " [1.00000013e-06 1.00000002e-06]\n",
            " [5.92625440e-01 1.00000000e-06]\n",
            " [1.00000001e-06 1.00000102e-06]\n",
            " [1.00000002e-06 1.00000182e-06]\n",
            " [3.38326161e-02 1.00000000e-06]\n",
            " [8.18164799e-02 1.00000000e-06]\n",
            " [4.53203564e-02 9.99999999e-07]\n",
            " [4.02340030e+00 3.92900674e+00]\n",
            " [1.00000031e-06 1.00000000e-06]\n",
            " [1.00000001e-06 1.00000591e-06]\n",
            " [1.00000637e-06 1.00000000e-06]\n",
            " [1.34651361e-01 1.00000010e-06]\n",
            " [4.25995523e-02 1.00000000e-06]\n",
            " [4.68932224e-02 1.00000001e-06]\n",
            " [2.23819851e-03 1.00000000e-06]\n",
            " [1.00000000e-06 1.00000028e-06]\n",
            " [1.00000273e-06 1.00000000e-06]\n",
            " [2.39162153e-01 1.00000020e-06]\n",
            " [1.00000455e-06 1.00000000e-06]\n",
            " [1.00000000e-06 1.00000000e-06]\n",
            " [9.99999995e-07 1.00000000e-06]\n",
            " [1.00000000e-06 9.99999998e-07]\n",
            " [1.00000171e-06 1.00000000e-06]\n",
            " [2.12588692e-01 1.00000045e-06]\n",
            " [1.00000909e-06 1.00000000e-06]\n",
            " [1.00000000e-06 1.00000040e-06]\n",
            " [1.34529149e-01 1.00000000e-06]\n",
            " [3.72029460e-01 1.00000034e-06]\n",
            " [1.00000000e-06 1.00000028e-06]]\n",
            "\n",
            "Weights of the components:\n",
            " [4.86389136e-03 1.05507491e-05 2.11281096e-05 9.32295843e-01\n",
            " 1.26198343e-03 1.05507491e-05 6.16895141e-05 2.11015079e-05\n",
            " 1.05507491e-05 2.53215168e-04 2.11014982e-05 9.32098231e-04\n",
            " 1.21210348e-03 2.12212594e-05 1.05507491e-05 1.58258379e-03\n",
            " 1.96873666e-04 1.05507491e-05 4.22029963e-05 2.11014982e-05\n",
            " 1.05507491e-05 3.16522473e-05 1.05507491e-05 1.12878791e-04\n",
            " 8.44047079e-05 6.11923282e-04 1.05507491e-05 2.11014982e-05\n",
            " 2.11014984e-05 2.05317547e-02 6.75125535e-05 1.05507491e-05\n",
            " 1.05507491e-05 1.05507491e-05 4.83647082e-03 2.80158755e-04\n",
            " 5.14052263e-04 2.53061889e-04 4.34970342e-04 1.05507474e-05\n",
            " 1.05507491e-05 1.00171492e-03 1.04583163e-04 4.61697949e-03\n",
            " 2.40651643e-04 8.68327051e-03 1.05507491e-05 3.47991257e-05\n",
            " 2.11014982e-05 2.37302562e-04 2.10750039e-05 5.51710965e-04\n",
            " 6.33044651e-05 5.76516306e-05 5.90833817e-04 2.11013602e-05\n",
            " 1.05507438e-05 3.09026873e-03 1.89203459e-04 3.17190548e-03\n",
            " 1.05507491e-05 3.15324645e-05 1.05507395e-05 2.11014982e-05\n",
            " 1.05507491e-05 8.53271725e-05 2.10782663e-05 1.05507491e-05\n",
            " 2.95173181e-04 1.05507443e-05 9.29935829e-05 1.05507491e-05\n",
            " 1.05507491e-05 5.24734432e-05 4.16460616e-05 1.47955432e-04\n",
            " 5.26076154e-05 1.05507491e-05 1.05507491e-05 1.05507491e-05\n",
            " 2.11017520e-05 4.89962874e-04 5.94226925e-05 9.98397814e-04\n",
            " 2.11014982e-05 1.05507491e-05 2.11014982e-05 1.05506318e-05\n",
            " 2.66933952e-03 6.21889589e-04 5.27124517e-04 1.05507491e-05\n",
            " 3.16522473e-05 1.05507491e-05 2.11014982e-05 2.11014982e-05\n",
            " 3.16522473e-05 1.05507491e-05]\n",
            "Predicted component labels for the data points:\n",
            " [3 3 3 ... 3 3 3]\n",
            "Predicted probabilities for each component:\n",
            " [[0. 0. 0. ... 0. 0. 0.]\n",
            " [0. 0. 0. ... 0. 0. 0.]\n",
            " [0. 0. 0. ... 0. 0. 0.]\n",
            " ...\n",
            " [0. 0. 0. ... 0. 0. 0.]\n",
            " [0. 0. 0. ... 0. 0. 0.]\n",
            " [0. 0. 0. ... 0. 0. 0.]]\n"
          ]
        }
      ]
    },
    {
      "cell_type": "markdown",
      "source": [
        "**1.4 Evaluation of the model**"
      ],
      "metadata": {
        "id": "1JyB3qBCbKcZ"
      }
    },
    {
      "cell_type": "markdown",
      "source": [
        "1.4.1 Training set"
      ],
      "metadata": {
        "id": "ZXNYotfLXNy2"
      }
    },
    {
      "cell_type": "code",
      "source": [
        "# Evaluate the log-likelihood of the trained GMM\n",
        "log_likelihood = gmm.score(X_train)\n",
        "print(f'Log-Likelihood: {log_likelihood}')\n",
        "\n",
        "\n",
        "# Compute silhouette score\n",
        "silhouette = silhouette_score(X_train, labels)\n",
        "print(f'Silhouette Score: {silhouette}')\n"
      ],
      "metadata": {
        "colab": {
          "base_uri": "https://localhost:8080/"
        },
        "id": "PkQqRy_WbY8D",
        "outputId": "dc1f51c4-89fb-4bff-88fe-0a4e3b2d45b1"
      },
      "execution_count": 25,
      "outputs": [
        {
          "output_type": "stream",
          "name": "stdout",
          "text": [
            "Log-Likelihood: 11.391338881178633\n",
            "Silhouette Score: 0.9870327107224954\n"
          ]
        }
      ]
    },
    {
      "cell_type": "markdown",
      "source": [
        "1.4.2 Validation set"
      ],
      "metadata": {
        "id": "qLrrOfeoXRZ7"
      }
    },
    {
      "cell_type": "code",
      "source": [
        "Valid_score = gmm.score(X_valid)  # Log-likelihood score on test data\n",
        "Valid_labels = gmm.predict(X_valid)  # Cluster labels for test data\n",
        "silhouette = silhouette_score(X_valid, Valid_labels)  # Silhouette score\n",
        "\n",
        "print(f\"Log-likelihood on test set: {Valid_score}\")\n",
        "print(f\"Silhouette score on test set: {silhouette}\")"
      ],
      "metadata": {
        "colab": {
          "base_uri": "https://localhost:8080/"
        },
        "id": "Eug7gY1dqxTo",
        "outputId": "f5b13fb4-7ddc-4d6b-c584-e28d77de1619"
      },
      "execution_count": 26,
      "outputs": [
        {
          "output_type": "stream",
          "name": "stdout",
          "text": [
            "Log-likelihood on test set: 11.388295132727897\n",
            "Silhouette score on test set: 0.9867809345903323\n"
          ]
        }
      ]
    },
    {
      "cell_type": "markdown",
      "source": [
        "1.4.3 Test set"
      ],
      "metadata": {
        "id": "LPgXUP40XUyE"
      }
    },
    {
      "cell_type": "code",
      "source": [
        "test_score = gmm.score(X_test)  # Log-likelihood score on test data\n",
        "test_labels = gmm.predict(X_test)  # Cluster labels for test data\n",
        "silhouette = silhouette_score(X_test, test_labels)  # Silhouette score\n",
        "\n",
        "print(f\"Log-likelihood on test set: {test_score}\")\n",
        "print(f\"Silhouette score on test set: {silhouette}\")\n"
      ],
      "metadata": {
        "colab": {
          "base_uri": "https://localhost:8080/"
        },
        "id": "-o-4Ce9de3-w",
        "outputId": "608df16e-c83b-4edf-9d13-05aba8231602"
      },
      "execution_count": 27,
      "outputs": [
        {
          "output_type": "stream",
          "name": "stdout",
          "text": [
            "Log-likelihood on test set: 10.595081019773376\n",
            "Silhouette score on test set: 0.9679261672299773\n"
          ]
        }
      ]
    },
    {
      "cell_type": "code",
      "source": [
        "# Calculate BIC for training data\n",
        "train_bic = gmm.bic(train_data)\n",
        "print(f\"BIC (Train): {train_bic}\")\n",
        "\n",
        "# Similarly, calculate BIC for validation and test data\n",
        "val_bic = gmm.bic(val_data)\n",
        "print(f\"BIC (Validation): {val_bic}\")\n",
        "\n",
        "test_bic = gmm.bic(test_data)\n",
        "print(f\"BIC (Test): {test_bic}\")\n"
      ],
      "metadata": {
        "colab": {
          "base_uri": "https://localhost:8080/"
        },
        "id": "0IV_O0ueoAnj",
        "outputId": "a4a370fe-7a18-4db3-d570-052785d4f73a"
      },
      "execution_count": 17,
      "outputs": [
        {
          "output_type": "stream",
          "name": "stdout",
          "text": [
            "BIC (Train): 708440036.7917395\n",
            "BIC (Validation): 46131795.97611021\n",
            "BIC (Test): 255878120.06486025\n"
          ]
        }
      ]
    },
    {
      "cell_type": "markdown",
      "source": [
        "**1.5 Anomalies identification**\n",
        "\n",
        "Trainig set"
      ],
      "metadata": {
        "id": "1YUclHVWrutA"
      }
    },
    {
      "cell_type": "code",
      "source": [
        "# Compute log-probabilities for data\n",
        "log_probs = gmm.score_samples(X_train)"
      ],
      "metadata": {
        "id": "U09ZApQpr15t"
      },
      "execution_count": 18,
      "outputs": []
    },
    {
      "cell_type": "code",
      "source": [
        "print(X_train.head())"
      ],
      "metadata": {
        "id": "aHdclvHae39Y",
        "outputId": "6411dc1f-73d0-4e13-e766-9d8859a4da94",
        "colab": {
          "base_uri": "https://localhost:8080/"
        }
      },
      "execution_count": 19,
      "outputs": [
        {
          "output_type": "stream",
          "name": "stdout",
          "text": [
            "                     Precipitation_geopolis  Precipitation_vclb\n",
            "DateTime                                                       \n",
            "2022-12-08 00:03:00               -0.095402           -0.030606\n",
            "2022-12-08 00:06:00               -0.095402           -0.030606\n",
            "2022-12-08 00:09:00               -0.095402           -0.030606\n",
            "2022-12-08 00:12:00               -0.095402           -0.030606\n",
            "2022-12-08 00:15:00               -0.095402           -0.030606\n"
          ]
        }
      ]
    },
    {
      "cell_type": "code",
      "source": [
        "threshold = np.percentile(gmm.score_samples(X_train), 5)  # 5th percentile\n",
        "anomalies = X_train[log_probs < threshold]\n",
        "print(anomalies.shape)\n",
        "print(anomalies.head())"
      ],
      "metadata": {
        "colab": {
          "base_uri": "https://localhost:8080/"
        },
        "id": "XsrxcsYRr-hj",
        "outputId": "ba2986cf-d6f4-4270-f447-637dc389873f"
      },
      "execution_count": 20,
      "outputs": [
        {
          "output_type": "stream",
          "name": "stdout",
          "text": [
            "(4471, 2)\n",
            "                     Precipitation_geopolis  Precipitation_vclb\n",
            "DateTime                                                       \n",
            "2022-12-08 22:18:00                1.004940           -0.030606\n",
            "2022-12-08 22:21:00                0.882680           -0.030606\n",
            "2022-12-08 22:24:00                0.882680           -0.030606\n",
            "2022-12-08 22:27:00                0.638159           -0.030606\n",
            "2022-12-08 22:30:00                0.638159           -0.030606\n"
          ]
        }
      ]
    },
    {
      "cell_type": "markdown",
      "source": [
        "Test set"
      ],
      "metadata": {
        "id": "806TCo5FcBq6"
      }
    },
    {
      "cell_type": "code",
      "source": [
        "# Compute log-probabilities for data\n",
        "log_prob_test = gmm.score_samples(X_test)"
      ],
      "metadata": {
        "id": "Inus_ODmcDsj"
      },
      "execution_count": null,
      "outputs": []
    },
    {
      "cell_type": "code",
      "source": [
        "print(X_test.head())"
      ],
      "metadata": {
        "id": "GjY7iXrEcIPl",
        "colab": {
          "base_uri": "https://localhost:8080/"
        },
        "outputId": "78f02d7c-08ec-42a2-ad10-bd931767b4a6"
      },
      "execution_count": null,
      "outputs": [
        {
          "output_type": "stream",
          "name": "stdout",
          "text": [
            "                     Precipitation_geopolis  Precipitation_vclb\n",
            "DateTime                                                       \n",
            "2023-09-23 23:33:00               -0.095402           -0.030606\n",
            "2023-09-23 23:36:00               -0.095402           -0.030606\n",
            "2023-09-23 23:39:00               -0.095402           -0.030606\n",
            "2023-09-23 23:42:00               -0.095402           -0.030606\n",
            "2023-09-23 23:45:00               -0.095402           -0.030606\n"
          ]
        }
      ]
    },
    {
      "cell_type": "code",
      "source": [
        "threshold = np.percentile(log_prob_test, 5)  # 5th percentile\n",
        "anomalies_test = X_test[log_prob_test < threshold]\n",
        "print(anomalies_test.shape)\n",
        "print(anomalies_test.head())"
      ],
      "metadata": {
        "id": "txwQBdAWcKBG",
        "colab": {
          "base_uri": "https://localhost:8080/"
        },
        "outputId": "000ad278-89c6-459c-cab2-a7da6d169c76"
      },
      "execution_count": null,
      "outputs": [
        {
          "output_type": "stream",
          "name": "stdout",
          "text": [
            "(1012, 2)\n",
            "                     Precipitation_geopolis  Precipitation_vclb\n",
            "DateTime                                                       \n",
            "2023-09-26 09:30:00               -0.095402           25.483569\n",
            "2023-09-26 09:33:00               -0.095402           26.901023\n",
            "2023-09-26 09:36:00               -0.095402           19.813752\n",
            "2023-09-27 10:12:00               -0.095402            1.386848\n",
            "2023-10-04 09:03:00               -0.095402            1.386848\n"
          ]
        }
      ]
    },
    {
      "cell_type": "markdown",
      "source": [
        "**1.6 Visualization**"
      ],
      "metadata": {
        "id": "SQJPXhV-A688"
      }
    },
    {
      "cell_type": "code",
      "source": [
        "# Ensure grid_points has the correct feature names, if necessary.\n",
        "\n",
        "# Determine the full range of data\n",
        "x_min = min(X_train['Precipitation_geopolis'].min(), anomalies['Precipitation_geopolis'].min()) - 10\n",
        "x_max = max(X_train['Precipitation_geopolis'].max(), anomalies['Precipitation_geopolis'].max()) + 10\n",
        "y_min = min(X_train['Precipitation_vclb'].min(), anomalies['Precipitation_vclb'].min()) - 10\n",
        "y_max = max(X_train['Precipitation_vclb'].max(), anomalies['Precipitation_vclb'].max()) + 10\n",
        "\n",
        "# Create grid points for contours within the new limits\n",
        "xx, yy = np.meshgrid(np.linspace(x_min, x_max, 300), np.linspace(y_min, y_max, 300))\n",
        "grid_points = np.vstack([xx.ravel(), yy.ravel()]).T\n",
        "grid_points_named = pd.DataFrame(grid_points, columns=['Precipitation_geopolis', 'Precipitation_vclb'])\n",
        "\n",
        "# Compute density and reshape\n",
        "Z = gmm.score_samples(grid_points_named)\n",
        "Z = np.exp(Z)\n",
        "Z = Z.reshape(xx.shape)\n",
        "\n",
        "# Plotting\n",
        "plt.figure(figsize=(10, 8))\n",
        "contour = plt.contourf(xx, yy, Z, levels=np.logspace(-11, -2, 20), cmap='Blues', norm=LogNorm(), alpha=0.7)\n",
        "plt.colorbar(contour, label=\"Log Density\")\n",
        "\n",
        "plt.scatter(X_train['Precipitation_geopolis'], X_train['Precipitation_vclb'],\n",
        "            c=labels, cmap='viridis', s=10, alpha=0.7, label=\"Data\")\n",
        "plt.scatter(anomalies['Precipitation_geopolis'], anomalies['Precipitation_vclb'],\n",
        "            c=\"red\", s=50, marker='*', edgecolor='black', label=\"Anomalies\")\n",
        "\n",
        "# Set axis limits\n",
        "plt.xlim(x_min, x_max)\n",
        "plt.ylim(y_min, y_max)\n",
        "\n",
        "plt.title(\"Gaussian Mixture Model: Density and Anomalies\", fontsize=14)\n",
        "plt.xlabel(\"Precipitation at geopolis (drops)\", fontsize=12)\n",
        "plt.ylabel(\"Precipitation at vclb (drops)\", fontsize=12)\n",
        "plt.legend(loc='upper left', fontsize=10, frameon=True)\n",
        "plt.tight_layout()\n",
        "\n",
        "# Save the figure as a PDF\n",
        "output_path2 = \"anomalies_improved_noncorr.pdf\"\n",
        "plt.savefig(output_path2, format='pdf')\n",
        "\n",
        "plt.show()"
      ],
      "metadata": {
        "colab": {
          "base_uri": "https://localhost:8080/",
          "height": 842
        },
        "id": "bGHL_T6I6zJY",
        "outputId": "f43a29cc-8475-4070-decd-8c06ff070f6e"
      },
      "execution_count": 21,
      "outputs": [
        {
          "output_type": "stream",
          "name": "stderr",
          "text": [
            "<ipython-input-21-139b003872bf>:21: UserWarning: Log scale: values of z <= 0 have been masked\n",
            "  contour = plt.contourf(xx, yy, Z, levels=np.logspace(-11, -2, 20), cmap='Blues', norm=LogNorm(), alpha=0.7)\n"
          ]
        },
        {
          "output_type": "display_data",
          "data": {
            "text/plain": [
              "<Figure size 1000x800 with 2 Axes>"
            ],
            "image/png": "[encoded data removed]"
          },
          "metadata": {}
        }
      ]
    },
    {
      "cell_type": "code",
      "source": [
        "print(f\"x_min: {x_min}, x_max: {x_max}\")\n",
        "print(f\"y_min: {y_min}, y_max: {y_max}\")"
      ],
      "metadata": {
        "colab": {
          "base_uri": "https://localhost:8080/"
        },
        "id": "o4bgc8jmOOg6",
        "outputId": "70472972-3d07-4f7e-83ca-db563bc7150c"
      },
      "execution_count": null,
      "outputs": [
        {
          "output_type": "stream",
          "name": "stdout",
          "text": [
            "x_min: -10.0, x_max: 357.0\n",
            "y_min: -10.0, y_max: 123.0\n"
          ]
        }
      ]
    },
    {
      "cell_type": "code",
      "source": [
        "# Ensure grid_points has the correct feature names, if necessary.\n",
        "\n",
        "# Determine the full range of data\n",
        "x_min = min(X_test['Precipitation_geopolis'].min(), anomalies_test['Precipitation_geopolis'].min()) - 10\n",
        "x_max = max(X_test['Precipitation_geopolis'].max(), anomalies_test['Precipitation_geopolis'].max()) + 10\n",
        "y_min = min(X_test['Precipitation_vclb'].min(), anomalies_test['Precipitation_vclb'].min()) - 10\n",
        "y_max = max(X_test['Precipitation_vclb'].max(), anomalies_test['Precipitation_vclb'].max()) + 10\n",
        "\n",
        "# Create grid points for contours within the new limits\n",
        "xx, yy = np.meshgrid(np.linspace(x_min, x_max, 300), np.linspace(y_min, y_max, 300))\n",
        "grid_points = np.vstack([xx.ravel(), yy.ravel()]).T\n",
        "grid_points_named = pd.DataFrame(grid_points, columns=['Precipitation_geopolis', 'Precipitation_vclb'])\n",
        "\n",
        "# Compute density and reshape\n",
        "Z = gmm.score_samples(grid_points_named)\n",
        "Z = np.exp(Z)\n",
        "Z = np.maximum(Z, 1e-11)  # Ensure Z contains only positive values\n",
        "Z = Z.reshape(xx.shape)\n",
        "\n",
        "# Plotting\n",
        "plt.figure(figsize=(10, 8))\n",
        "contour = plt.contourf(xx, yy, Z, levels=np.logspace(-11, -2, 20), cmap='Blues', norm=LogNorm(), alpha=0.7)\n",
        "plt.colorbar(contour, label=\"Log Density\")\n",
        "\n",
        "# Check labels size\n",
        "if len(labels) != len(X_test):\n",
        "    raise ValueError(f\"'labels' length {len(labels)} does not match X_test length {len(X_test)}\")\n",
        "\n",
        "# Scatter plot with corrected labels\n",
        "plt.scatter(X_test['Precipitation_geopolis'], X_test['Precipitation_vclb'],\n",
        "            c=labels, cmap='viridis', s=10, alpha=0.7, label=\"Data\")\n",
        "plt.scatter(anomalies_test['Precipitation_geopolis'], anomalies_test['Precipitation_vclb'],\n",
        "            c=\"red\", s=50, marker='*', edgecolor='black', label=\"Anomalies\")\n",
        "\n",
        "# Set axis limits\n",
        "plt.xlim(x_min, x_max)\n",
        "plt.ylim(y_min, y_max)\n",
        "\n",
        "plt.title(\"Gaussian Mixture Model: Density and Anomalies\", fontsize=14)\n",
        "plt.xlabel(\"Precipitation at geopolis (drops)\", fontsize=12)\n",
        "plt.ylabel(\"Precipitation at vclb (drops)\", fontsize=12)\n",
        "plt.legend(loc='upper left', fontsize=10, frameon=True)\n",
        "plt.tight_layout()\n",
        "\n",
        "# Save the figure as a PDF\n",
        "output_path2 = \"anomalies_improved_noncorr.pdf\"\n",
        "plt.savefig(output_path2, format='pdf')\n",
        "\n",
        "plt.show()\n"
      ],
      "metadata": {
        "colab": {
          "base_uri": "https://localhost:8080/",
          "height": 881
        },
        "id": "hiCA2MavwaWX",
        "outputId": "1bd925ab-b4d7-4e05-94b7-021f898cf0cd"
      },
      "execution_count": null,
      "outputs": [
        {
          "output_type": "error",
          "ename": "ValueError",
          "evalue": "'labels' length 94780 does not match X_test length 20311",
          "traceback": [
            "\u001b[0;31m---------------------------------------------------------------------------\u001b[0m",
            "\u001b[0;31mValueError\u001b[0m                                Traceback (most recent call last)",
            "\u001b[0;32m<ipython-input-47-6c98f8fb509f>\u001b[0m in \u001b[0;36m<cell line: 26>\u001b[0;34m()\u001b[0m\n\u001b[1;32m     25\u001b[0m \u001b[0;31m# Check labels size\u001b[0m\u001b[0;34m\u001b[0m\u001b[0;34m\u001b[0m\u001b[0m\n\u001b[1;32m     26\u001b[0m \u001b[0;32mif\u001b[0m \u001b[0mlen\u001b[0m\u001b[0;34m(\u001b[0m\u001b[0mlabels\u001b[0m\u001b[0;34m)\u001b[0m \u001b[0;34m!=\u001b[0m \u001b[0mlen\u001b[0m\u001b[0;34m(\u001b[0m\u001b[0mX_test\u001b[0m\u001b[0;34m)\u001b[0m\u001b[0;34m:\u001b[0m\u001b[0;34m\u001b[0m\u001b[0;34m\u001b[0m\u001b[0m\n\u001b[0;32m---> 27\u001b[0;31m     \u001b[0;32mraise\u001b[0m \u001b[0mValueError\u001b[0m\u001b[0;34m(\u001b[0m\u001b[0;34mf\"'labels' length {len(labels)} does not match X_test length {len(X_test)}\"\u001b[0m\u001b[0;34m)\u001b[0m\u001b[0;34m\u001b[0m\u001b[0;34m\u001b[0m\u001b[0m\n\u001b[0m\u001b[1;32m     28\u001b[0m \u001b[0;34m\u001b[0m\u001b[0m\n\u001b[1;32m     29\u001b[0m \u001b[0;31m# Scatter plot with corrected labels\u001b[0m\u001b[0;34m\u001b[0m\u001b[0;34m\u001b[0m\u001b[0m\n",
            "\u001b[0;31mValueError\u001b[0m: 'labels' length 94780 does not match X_test length 20311"
          ]
        },
        {
          "output_type": "display_data",
          "data": {
            "text/plain": [
              "<Figure size 1000x800 with 2 Axes>"
            ],
            "image/png": "[encoded data removed]"
          },
          "metadata": {}
        }
      ]
    }
  ]
}