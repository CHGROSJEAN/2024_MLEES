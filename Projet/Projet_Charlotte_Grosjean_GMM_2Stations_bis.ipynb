{
  "nbformat": 4,
  "nbformat_minor": 0,
  "metadata": {
    "colab": {
      "provenance": [],
      "authorship_tag": "ABX9TyMWyuF8wQSJx652pFDHtIMG",
      "include_colab_link": true
    },
    "kernelspec": {
      "name": "python3",
      "display_name": "Python 3"
    },
    "language_info": {
      "name": "python"
    }
  },
  "cells": [
    {
      "cell_type": "markdown",
      "metadata": {
        "id": "view-in-github",
        "colab_type": "text"
      },
      "source": [
        "<a href=\"https://colab.research.google.com/github/CHGROSJEAN/2024_MLEES/blob/main/Projet/Projet_Charlotte_Grosjean_GMM_2Stations_bis.ipynb\" target=\"_parent\"><img src=\"https://colab.research.google.com/assets/colab-badge.svg\" alt=\"Open In Colab\"/></a>"
      ]
    },
    {
      "cell_type": "markdown",
      "source": [
        "# 0. Import libraries and data\n"
      ],
      "metadata": {
        "id": "QXksE2TVITc1"
      }
    },
    {
      "cell_type": "markdown",
      "source": [
        "Frist step, simple GMM for 2 stations : Grand-Vennes and Riand-Pré."
      ],
      "metadata": {
        "id": "x5d3GYZoXr6h"
      }
    },
    {
      "cell_type": "code",
      "execution_count": 28,
      "metadata": {
        "id": "pigbLfeItiB-"
      },
      "outputs": [],
      "source": [
        "# Import\n",
        "import geopandas as gpd\n",
        "import pandas as pd\n",
        "import xarray as xr\n",
        "import numpy as np\n",
        "import matplotlib.pyplot as plt\n",
        "import matplotlib.colors as mcolors\n",
        "from matplotlib.colors import LogNorm\n",
        "import os\n",
        "from shapely.geometry import Point\n",
        "from sklearn.metrics import silhouette_score\n",
        "from sklearn.mixture import GaussianMixture\n",
        "import seaborn as sns\n"
      ]
    },
    {
      "cell_type": "markdown",
      "source": [
        "Download data sets"
      ],
      "metadata": {
        "id": "o2eBIRSWH6dg"
      }
    },
    {
      "cell_type": "code",
      "source": [
        "# Reading the Excel files\n",
        "grandvennes = pd.read_excel(\"https://raw.githubusercontent.com/CHGROSJEAN/2024_MLEES/main/Projet/Stations/GrandVennes.xlsx\")\n",
        "riandpre = pd.read_excel(\"https://raw.githubusercontent.com/CHGROSJEAN/2024_MLEES/main/Projet/Stations/RiandPre.xlsx\")\n",
        "chandieu = pd.read_excel(\"https://raw.githubusercontent.com/CHGROSJEAN/2024_MLEES/main/Projet/Stations/Chandieu.xlsx\")\n",
        "geopolis = pd.read_excel(\"https://raw.githubusercontent.com/CHGROSJEAN/2024_MLEES/main/Projet/Stations/Geopolis.xlsx\")\n",
        "lexplore = pd.read_excel(\"https://raw.githubusercontent.com/CHGROSJEAN/2024_MLEES/main/Projet/Stations/LExplore.xlsx\")\n",
        "bethusy = pd.read_excel(\"https://raw.githubusercontent.com/CHGROSJEAN/2024_MLEES/main/Projet/Stations/Bethusy.xlsx\")\n",
        "boisgentils = pd.read_excel(\"https://raw.githubusercontent.com/CHGROSJEAN/2024_MLEES/main/Projet/Stations/BoisGentils.xlsx\")\n",
        "elysee = pd.read_excel(\"https://raw.githubusercontent.com/CHGROSJEAN/2024_MLEES/main/Projet/Stations/Elysee.xlsx\")\n",
        "pontaise = pd.read_excel(\"https://raw.githubusercontent.com/CHGROSJEAN/2024_MLEES/main/Projet/Stations/Pontaise.xlsx\")\n",
        "rouvraie = pd.read_excel(\"https://raw.githubusercontent.com/CHGROSJEAN/2024_MLEES/main/Projet/Stations/Rouvraie.xlsx\")\n",
        "vclb = pd.read_excel(\"https://raw.githubusercontent.com/CHGROSJEAN/2024_MLEES/main/Projet/Stations/VersChezLesBlancs.xlsx\")\n",
        "\n",
        "\n",
        "\n",
        "# Displaying the first few rows of each dataset\n",
        "print(\"Data from Grand-Vennes:\")\n",
        "print(grandvennes.head())\n",
        "\n",
        "print(\"\\nData from Riand-Pré:\")\n",
        "print(riandpre.head())\n",
        "\n",
        "print(\"\\nData from Chandieu:\")\n",
        "print(chandieu.head())\n",
        "\n",
        "print(\"\\nData from Geopolis:\")\n",
        "print(geopolis.head())\n",
        "\n",
        "print(\"\\nData from LExplore:\")\n",
        "print(lexplore.head())\n",
        "\n",
        "print(\"\\nData from Bethusy:\")\n",
        "print(bethusy.head())\n",
        "\n",
        "print(\"\\nData from Bois Gentils:\")\n",
        "print(boisgentils.head())\n",
        "\n",
        "print(\"\\nData from Elysée:\")\n",
        "print(elysee.head())\n",
        "\n",
        "print(\"\\nData from Pontaise:\")\n",
        "print(pontaise.head())\n",
        "\n",
        "print(\"\\nData from Rouvraie:\")\n",
        "print(rouvraie.head())\n",
        "\n",
        "print(\"\\nData from Vers-chez-les-Blanc:\")\n",
        "print(vclb.head())\n"
      ],
      "metadata": {
        "id": "oulEz3AxIbgs",
        "colab": {
          "base_uri": "https://localhost:8080/"
        },
        "outputId": "9fe50afa-8b8b-4737-bab7-9b8cd44695ac"
      },
      "execution_count": 7,
      "outputs": [
        {
          "output_type": "stream",
          "name": "stdout",
          "text": [
            "Data from Grand-Vennes:\n",
            "   Index             DateTime  Precipitation\n",
            "0      1  07.01.2023 08:27:54              0\n",
            "1      2  07.01.2023 08:30:54              0\n",
            "2      3  07.01.2023 08:33:54              0\n",
            "3      4  07.01.2023 08:36:54              0\n",
            "4      5  07.01.2023 08:39:54              0\n",
            "\n",
            "Data from Riand-Pré:\n",
            "   Index             DateTime  Precipitation\n",
            "0      1  09.11.2022 00:03:39              0\n",
            "1      2  09.11.2022 00:06:39              0\n",
            "2      3  09.11.2022 00:09:39              0\n",
            "3      4  09.11.2022 00:12:39              0\n",
            "4      5  09.11.2022 00:15:39              0\n",
            "\n",
            "Data from Chandieu:\n",
            "   Index             DateTime  Precipitation\n",
            "0      1  30.11.2022 00:03:07              0\n",
            "1      2  30.11.2022 00:06:07              0\n",
            "2      3  30.11.2022 00:09:07              0\n",
            "3      4  30.11.2022 00:12:07              0\n",
            "4      5  30.11.2022 00:15:07              0\n",
            "\n",
            "Data from Geopolis:\n",
            "   Index             DateTime  Precipitation\n",
            "0      1  11.11.2022 00:02:18              0\n",
            "1      2  11.11.2022 00:04:18              0\n",
            "2      3  11.11.2022 00:06:18              0\n",
            "3      4  11.11.2022 00:08:18              0\n",
            "4      5  11.11.2022 00:10:18              0\n",
            "\n",
            "Data from LExplore:\n",
            "   Index             DateTime  Precipitation\n",
            "0      1  25.11.2022 11:03:31              0\n",
            "1      2  25.11.2022 11:06:31              0\n",
            "2      3  25.11.2022 11:09:31              0\n",
            "3      4  25.11.2022 11:12:31              0\n",
            "4      5  25.11.2022 11:15:31              0\n",
            "\n",
            "Data from Bethusy:\n",
            "   Index             DateTime  Precipitation\n",
            "0      1  30.11.2022 00:03:26              0\n",
            "1      2  30.11.2022 00:06:26              0\n",
            "2      3  30.11.2022 00:09:26              0\n",
            "3      4  30.11.2022 00:12:26              0\n",
            "4      5  30.11.2022 00:15:26              0\n",
            "\n",
            "Data from Bois Gentils:\n",
            "   Index             DateTime  Precipitation\n",
            "0      1  08.12.2022 00:03:14              0\n",
            "1      2  08.12.2022 00:06:14              0\n",
            "2      3  08.12.2022 00:09:14              0\n",
            "3      4  08.12.2022 00:12:14              0\n",
            "4      5  08.12.2022 00:15:14              0\n",
            "\n",
            "Data from Elysée:\n",
            "   Index             DateTime  Precipitation\n",
            "0      1  30.11.2022 00:03:10              0\n",
            "1      2  30.11.2022 00:06:10              0\n",
            "2      3  30.11.2022 00:09:10              0\n",
            "3      4  30.11.2022 00:12:10              0\n",
            "4      5  30.11.2022 00:15:10              0\n",
            "\n",
            "Data from Pontaise:\n",
            "   Index             DateTime  Precipitation\n",
            "0      1  09.11.2022 00:03:44              0\n",
            "1      2  09.11.2022 00:06:44              0\n",
            "2      3  09.11.2022 00:09:44              0\n",
            "3      4  09.11.2022 00:12:44              0\n",
            "4      5  09.11.2022 00:15:44              0\n",
            "\n",
            "Data from Rouvraie:\n",
            "   Index             DateTime  Precipitation\n",
            "0      1  09.11.2022 00:03:03              0\n",
            "1      2  09.11.2022 00:06:03              0\n",
            "2      3  09.11.2022 00:09:03              0\n",
            "3      4  09.11.2022 00:12:03              0\n",
            "4      5  09.11.2022 00:15:03              0\n",
            "\n",
            "Data from Vers-chez-les-Blanc:\n",
            "   Index             DateTime  Precipitation\n",
            "0      1  08.12.2022 00:03:45              0\n",
            "1      2  08.12.2022 00:06:45              0\n",
            "2      3  08.12.2022 00:09:45              0\n",
            "3      4  08.12.2022 00:12:45              0\n",
            "4      5  08.12.2022 00:15:45              0\n"
          ]
        }
      ]
    },
    {
      "cell_type": "code",
      "source": [
        "# Ensuring the 'DateTime' the column is of datetime type for both datasets\n",
        "grandvennes['DateTime'] = pd.to_datetime(grandvennes['DateTime'], dayfirst=True)\n",
        "riandpre['DateTime'] = pd.to_datetime(riandpre['DateTime'], dayfirst=True)\n",
        "chandieu['DateTime'] = pd.to_datetime(chandieu['DateTime'], dayfirst=True)\n",
        "geopolis['DateTime'] = pd.to_datetime(geopolis['DateTime'], dayfirst=True)\n",
        "lexplore['DateTime'] = pd.to_datetime(lexplore['DateTime'], dayfirst=True)\n",
        "bethusy['DateTime'] = pd.to_datetime(bethusy['DateTime'], dayfirst=True)\n",
        "boisgentils['DateTime'] = pd.to_datetime(boisgentils['DateTime'], dayfirst=True)\n",
        "elysee['DateTime'] = pd.to_datetime(elysee['DateTime'], dayfirst=True)\n",
        "pontaise['DateTime'] = pd.to_datetime(pontaise['DateTime'], dayfirst=True)\n",
        "rouvraie['DateTime'] = pd.to_datetime(rouvraie['DateTime'], dayfirst=True)\n",
        "vclb['DateTime'] = pd.to_datetime(vclb['DateTime'], dayfirst=True)\n",
        "\n",
        "\n",
        "\n",
        "# Setting the DateTime column as the index for easier time-based operations\n",
        "grandvennes.set_index('DateTime', inplace=True)\n",
        "riandpre.set_index('DateTime', inplace=True)\n",
        "chandieu.set_index('DateTime', inplace=True)\n",
        "geopolis.set_index('DateTime', inplace=True)\n",
        "lexplore.set_index('DateTime', inplace=True)\n",
        "bethusy.set_index('DateTime', inplace=True)\n",
        "boisgentils.set_index('DateTime', inplace=True)\n",
        "elysee.set_index('DateTime', inplace=True)\n",
        "pontaise.set_index('DateTime', inplace=True)\n",
        "rouvraie.set_index('DateTime', inplace=True)\n",
        "vclb.set_index('DateTime', inplace=True)"
      ],
      "metadata": {
        "id": "fyElIL3X6ghE"
      },
      "execution_count": 8,
      "outputs": []
    },
    {
      "cell_type": "markdown",
      "source": [
        "# 1. SIMPLE GMM BASELINE FOR 2 STATIONS"
      ],
      "metadata": {
        "id": "lXAUNE_qH7Fz"
      }
    },
    {
      "cell_type": "markdown",
      "source": [
        "**1.0 Preprocessing and visualization**\n"
      ],
      "metadata": {
        "id": "gkp_ccgNaFTf"
      }
    },
    {
      "cell_type": "markdown",
      "source": [],
      "metadata": {
        "id": "ARZB8Epnc2md"
      }
    },
    {
      "cell_type": "markdown",
      "source": [
        "Pre-processing the data to ensure the data is clean following the following steps:\n",
        "- Setting DateTime as the index\n",
        "- Selecting the period (data for both station)\n",
        "- Converting drops in mm\n"
      ],
      "metadata": {
        "id": "KsNkNQn5X6Lj"
      }
    },
    {
      "cell_type": "code",
      "source": [
        "#Finding the common time period between the two datasets\n",
        "start_time = max(geopolis.index.min(), vclb.index.min())\n",
        "end_time = min(geopolis.index.max(), vclb.index.max())\n",
        "\n",
        "# Filtering both datasets to the common time period\n",
        "geopolis_filtered = geopolis.loc[start_time:end_time]\n",
        "vclb_filtered = vclb.loc[start_time:end_time]\n",
        "\n",
        "# Converting precipitation from drops to mm ( 1 drop = 0.01 mm)\n",
        "geopolis_filtered['Precipitation_mm'] = geopolis_filtered['Precipitation'] * 0.01\n",
        "vclb_filtered['Precipitation_mm'] = vclb_filtered['Precipitation'] * 0.01\n",
        "\n",
        "# Plotting the data\n",
        "plt.figure(figsize=(12, 6))\n",
        "plt.plot(geopolis_filtered.index, geopolis_filtered['Precipitation_mm'], label='Geopolis', color='blue', alpha=0.7)\n",
        "plt.plot(vclb_filtered.index, vclb_filtered['Precipitation_mm'], label='Vers-chez-les-Blanc', color='green', alpha=0.7)\n",
        "\n",
        "# Adding labels, title, and legend\n",
        "plt.xlabel('Time')\n",
        "plt.ylabel('Precipitation (mm)')\n",
        "plt.title('Precipitation Over Time')\n",
        "plt.legend()\n",
        "plt.grid(True)\n",
        "\n",
        "# Display the plot\n",
        "plt.show()"
      ],
      "metadata": {
        "colab": {
          "base_uri": "https://localhost:8080/",
          "height": 798
        },
        "id": "zYJxuK8IFlNs",
        "outputId": "09f06274-0074-4270-e83f-b2d1c43e0893"
      },
      "execution_count": 9,
      "outputs": [
        {
          "output_type": "stream",
          "name": "stderr",
          "text": [
            "<ipython-input-9-6d5aeb271736>:10: SettingWithCopyWarning: \n",
            "A value is trying to be set on a copy of a slice from a DataFrame.\n",
            "Try using .loc[row_indexer,col_indexer] = value instead\n",
            "\n",
            "See the caveats in the documentation: https://pandas.pydata.org/pandas-docs/stable/user_guide/indexing.html#returning-a-view-versus-a-copy\n",
            "  geopolis_filtered['Precipitation_mm'] = geopolis_filtered['Precipitation'] * 0.01\n",
            "<ipython-input-9-6d5aeb271736>:11: SettingWithCopyWarning: \n",
            "A value is trying to be set on a copy of a slice from a DataFrame.\n",
            "Try using .loc[row_indexer,col_indexer] = value instead\n",
            "\n",
            "See the caveats in the documentation: https://pandas.pydata.org/pandas-docs/stable/user_guide/indexing.html#returning-a-view-versus-a-copy\n",
            "  vclb_filtered['Precipitation_mm'] = vclb_filtered['Precipitation'] * 0.01\n"
          ]
        },
        {
          "output_type": "display_data",
          "data": {
            "text/plain": [
              "<Figure size 1200x600 with 1 Axes>"
            ],
            "image/png": "[encoded data removed]"
          },
          "metadata": {}
        }
      ]
    },
    {
      "cell_type": "markdown",
      "source": [
        "To work with 2 staitions in a GMM model, the data needs to be aligned and merge in 1 dataset. Here are the steps followed to create this dataset:\n",
        "- Remove the seconds units to have minute precision\n",
        "- Aligning both datasets to the period (Both dataset have 3 minutes interval)\n",
        "- If some time points are still missing from one station, drop them from the analysis\n",
        "- Merge datasets in 1 dataset for GMM\n",
        "\n",
        "Normally, sensors are set to measure every three minutes, starting with the full hour, so that stations take measurements at the same minutes for easier analysis.\n",
        "\n",
        "So, when we remove the seconds, we round up to the previous minute to keep this matching.\n",
        "\n",
        "We still have a step to align the two datasets, as some sensors are not set to the same minutes and are therefore out of sync."
      ],
      "metadata": {
        "id": "lloBkzCSRSzE"
      }
    },
    {
      "cell_type": "code",
      "source": [
        "# Round down the DateTime to the previous minute (removes seconds, truncating)\n",
        "geopolis.index = geopolis.index.floor('min')  # rounded to the nearest lower minute\n",
        "vclb.index = vclb.index.floor('min')\n",
        "\n",
        "# Resampling to the closest 3-minute interval and filling missing values with NaN\n",
        "geopolis_resampled = geopolis.resample('3min').mean()\n",
        "vclb_resampled = vclb.resample('3min').mean()\n",
        "\n",
        "# Align both datasets to the common time period (intersection of their timestamps)\n",
        "start_time = max(geopolis_resampled.index.min(), vclb_resampled.index.min())\n",
        "end_time = min(geopolis_resampled.index.max(), vclb_resampled.index.max())\n",
        "\n",
        "geopolis_aligned = geopolis_resampled.loc[start_time:end_time]\n",
        "vclb_aligned = vclb_resampled.loc[start_time:end_time]\n",
        "\n",
        "# Drop rows with missing values from both datasets\n",
        "geopolis_aligned = geopolis_aligned.dropna()\n",
        "vclb_aligned = vclb_aligned.dropna()\n",
        "\n",
        "# Now both datasets are aligned and cleaned. Viewing the cleaned and aligned data\n",
        "print(\"Aligned and cleaned geopolis data:\")\n",
        "print(geopolis_aligned.head())\n",
        "\n",
        "print(\"Aligned and cleaned vclb data:\")\n",
        "print(vclb_aligned.head())\n"
      ],
      "metadata": {
        "colab": {
          "base_uri": "https://localhost:8080/"
        },
        "id": "3MkqvfzxHPTv",
        "outputId": "707ffb78-ab31-40dd-869a-121c05b38eb3"
      },
      "execution_count": 10,
      "outputs": [
        {
          "output_type": "stream",
          "name": "stdout",
          "text": [
            "Aligned and cleaned geopolis data:\n",
            "                       Index  Precipitation\n",
            "DateTime                                   \n",
            "2022-12-08 00:03:00  19442.0            0.0\n",
            "2022-12-08 00:06:00  19443.5            0.0\n",
            "2022-12-08 00:09:00  19445.0            0.0\n",
            "2022-12-08 00:12:00  19446.5            0.0\n",
            "2022-12-08 00:15:00  19448.0            0.0\n",
            "Aligned and cleaned vclb data:\n",
            "                     Index  Precipitation\n",
            "DateTime                                 \n",
            "2022-12-08 00:03:00    1.0            0.0\n",
            "2022-12-08 00:06:00    2.0            0.0\n",
            "2022-12-08 00:09:00    3.0            0.0\n",
            "2022-12-08 00:12:00    4.0            0.0\n",
            "2022-12-08 00:15:00    5.0            0.0\n"
          ]
        }
      ]
    },
    {
      "cell_type": "markdown",
      "source": [
        "Here is a visualization of 2 datasets to see what the data looks like"
      ],
      "metadata": {
        "id": "o-o3-61iR1Z6"
      }
    },
    {
      "cell_type": "code",
      "source": [
        "# Plotting the data for both stations\n",
        "plt.figure(figsize=(12, 6))\n",
        "\n",
        "# Plot Grand-Vennes data\n",
        "plt.plot(geopolis_aligned.index, geopolis_aligned['Precipitation'], label='Geopolis', color='blue')\n",
        "\n",
        "# Plot Riand-Pré data\n",
        "plt.plot(vclb_aligned.index, vclb_aligned['Precipitation'], label='Vers-chez-les-Blanc', color='orange')\n",
        "\n",
        "# Add labels and title\n",
        "plt.xlabel('DateTime')\n",
        "plt.ylabel('Precipitation (drops)')\n",
        "plt.title('Precipitation Over Time for Geopolis and Vers-chez-les-Blanc')\n",
        "\n",
        "# Rotate date labels for better readability\n",
        "plt.xticks(rotation=45)\n",
        "\n",
        "# Add a legend\n",
        "plt.legend()\n",
        "\n",
        "# Display the plot\n",
        "plt.tight_layout()\n",
        "plt.show()"
      ],
      "metadata": {
        "colab": {
          "base_uri": "https://localhost:8080/",
          "height": 548
        },
        "id": "FVmdp1uANBKK",
        "outputId": "50b4a33e-c7ca-409d-88b1-ac2d3c43bbbf"
      },
      "execution_count": 11,
      "outputs": [
        {
          "output_type": "display_data",
          "data": {
            "text/plain": [
              "<Figure size 1200x600 with 1 Axes>"
            ],
            "image/png": "[encoded data removed]"
          },
          "metadata": {}
        }
      ]
    },
    {
      "cell_type": "markdown",
      "source": [
        "Final step to merge the datasets"
      ],
      "metadata": {
        "id": "eamqZYhDii4P"
      }
    },
    {
      "cell_type": "code",
      "source": [
        "# Merge the datasets on the 'DateTime' index\n",
        "combined_data = pd.merge(geopolis_aligned[['Precipitation']],\n",
        "                         vclb_aligned[['Precipitation']],\n",
        "                         left_index=True, right_index=True,\n",
        "                         suffixes=('_geopolis', '_vclb'))\n",
        "\n",
        "# Display the first few rows of the combined data\n",
        "print(\"Combined Precipitation Data:\")\n",
        "print(combined_data.head())\n",
        "print(combined_data.shape)"
      ],
      "metadata": {
        "colab": {
          "base_uri": "https://localhost:8080/"
        },
        "id": "k2LqPBrXNsx4",
        "outputId": "920a0f61-db30-407b-b66e-ea576f51855f"
      },
      "execution_count": 12,
      "outputs": [
        {
          "output_type": "stream",
          "name": "stdout",
          "text": [
            "Combined Precipitation Data:\n",
            "                     Precipitation_geopolis  Precipitation_vclb\n",
            "DateTime                                                       \n",
            "2022-12-08 00:03:00                     0.0                 0.0\n",
            "2022-12-08 00:06:00                     0.0                 0.0\n",
            "2022-12-08 00:09:00                     0.0                 0.0\n",
            "2022-12-08 00:12:00                     0.0                 0.0\n",
            "2022-12-08 00:15:00                     0.0                 0.0\n",
            "(135401, 2)\n"
          ]
        }
      ]
    },
    {
      "cell_type": "markdown",
      "source": [
        "**1.1 Splitting dataset**"
      ],
      "metadata": {
        "id": "X7rhMsvqSNSo"
      }
    },
    {
      "cell_type": "markdown",
      "source": [
        "Split the dataset following this repartition\n",
        "- First 70% = Training set\n",
        "- Next 15% = Validation set  \n",
        "- Last 15% = Testing set"
      ],
      "metadata": {
        "id": "1PCpPuvEdW5x"
      }
    },
    {
      "cell_type": "code",
      "source": [
        "# Calculate the index for the splits\n",
        "train_size = int(0.7 * len(combined_data))  # 70% for training\n",
        "val_size = int(0.15 * len(combined_data))  # 15% for validation\n",
        "test_size = len(combined_data) - train_size - val_size  # 15% for testing\n",
        "\n",
        "# Split the data sequentially\n",
        "train_data = combined_data[:train_size]\n",
        "val_data = combined_data[train_size:train_size + val_size]\n",
        "test_data = combined_data[train_size + val_size:]\n",
        "\n",
        "# Display the sizes of each dataset\n",
        "print(f\"Training set size: {len(train_data)}\")\n",
        "print(f\"Validation set size: {len(val_data)}\")\n",
        "print(f\"Test set size: {len(test_data)}\")\n",
        "\n",
        "# Display the first few rows of each dataset\n",
        "print(\"\\nTraining Data:\")\n",
        "print(train_data.head())\n",
        "\n",
        "print(\"\\nValidation Data:\")\n",
        "print(val_data.head())\n",
        "\n",
        "print(\"\\nTest Data:\")\n",
        "print(test_data.head())\n"
      ],
      "metadata": {
        "colab": {
          "base_uri": "https://localhost:8080/"
        },
        "id": "IAlOBJ0aOQRr",
        "outputId": "7324276a-0f32-427b-cc47-58821b908e1a"
      },
      "execution_count": 13,
      "outputs": [
        {
          "output_type": "stream",
          "name": "stdout",
          "text": [
            "Training set size: 94780\n",
            "Validation set size: 20310\n",
            "Test set size: 20311\n",
            "\n",
            "Training Data:\n",
            "                     Precipitation_geopolis  Precipitation_vclb\n",
            "DateTime                                                       \n",
            "2022-12-08 00:03:00                     0.0                 0.0\n",
            "2022-12-08 00:06:00                     0.0                 0.0\n",
            "2022-12-08 00:09:00                     0.0                 0.0\n",
            "2022-12-08 00:12:00                     0.0                 0.0\n",
            "2022-12-08 00:15:00                     0.0                 0.0\n",
            "\n",
            "Validation Data:\n",
            "                     Precipitation_geopolis  Precipitation_vclb\n",
            "DateTime                                                       \n",
            "2023-08-12 16:03:00                     0.0                 0.0\n",
            "2023-08-12 16:06:00                     0.0                 0.0\n",
            "2023-08-12 16:09:00                     0.0                 0.0\n",
            "2023-08-12 16:12:00                     0.0                 0.0\n",
            "2023-08-12 16:15:00                     0.0                 0.0\n",
            "\n",
            "Test Data:\n",
            "                     Precipitation_geopolis  Precipitation_vclb\n",
            "DateTime                                                       \n",
            "2023-09-23 23:33:00                     0.0                 0.0\n",
            "2023-09-23 23:36:00                     0.0                 0.0\n",
            "2023-09-23 23:39:00                     0.0                 0.0\n",
            "2023-09-23 23:42:00                     0.0                 0.0\n",
            "2023-09-23 23:45:00                     0.0                 0.0\n"
          ]
        }
      ]
    },
    {
      "cell_type": "code",
      "source": [
        "# Extract X for each dataset\n",
        "# For training data\n",
        "X_train = train_data[['Precipitation_geopolis', 'Precipitation_vclb']]  # Features (precipitation from both stations)\n",
        "\n",
        "# For validation data\n",
        "X_valid = val_data[['Precipitation_geopolis', 'Precipitation_vclb']]  # Features (precipitation from both stations)\n",
        "\n",
        "# For test data\n",
        "X_test = test_data[['Precipitation_geopolis', 'Precipitation_vclb']]  # Features (precipitation from both stations)\n",
        "\n",
        "# Display the first few rows of the extracted data\n",
        "print(\"X_train:\")\n",
        "print(X_train.head())\n",
        "\n",
        "print(\"\\nX_valid:\")\n",
        "print(X_valid.head())\n",
        "\n",
        "print(\"\\nX_test:\")\n",
        "print(X_test.head())"
      ],
      "metadata": {
        "colab": {
          "base_uri": "https://localhost:8080/"
        },
        "id": "fA2qoBuxSF0r",
        "outputId": "71cc7ac2-b239-4a6d-a0e4-8308b0458e31"
      },
      "execution_count": 14,
      "outputs": [
        {
          "output_type": "stream",
          "name": "stdout",
          "text": [
            "X_train:\n",
            "                     Precipitation_geopolis  Precipitation_vclb\n",
            "DateTime                                                       \n",
            "2022-12-08 00:03:00                     0.0                 0.0\n",
            "2022-12-08 00:06:00                     0.0                 0.0\n",
            "2022-12-08 00:09:00                     0.0                 0.0\n",
            "2022-12-08 00:12:00                     0.0                 0.0\n",
            "2022-12-08 00:15:00                     0.0                 0.0\n",
            "\n",
            "X_valid:\n",
            "                     Precipitation_geopolis  Precipitation_vclb\n",
            "DateTime                                                       \n",
            "2023-08-12 16:03:00                     0.0                 0.0\n",
            "2023-08-12 16:06:00                     0.0                 0.0\n",
            "2023-08-12 16:09:00                     0.0                 0.0\n",
            "2023-08-12 16:12:00                     0.0                 0.0\n",
            "2023-08-12 16:15:00                     0.0                 0.0\n",
            "\n",
            "X_test:\n",
            "                     Precipitation_geopolis  Precipitation_vclb\n",
            "DateTime                                                       \n",
            "2023-09-23 23:33:00                     0.0                 0.0\n",
            "2023-09-23 23:36:00                     0.0                 0.0\n",
            "2023-09-23 23:39:00                     0.0                 0.0\n",
            "2023-09-23 23:42:00                     0.0                 0.0\n",
            "2023-09-23 23:45:00                     0.0                 0.0\n"
          ]
        }
      ]
    },
    {
      "cell_type": "markdown",
      "source": [
        "**1.2 Hyperparameter test**"
      ],
      "metadata": {
        "id": "7RqBFcyIRdsS"
      }
    },
    {
      "cell_type": "markdown",
      "source": [
        "**1..2 Evaluation of components range**\n",
        "\n",
        "Using Bayesian Information Criterion. It is optimal for selecting the optimal model when the number of data points is large\n",
        "\n",
        "The range tested is from 2 to 10 components"
      ],
      "metadata": {
        "id": "3b9OCMbwiHak"
      }
    },
    {
      "cell_type": "code",
      "source": [
        "# Range of components to evaluate\n",
        "component_range = range(2, 11)  # For component numbers 2, 3, 4, 5, 6, 7, 8, 9, 10\n",
        "\n",
        "# Store results\n",
        "models = {}\n",
        "bic_scores = []\n",
        "silhouette_scores = []\n",
        "\n",
        "# Loop through the range of components\n",
        "for n_components in component_range:\n",
        "    # Create and fit the Gaussian Mixture Model\n",
        "    gmm = GaussianMixture(n_components=n_components, random_state=42)\n",
        "    gmm.fit(X_train)  # Assuming X_train is your data\n",
        "\n",
        "    # Store the model and metrics\n",
        "    models[n_components] = gmm\n",
        "    bic_scores.append(gmm.bic(X_train))\n",
        "\n",
        "    # Predict cluster labels\n",
        "    labels = gmm.predict(X_train)\n",
        "\n",
        "    # Calculate silhouette score\n",
        "    silhouette = silhouette_score(X_train, labels)\n",
        "    silhouette_scores.append(silhouette)\n",
        "\n"
      ],
      "metadata": {
        "id": "01yD0_uRb5gA"
      },
      "execution_count": 15,
      "outputs": []
    },
    {
      "cell_type": "code",
      "source": [
        "# Plot BIC, and Silhouette Score for each number of components\n",
        "plt.figure(figsize=(12, 6))\n",
        "\n",
        "\n",
        "# Plot BIC\n",
        "plt.subplot(1, 2, 1)\n",
        "plt.plot(component_range, bic_scores, marker='o')\n",
        "plt.title('BIC for each number of components')\n",
        "plt.xlabel('Number of Components')\n",
        "plt.ylabel('BIC')\n",
        "\n",
        "# Plot Silhouette Score\n",
        "plt.subplot(1, 2, 2)\n",
        "plt.plot(component_range, silhouette_scores, marker='o')\n",
        "plt.title('Silhouette Score for each number of components')\n",
        "plt.xlabel('Number of Components')\n",
        "plt.ylabel('Silhouette Score')\n",
        "\n",
        "plt.tight_layout()\n",
        "\n",
        "# Save the figure as a PDF\n",
        "output_path = \"plot_bic_silhouette.pdf\"\n",
        "plt.savefig(output_path, format='pdf')\n",
        "\n",
        "\n",
        "plt.show()\n",
        "\n",
        "# Select the best model based on the criteria you prefer (AIC, BIC, or silhouette score)\n",
        "best_n_components = component_range[np.argmin(bic_scores)]\n",
        "best_gmm_model = models[best_n_components]\n",
        "print(f\"Best number of components: {best_n_components} based on BIC\")\n"
      ],
      "metadata": {
        "colab": {
          "base_uri": "https://localhost:8080/",
          "height": 566
        },
        "id": "NeOtGMpkN3Ca",
        "outputId": "abc331b2-327e-4182-e9af-f0ff4ffb1100"
      },
      "execution_count": 16,
      "outputs": [
        {
          "output_type": "display_data",
          "data": {
            "text/plain": [
              "<Figure size 1200x600 with 2 Axes>"
            ],
            "image/png": "[encoded data removed]"
          },
          "metadata": {}
        },
        {
          "output_type": "stream",
          "name": "stdout",
          "text": [
            "Best number of components: 10 based on BIC\n"
          ]
        }
      ]
    },
    {
      "cell_type": "markdown",
      "source": [
        "**1.2.3 Combinatiton of hyperparameters**\n",
        "\n",
        "Trying 4 co-variance option: full, tied, diagonal, spherical with the number of cluster range from 2 to 6."
      ],
      "metadata": {
        "id": "S1wM_qf3l9yY"
      }
    },
    {
      "cell_type": "code",
      "source": [
        "#search for best combination of values for both the number of clusters\n",
        "#and the covariance_type hyperparameter:\n",
        "\n",
        "min_bic = np.infty\n",
        "\n",
        "for k in range(1, 10):\n",
        "    for covariance_type in (\"full\", \"tied\", \"spherical\", \"diag\"):\n",
        "        bic = GaussianMixture(n_components=k, n_init=10,\n",
        "                              covariance_type=covariance_type,\n",
        "                              random_state=42).fit(X_train).bic(X_train)\n",
        "        if bic < min_bic:\n",
        "            min_bic = bic\n",
        "            best_k = k\n",
        "            best_covariance_type = covariance_type\n",
        "\n",
        "print('best_k')\n",
        "print(best_k)\n",
        "print('best_covariance_type')\n",
        "print(best_covariance_type)\n",
        "\n"
      ],
      "metadata": {
        "colab": {
          "base_uri": "https://localhost:8080/"
        },
        "id": "bXF81iz1okob",
        "outputId": "7a8baa62-6e26-4274-a315-dc8f63371058"
      },
      "execution_count": 17,
      "outputs": [
        {
          "output_type": "stream",
          "name": "stdout",
          "text": [
            "best_k\n",
            "8\n",
            "best_covariance_type\n",
            "diag\n"
          ]
        }
      ]
    },
    {
      "cell_type": "markdown",
      "source": [
        "**1.3 Initialization of Gaussian Mixture Model**"
      ],
      "metadata": {
        "id": "tjWSIz5DSiag"
      }
    },
    {
      "cell_type": "code",
      "source": [
        "# Initialize the Gaussian Mixture Model with 2 components\n",
        "gmm = GaussianMixture(n_components=8, covariance_type='diag', random_state=42)\n"
      ],
      "metadata": {
        "id": "h8hckZwcSiHG"
      },
      "execution_count": 18,
      "outputs": []
    },
    {
      "cell_type": "code",
      "source": [
        "# Fit the GMM model to the training data (X_train)\n",
        "gmm.fit(X_train)"
      ],
      "metadata": {
        "colab": {
          "base_uri": "https://localhost:8080/",
          "height": 80
        },
        "id": "VOnxtDCEV18O",
        "outputId": "cb07b2b5-cbd6-499a-f713-77b7b669dbe7"
      },
      "execution_count": 19,
      "outputs": [
        {
          "output_type": "execute_result",
          "data": {
            "text/plain": [
              "GaussianMixture(covariance_type='diag', n_components=8, random_state=42)"
            ],
            "text/html": [
              "<style>#sk-container-id-1 {\n",
              "  /* Definition of color scheme common for light and dark mode */\n",
              "  --sklearn-color-text: black;\n",
              "  --sklearn-color-line: gray;\n",
              "  /* Definition of color scheme for unfitted estimators */\n",
              "  --sklearn-color-unfitted-level-0: #fff5e6;\n",
              "  --sklearn-color-unfitted-level-1: #f6e4d2;\n",
              "  --sklearn-color-unfitted-level-2: #ffe0b3;\n",
              "  --sklearn-color-unfitted-level-3: chocolate;\n",
              "  /* Definition of color scheme for fitted estimators */\n",
              "  --sklearn-color-fitted-level-0: #f0f8ff;\n",
              "  --sklearn-color-fitted-level-1: #d4ebff;\n",
              "  --sklearn-color-fitted-level-2: #b3dbfd;\n",
              "  --sklearn-color-fitted-level-3: cornflowerblue;\n",
              "\n",
              "  /* Specific color for light theme */\n",
              "  --sklearn-color-text-on-default-background: var(--sg-text-color, var(--theme-code-foreground, var(--jp-content-font-color1, black)));\n",
              "  --sklearn-color-background: var(--sg-background-color, var(--theme-background, var(--jp-layout-color0, white)));\n",
              "  --sklearn-color-border-box: var(--sg-text-color, var(--theme-code-foreground, var(--jp-content-font-color1, black)));\n",
              "  --sklearn-color-icon: #696969;\n",
              "\n",
              "  @media (prefers-color-scheme: dark) {\n",
              "    /* Redefinition of color scheme for dark theme */\n",
              "    --sklearn-color-text-on-default-background: var(--sg-text-color, var(--theme-code-foreground, var(--jp-content-font-color1, white)));\n",
              "    --sklearn-color-background: var(--sg-background-color, var(--theme-background, var(--jp-layout-color0, #111)));\n",
              "    --sklearn-color-border-box: var(--sg-text-color, var(--theme-code-foreground, var(--jp-content-font-color1, white)));\n",
              "    --sklearn-color-icon: #878787;\n",
              "  }\n",
              "}\n",
              "\n",
              "#sk-container-id-1 {\n",
              "  color: var(--sklearn-color-text);\n",
              "}\n",
              "\n",
              "#sk-container-id-1 pre {\n",
              "  padding: 0;\n",
              "}\n",
              "\n",
              "#sk-container-id-1 input.sk-hidden--visually {\n",
              "  border: 0;\n",
              "  clip: rect(1px 1px 1px 1px);\n",
              "  clip: rect(1px, 1px, 1px, 1px);\n",
              "  height: 1px;\n",
              "  margin: -1px;\n",
              "  overflow: hidden;\n",
              "  padding: 0;\n",
              "  position: absolute;\n",
              "  width: 1px;\n",
              "}\n",
              "\n",
              "#sk-container-id-1 div.sk-dashed-wrapped {\n",
              "  border: 1px dashed var(--sklearn-color-line);\n",
              "  margin: 0 0.4em 0.5em 0.4em;\n",
              "  box-sizing: border-box;\n",
              "  padding-bottom: 0.4em;\n",
              "  background-color: var(--sklearn-color-background);\n",
              "}\n",
              "\n",
              "#sk-container-id-1 div.sk-container {\n",
              "  /* jupyter's `normalize.less` sets `[hidden] { display: none; }`\n",
              "     but bootstrap.min.css set `[hidden] { display: none !important; }`\n",
              "     so we also need the `!important` here to be able to override the\n",
              "     default hidden behavior on the sphinx rendered scikit-learn.org.\n",
              "     See: https://github.com/scikit-learn/scikit-learn/issues/21755 */\n",
              "  display: inline-block !important;\n",
              "  position: relative;\n",
              "}\n",
              "\n",
              "#sk-container-id-1 div.sk-text-repr-fallback {\n",
              "  display: none;\n",
              "}\n",
              "\n",
              "div.sk-parallel-item,\n",
              "div.sk-serial,\n",
              "div.sk-item {\n",
              "  /* draw centered vertical line to link estimators */\n",
              "  background-image: linear-gradient(var(--sklearn-color-text-on-default-background), var(--sklearn-color-text-on-default-background));\n",
              "  background-size: 2px 100%;\n",
              "  background-repeat: no-repeat;\n",
              "  background-position: center center;\n",
              "}\n",
              "\n",
              "/* Parallel-specific style estimator block */\n",
              "\n",
              "#sk-container-id-1 div.sk-parallel-item::after {\n",
              "  content: \"\";\n",
              "  width: 100%;\n",
              "  border-bottom: 2px solid var(--sklearn-color-text-on-default-background);\n",
              "  flex-grow: 1;\n",
              "}\n",
              "\n",
              "#sk-container-id-1 div.sk-parallel {\n",
              "  display: flex;\n",
              "  align-items: stretch;\n",
              "  justify-content: center;\n",
              "  background-color: var(--sklearn-color-background);\n",
              "  position: relative;\n",
              "}\n",
              "\n",
              "#sk-container-id-1 div.sk-parallel-item {\n",
              "  display: flex;\n",
              "  flex-direction: column;\n",
              "}\n",
              "\n",
              "#sk-container-id-1 div.sk-parallel-item:first-child::after {\n",
              "  align-self: flex-end;\n",
              "  width: 50%;\n",
              "}\n",
              "\n",
              "#sk-container-id-1 div.sk-parallel-item:last-child::after {\n",
              "  align-self: flex-start;\n",
              "  width: 50%;\n",
              "}\n",
              "\n",
              "#sk-container-id-1 div.sk-parallel-item:only-child::after {\n",
              "  width: 0;\n",
              "}\n",
              "\n",
              "/* Serial-specific style estimator block */\n",
              "\n",
              "#sk-container-id-1 div.sk-serial {\n",
              "  display: flex;\n",
              "  flex-direction: column;\n",
              "  align-items: center;\n",
              "  background-color: var(--sklearn-color-background);\n",
              "  padding-right: 1em;\n",
              "  padding-left: 1em;\n",
              "}\n",
              "\n",
              "\n",
              "/* Toggleable style: style used for estimator/Pipeline/ColumnTransformer box that is\n",
              "clickable and can be expanded/collapsed.\n",
              "- Pipeline and ColumnTransformer use this feature and define the default style\n",
              "- Estimators will overwrite some part of the style using the `sk-estimator` class\n",
              "*/\n",
              "\n",
              "/* Pipeline and ColumnTransformer style (default) */\n",
              "\n",
              "#sk-container-id-1 div.sk-toggleable {\n",
              "  /* Default theme specific background. It is overwritten whether we have a\n",
              "  specific estimator or a Pipeline/ColumnTransformer */\n",
              "  background-color: var(--sklearn-color-background);\n",
              "}\n",
              "\n",
              "/* Toggleable label */\n",
              "#sk-container-id-1 label.sk-toggleable__label {\n",
              "  cursor: pointer;\n",
              "  display: block;\n",
              "  width: 100%;\n",
              "  margin-bottom: 0;\n",
              "  padding: 0.5em;\n",
              "  box-sizing: border-box;\n",
              "  text-align: center;\n",
              "}\n",
              "\n",
              "#sk-container-id-1 label.sk-toggleable__label-arrow:before {\n",
              "  /* Arrow on the left of the label */\n",
              "  content: \"▸\";\n",
              "  float: left;\n",
              "  margin-right: 0.25em;\n",
              "  color: var(--sklearn-color-icon);\n",
              "}\n",
              "\n",
              "#sk-container-id-1 label.sk-toggleable__label-arrow:hover:before {\n",
              "  color: var(--sklearn-color-text);\n",
              "}\n",
              "\n",
              "/* Toggleable content - dropdown */\n",
              "\n",
              "#sk-container-id-1 div.sk-toggleable__content {\n",
              "  max-height: 0;\n",
              "  max-width: 0;\n",
              "  overflow: hidden;\n",
              "  text-align: left;\n",
              "  /* unfitted */\n",
              "  background-color: var(--sklearn-color-unfitted-level-0);\n",
              "}\n",
              "\n",
              "#sk-container-id-1 div.sk-toggleable__content.fitted {\n",
              "  /* fitted */\n",
              "  background-color: var(--sklearn-color-fitted-level-0);\n",
              "}\n",
              "\n",
              "#sk-container-id-1 div.sk-toggleable__content pre {\n",
              "  margin: 0.2em;\n",
              "  border-radius: 0.25em;\n",
              "  color: var(--sklearn-color-text);\n",
              "  /* unfitted */\n",
              "  background-color: var(--sklearn-color-unfitted-level-0);\n",
              "}\n",
              "\n",
              "#sk-container-id-1 div.sk-toggleable__content.fitted pre {\n",
              "  /* unfitted */\n",
              "  background-color: var(--sklearn-color-fitted-level-0);\n",
              "}\n",
              "\n",
              "#sk-container-id-1 input.sk-toggleable__control:checked~div.sk-toggleable__content {\n",
              "  /* Expand drop-down */\n",
              "  max-height: 200px;\n",
              "  max-width: 100%;\n",
              "  overflow: auto;\n",
              "}\n",
              "\n",
              "#sk-container-id-1 input.sk-toggleable__control:checked~label.sk-toggleable__label-arrow:before {\n",
              "  content: \"▾\";\n",
              "}\n",
              "\n",
              "/* Pipeline/ColumnTransformer-specific style */\n",
              "\n",
              "#sk-container-id-1 div.sk-label input.sk-toggleable__control:checked~label.sk-toggleable__label {\n",
              "  color: var(--sklearn-color-text);\n",
              "  background-color: var(--sklearn-color-unfitted-level-2);\n",
              "}\n",
              "\n",
              "#sk-container-id-1 div.sk-label.fitted input.sk-toggleable__control:checked~label.sk-toggleable__label {\n",
              "  background-color: var(--sklearn-color-fitted-level-2);\n",
              "}\n",
              "\n",
              "/* Estimator-specific style */\n",
              "\n",
              "/* Colorize estimator box */\n",
              "#sk-container-id-1 div.sk-estimator input.sk-toggleable__control:checked~label.sk-toggleable__label {\n",
              "  /* unfitted */\n",
              "  background-color: var(--sklearn-color-unfitted-level-2);\n",
              "}\n",
              "\n",
              "#sk-container-id-1 div.sk-estimator.fitted input.sk-toggleable__control:checked~label.sk-toggleable__label {\n",
              "  /* fitted */\n",
              "  background-color: var(--sklearn-color-fitted-level-2);\n",
              "}\n",
              "\n",
              "#sk-container-id-1 div.sk-label label.sk-toggleable__label,\n",
              "#sk-container-id-1 div.sk-label label {\n",
              "  /* The background is the default theme color */\n",
              "  color: var(--sklearn-color-text-on-default-background);\n",
              "}\n",
              "\n",
              "/* On hover, darken the color of the background */\n",
              "#sk-container-id-1 div.sk-label:hover label.sk-toggleable__label {\n",
              "  color: var(--sklearn-color-text);\n",
              "  background-color: var(--sklearn-color-unfitted-level-2);\n",
              "}\n",
              "\n",
              "/* Label box, darken color on hover, fitted */\n",
              "#sk-container-id-1 div.sk-label.fitted:hover label.sk-toggleable__label.fitted {\n",
              "  color: var(--sklearn-color-text);\n",
              "  background-color: var(--sklearn-color-fitted-level-2);\n",
              "}\n",
              "\n",
              "/* Estimator label */\n",
              "\n",
              "#sk-container-id-1 div.sk-label label {\n",
              "  font-family: monospace;\n",
              "  font-weight: bold;\n",
              "  display: inline-block;\n",
              "  line-height: 1.2em;\n",
              "}\n",
              "\n",
              "#sk-container-id-1 div.sk-label-container {\n",
              "  text-align: center;\n",
              "}\n",
              "\n",
              "/* Estimator-specific */\n",
              "#sk-container-id-1 div.sk-estimator {\n",
              "  font-family: monospace;\n",
              "  border: 1px dotted var(--sklearn-color-border-box);\n",
              "  border-radius: 0.25em;\n",
              "  box-sizing: border-box;\n",
              "  margin-bottom: 0.5em;\n",
              "  /* unfitted */\n",
              "  background-color: var(--sklearn-color-unfitted-level-0);\n",
              "}\n",
              "\n",
              "#sk-container-id-1 div.sk-estimator.fitted {\n",
              "  /* fitted */\n",
              "  background-color: var(--sklearn-color-fitted-level-0);\n",
              "}\n",
              "\n",
              "/* on hover */\n",
              "#sk-container-id-1 div.sk-estimator:hover {\n",
              "  /* unfitted */\n",
              "  background-color: var(--sklearn-color-unfitted-level-2);\n",
              "}\n",
              "\n",
              "#sk-container-id-1 div.sk-estimator.fitted:hover {\n",
              "  /* fitted */\n",
              "  background-color: var(--sklearn-color-fitted-level-2);\n",
              "}\n",
              "\n",
              "/* Specification for estimator info (e.g. \"i\" and \"?\") */\n",
              "\n",
              "/* Common style for \"i\" and \"?\" */\n",
              "\n",
              ".sk-estimator-doc-link,\n",
              "a:link.sk-estimator-doc-link,\n",
              "a:visited.sk-estimator-doc-link {\n",
              "  float: right;\n",
              "  font-size: smaller;\n",
              "  line-height: 1em;\n",
              "  font-family: monospace;\n",
              "  background-color: var(--sklearn-color-background);\n",
              "  border-radius: 1em;\n",
              "  height: 1em;\n",
              "  width: 1em;\n",
              "  text-decoration: none !important;\n",
              "  margin-left: 1ex;\n",
              "  /* unfitted */\n",
              "  border: var(--sklearn-color-unfitted-level-1) 1pt solid;\n",
              "  color: var(--sklearn-color-unfitted-level-1);\n",
              "}\n",
              "\n",
              ".sk-estimator-doc-link.fitted,\n",
              "a:link.sk-estimator-doc-link.fitted,\n",
              "a:visited.sk-estimator-doc-link.fitted {\n",
              "  /* fitted */\n",
              "  border: var(--sklearn-color-fitted-level-1) 1pt solid;\n",
              "  color: var(--sklearn-color-fitted-level-1);\n",
              "}\n",
              "\n",
              "/* On hover */\n",
              "div.sk-estimator:hover .sk-estimator-doc-link:hover,\n",
              ".sk-estimator-doc-link:hover,\n",
              "div.sk-label-container:hover .sk-estimator-doc-link:hover,\n",
              ".sk-estimator-doc-link:hover {\n",
              "  /* unfitted */\n",
              "  background-color: var(--sklearn-color-unfitted-level-3);\n",
              "  color: var(--sklearn-color-background);\n",
              "  text-decoration: none;\n",
              "}\n",
              "\n",
              "div.sk-estimator.fitted:hover .sk-estimator-doc-link.fitted:hover,\n",
              ".sk-estimator-doc-link.fitted:hover,\n",
              "div.sk-label-container:hover .sk-estimator-doc-link.fitted:hover,\n",
              ".sk-estimator-doc-link.fitted:hover {\n",
              "  /* fitted */\n",
              "  background-color: var(--sklearn-color-fitted-level-3);\n",
              "  color: var(--sklearn-color-background);\n",
              "  text-decoration: none;\n",
              "}\n",
              "\n",
              "/* Span, style for the box shown on hovering the info icon */\n",
              ".sk-estimator-doc-link span {\n",
              "  display: none;\n",
              "  z-index: 9999;\n",
              "  position: relative;\n",
              "  font-weight: normal;\n",
              "  right: .2ex;\n",
              "  padding: .5ex;\n",
              "  margin: .5ex;\n",
              "  width: min-content;\n",
              "  min-width: 20ex;\n",
              "  max-width: 50ex;\n",
              "  color: var(--sklearn-color-text);\n",
              "  box-shadow: 2pt 2pt 4pt #999;\n",
              "  /* unfitted */\n",
              "  background: var(--sklearn-color-unfitted-level-0);\n",
              "  border: .5pt solid var(--sklearn-color-unfitted-level-3);\n",
              "}\n",
              "\n",
              ".sk-estimator-doc-link.fitted span {\n",
              "  /* fitted */\n",
              "  background: var(--sklearn-color-fitted-level-0);\n",
              "  border: var(--sklearn-color-fitted-level-3);\n",
              "}\n",
              "\n",
              ".sk-estimator-doc-link:hover span {\n",
              "  display: block;\n",
              "}\n",
              "\n",
              "/* \"?\"-specific style due to the `<a>` HTML tag */\n",
              "\n",
              "#sk-container-id-1 a.estimator_doc_link {\n",
              "  float: right;\n",
              "  font-size: 1rem;\n",
              "  line-height: 1em;\n",
              "  font-family: monospace;\n",
              "  background-color: var(--sklearn-color-background);\n",
              "  border-radius: 1rem;\n",
              "  height: 1rem;\n",
              "  width: 1rem;\n",
              "  text-decoration: none;\n",
              "  /* unfitted */\n",
              "  color: var(--sklearn-color-unfitted-level-1);\n",
              "  border: var(--sklearn-color-unfitted-level-1) 1pt solid;\n",
              "}\n",
              "\n",
              "#sk-container-id-1 a.estimator_doc_link.fitted {\n",
              "  /* fitted */\n",
              "  border: var(--sklearn-color-fitted-level-1) 1pt solid;\n",
              "  color: var(--sklearn-color-fitted-level-1);\n",
              "}\n",
              "\n",
              "/* On hover */\n",
              "#sk-container-id-1 a.estimator_doc_link:hover {\n",
              "  /* unfitted */\n",
              "  background-color: var(--sklearn-color-unfitted-level-3);\n",
              "  color: var(--sklearn-color-background);\n",
              "  text-decoration: none;\n",
              "}\n",
              "\n",
              "#sk-container-id-1 a.estimator_doc_link.fitted:hover {\n",
              "  /* fitted */\n",
              "  background-color: var(--sklearn-color-fitted-level-3);\n",
              "}\n",
              "</style><div id=\"sk-container-id-1\" class=\"sk-top-container\"><div class=\"sk-text-repr-fallback\"><pre>GaussianMixture(covariance_type=&#x27;diag&#x27;, n_components=8, random_state=42)</pre><b>In a Jupyter environment, please rerun this cell to show the HTML representation or trust the notebook. <br />On GitHub, the HTML representation is unable to render, please try loading this page with nbviewer.org.</b></div><div class=\"sk-container\" hidden><div class=\"sk-item\"><div class=\"sk-estimator fitted sk-toggleable\"><input class=\"sk-toggleable__control sk-hidden--visually\" id=\"sk-estimator-id-1\" type=\"checkbox\" checked><label for=\"sk-estimator-id-1\" class=\"sk-toggleable__label fitted sk-toggleable__label-arrow fitted\">&nbsp;&nbsp;GaussianMixture<a class=\"sk-estimator-doc-link fitted\" rel=\"noreferrer\" target=\"_blank\" href=\"https://scikit-learn.org/1.5/modules/generated/sklearn.mixture.GaussianMixture.html\">?<span>Documentation for GaussianMixture</span></a><span class=\"sk-estimator-doc-link fitted\">i<span>Fitted</span></span></label><div class=\"sk-toggleable__content fitted\"><pre>GaussianMixture(covariance_type=&#x27;diag&#x27;, n_components=8, random_state=42)</pre></div> </div></div></div></div>"
            ]
          },
          "metadata": {},
          "execution_count": 19
        }
      ]
    },
    {
      "cell_type": "code",
      "source": [
        "# Print the GMM parameters\n",
        "print(\"Means of the components:\\n\", gmm.means_)\n",
        "print(\"\\nCovariances of the components:\\n\", gmm.covariances_)\n",
        "print(\"\\nWeights of the components:\\n\", gmm.weights_)\n",
        "\n",
        "# Predict the component labels for each data point\n",
        "component = gmm.predict(X_train)\n",
        "proba = gmm.predict_proba(X_train)\n",
        "\n",
        "# Display the predicted labels\n",
        "print(\"Predicted component labels for the data points:\\n\", labels)\n",
        "print(\"Predicted probabilities for each component:\\n\", proba)"
      ],
      "metadata": {
        "colab": {
          "base_uri": "https://localhost:8080/"
        },
        "id": "26kXnZhmV7JF",
        "outputId": "972acd48-677c-437a-c2d5-8441e3501501"
      },
      "execution_count": 20,
      "outputs": [
        {
          "output_type": "stream",
          "name": "stdout",
          "text": [
            "Means of the components:\n",
            " [[ 1.          0.        ]\n",
            " [ 4.02310994  1.        ]\n",
            " [ 0.          0.        ]\n",
            " [11.19383785  0.        ]\n",
            " [ 3.33002105  0.        ]\n",
            " [56.56373551  0.        ]\n",
            " [ 3.76513475  3.23265264]\n",
            " [ 2.45491163 21.14713974]]\n",
            "\n",
            "Covariances of the components:\n",
            " [[1.00000002e-06 1.00000000e-06]\n",
            " [1.58112535e+02 1.00000000e-06]\n",
            " [1.00000000e-06 1.00000000e-06]\n",
            " [2.34858482e+01 1.00000000e-06]\n",
            " [3.36211884e+00 1.00000000e-06]\n",
            " [3.25761631e+03 1.00000000e-06]\n",
            " [6.02570354e+01 3.44114872e+00]\n",
            " [1.12184812e+01 4.35347544e+02]]\n",
            "\n",
            "Weights of the components:\n",
            " [2.05249726e-02 3.49143572e-03 9.32292812e-01 1.20914860e-02\n",
            " 2.67667460e-02 2.15158838e-03 2.15434272e-03 5.26616402e-04]\n",
            "Predicted component labels for the data points:\n",
            " [2 2 2 ... 2 2 2]\n",
            "Predicted probabilities for each component:\n",
            " [[0.00000000e+00 0.00000000e+00 9.99996780e-01 ... 2.47448660e-08\n",
            "  3.12527616e-11 3.69695131e-12]\n",
            " [0.00000000e+00 0.00000000e+00 9.99996780e-01 ... 2.47448660e-08\n",
            "  3.12527616e-11 3.69695131e-12]\n",
            " [0.00000000e+00 0.00000000e+00 9.99996780e-01 ... 2.47448660e-08\n",
            "  3.12527616e-11 3.69695131e-12]\n",
            " ...\n",
            " [0.00000000e+00 0.00000000e+00 9.99996780e-01 ... 2.47448660e-08\n",
            "  3.12527616e-11 3.69695131e-12]\n",
            " [0.00000000e+00 0.00000000e+00 9.99996780e-01 ... 2.47448660e-08\n",
            "  3.12527616e-11 3.69695131e-12]\n",
            " [0.00000000e+00 0.00000000e+00 9.99996780e-01 ... 2.47448660e-08\n",
            "  3.12527616e-11 3.69695131e-12]]\n"
          ]
        }
      ]
    },
    {
      "cell_type": "markdown",
      "source": [
        "**1.4 Evaluation of the model**"
      ],
      "metadata": {
        "id": "1JyB3qBCbKcZ"
      }
    },
    {
      "cell_type": "code",
      "source": [
        "# Evaluate the log-likelihood of the trained GMM\n",
        "log_likelihood = gmm.score(X_train)\n",
        "print(f'Log-Likelihood: {log_likelihood}')\n",
        "\n",
        "# Get the labels predicted by the GMM\n",
        "labels = gmm.predict(X_train)\n",
        "\n",
        "# Compute silhouette score\n",
        "silhouette = silhouette_score(X_train, labels)\n",
        "print(f'Silhouette Score: {silhouette}')\n"
      ],
      "metadata": {
        "colab": {
          "base_uri": "https://localhost:8080/"
        },
        "id": "PkQqRy_WbY8D",
        "outputId": "72780185-9ec4-476b-8249-0f0bdf71e9a1"
      },
      "execution_count": 21,
      "outputs": [
        {
          "output_type": "stream",
          "name": "stdout",
          "text": [
            "Log-Likelihood: 11.212202496267142\n",
            "Silhouette Score: 0.9553915930556737\n"
          ]
        }
      ]
    },
    {
      "cell_type": "code",
      "source": [
        "Valid_score = gmm.score(X_valid)  # Log-likelihood score on test data\n",
        "Valid_labels = gmm.predict(X_valid)  # Cluster labels for test data\n",
        "silhouette = silhouette_score(X_valid, Valid_labels)  # Silhouette score\n",
        "\n",
        "print(f\"Log-likelihood on test set: {Valid_score}\")\n",
        "print(f\"Silhouette score on test set: {silhouette}\")"
      ],
      "metadata": {
        "colab": {
          "base_uri": "https://localhost:8080/"
        },
        "id": "Eug7gY1dqxTo",
        "outputId": "b17ed78b-91f8-470f-89fa-bb6f0ddc309b"
      },
      "execution_count": 22,
      "outputs": [
        {
          "output_type": "stream",
          "name": "stdout",
          "text": [
            "Log-likelihood on test set: 11.281987012827903\n",
            "Silhouette score on test set: 0.9652564251318809\n"
          ]
        }
      ]
    },
    {
      "cell_type": "code",
      "source": [
        "test_score = gmm.score(X_test)  # Log-likelihood score on test data\n",
        "test_labels = gmm.predict(X_test)  # Cluster labels for test data\n",
        "silhouette = silhouette_score(X_test, test_labels)  # Silhouette score\n",
        "\n",
        "print(f\"Log-likelihood on test set: {test_score}\")\n",
        "print(f\"Silhouette score on test set: {silhouette}\")\n"
      ],
      "metadata": {
        "colab": {
          "base_uri": "https://localhost:8080/"
        },
        "id": "-o-4Ce9de3-w",
        "outputId": "4320a23b-6289-477a-d839-30078aaa8f1e"
      },
      "execution_count": 23,
      "outputs": [
        {
          "output_type": "stream",
          "name": "stdout",
          "text": [
            "Log-likelihood on test set: 10.226253843393126\n",
            "Silhouette score on test set: 0.8921285532775505\n"
          ]
        }
      ]
    },
    {
      "cell_type": "code",
      "source": [
        "# Calculate BIC for training data\n",
        "train_bic = gmm.bic(train_data)\n",
        "print(f\"BIC (Train): {train_bic}\")\n",
        "\n",
        "# Similarly, calculate BIC for validation and test data\n",
        "val_bic = gmm.bic(val_data)\n",
        "print(f\"BIC (Validation): {val_bic}\")\n",
        "\n",
        "test_bic = gmm.bic(test_data)\n",
        "print(f\"BIC (Test): {test_bic}\")\n"
      ],
      "metadata": {
        "colab": {
          "base_uri": "https://localhost:8080/"
        },
        "id": "0IV_O0ueoAnj",
        "outputId": "9b91b197-bbc8-46a9-87a5-6eeed647316b"
      },
      "execution_count": 24,
      "outputs": [
        {
          "output_type": "stream",
          "name": "stdout",
          "text": [
            "BIC (Train): -2124938.191958274\n",
            "BIC (Validation): -457887.476583541\n",
            "BIC (Test): -415024.0458285981\n"
          ]
        }
      ]
    },
    {
      "cell_type": "markdown",
      "source": [
        "**1.5 Anomalies identification**"
      ],
      "metadata": {
        "id": "1YUclHVWrutA"
      }
    },
    {
      "cell_type": "code",
      "source": [
        "# Compute log-probabilities for data\n",
        "log_probs = gmm.score_samples(X_train)"
      ],
      "metadata": {
        "id": "U09ZApQpr15t"
      },
      "execution_count": 32,
      "outputs": []
    },
    {
      "cell_type": "code",
      "source": [
        "threshold = np.percentile(gmm.score_samples(X_train), 0.05)  # 5th percentile\n",
        "anomalies = X_train[log_probs < threshold]\n",
        "print(anomalies.shape)"
      ],
      "metadata": {
        "colab": {
          "base_uri": "https://localhost:8080/"
        },
        "id": "XsrxcsYRr-hj",
        "outputId": "556c04da-7654-48b6-aba9-71a377a01756"
      },
      "execution_count": 33,
      "outputs": [
        {
          "output_type": "stream",
          "name": "stdout",
          "text": [
            "(48, 2)\n"
          ]
        }
      ]
    },
    {
      "cell_type": "markdown",
      "source": [
        "**1.6 Visualization**"
      ],
      "metadata": {
        "id": "SQJPXhV-A688"
      }
    },
    {
      "cell_type": "code",
      "source": [
        "# Ensure grid_points has the correct feature names, if necessary.\n",
        "\n",
        "# Determine the full range of data\n",
        "x_min = min(X_train['Precipitation_geopolis'].min(), anomalies['Precipitation_geopolis'].min()) - 10\n",
        "x_max = max(X_train['Precipitation_geopolis'].max(), anomalies['Precipitation_geopolis'].max()) + 10\n",
        "y_min = min(X_train['Precipitation_vclb'].min(), anomalies['Precipitation_vclb'].min()) - 10\n",
        "y_max = max(X_train['Precipitation_vclb'].max(), anomalies['Precipitation_vclb'].max()) + 10\n",
        "\n",
        "# Create grid points for contours within the new limits\n",
        "xx, yy = np.meshgrid(np.linspace(x_min, x_max, 300), np.linspace(y_min, y_max, 300))\n",
        "grid_points = np.vstack([xx.ravel(), yy.ravel()]).T\n",
        "grid_points_named = pd.DataFrame(grid_points, columns=['Precipitation_geopolis', 'Precipitation_vclb'])\n",
        "\n",
        "# Compute density and reshape\n",
        "Z = gmm.score_samples(grid_points_named)\n",
        "Z = np.exp(Z)\n",
        "Z = Z.reshape(xx.shape)\n",
        "\n",
        "# Plotting\n",
        "plt.figure(figsize=(10, 8))\n",
        "contour = plt.contourf(xx, yy, Z, levels=np.logspace(-11, -2, 20), cmap='Blues', norm=LogNorm(), alpha=0.7)\n",
        "plt.colorbar(contour, label=\"Log Density\")\n",
        "\n",
        "plt.scatter(X_train['Precipitation_geopolis'], X_train['Precipitation_vclb'],\n",
        "            c=labels, cmap='viridis', s=10, alpha=0.7, label=\"Data\")\n",
        "plt.scatter(anomalies['Precipitation_geopolis'], anomalies['Precipitation_vclb'],\n",
        "            c=\"red\", s=50, marker='*', edgecolor='black', label=\"Anomalies\")\n",
        "\n",
        "# Set axis limits\n",
        "plt.xlim(x_min, x_max)\n",
        "plt.ylim(y_min, y_max)\n",
        "\n",
        "plt.title(\"Gaussian Mixture Model: Density and Anomalies\", fontsize=14)\n",
        "plt.xlabel(\"Precipitation at geopolis (mm)\", fontsize=12)\n",
        "plt.ylabel(\"Precipitation at vclb (mm)\", fontsize=12)\n",
        "plt.legend(loc='upper left', fontsize=10, frameon=True)\n",
        "plt.tight_layout()\n",
        "\n",
        "# Save the figure as a PDF\n",
        "output_path2 = \"anomalies_improved_noncorr.pdf\"\n",
        "plt.savefig(output_path2, format='pdf')\n",
        "\n",
        "plt.show()"
      ],
      "metadata": {
        "colab": {
          "base_uri": "https://localhost:8080/",
          "height": 843
        },
        "id": "bGHL_T6I6zJY",
        "outputId": "8799501f-dd26-4c13-ca1b-3c5af2f0c0d1"
      },
      "execution_count": 37,
      "outputs": [
        {
          "output_type": "stream",
          "name": "stderr",
          "text": [
            "<ipython-input-37-899f2b6b595c>:21: UserWarning: Log scale: values of z <= 0 have been masked\n",
            "  contour = plt.contourf(xx, yy, Z, levels=np.logspace(-11, -2, 20), cmap='Blues', norm=LogNorm(), alpha=0.7)\n"
          ]
        },
        {
          "output_type": "display_data",
          "data": {
            "text/plain": [
              "<Figure size 1000x800 with 2 Axes>"
            ],
            "image/png": "[encoded data removed]"
          },
          "metadata": {}
        }
      ]
    },
    {
      "cell_type": "code",
      "source": [
        "print(f\"x_min: {x_min}, x_max: {x_max}\")\n",
        "print(f\"y_min: {y_min}, y_max: {y_max}\")"
      ],
      "metadata": {
        "colab": {
          "base_uri": "https://localhost:8080/"
        },
        "id": "o4bgc8jmOOg6",
        "outputId": "70472972-3d07-4f7e-83ca-db563bc7150c"
      },
      "execution_count": 38,
      "outputs": [
        {
          "output_type": "stream",
          "name": "stdout",
          "text": [
            "x_min: -10.0, x_max: 357.0\n",
            "y_min: -10.0, y_max: 123.0\n"
          ]
        }
      ]
    }
  ]
}